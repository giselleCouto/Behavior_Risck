{
 "cells": [
  {
   "cell_type": "markdown",
   "id": "a77a4000",
   "metadata": {},
   "source": [
    "# Bibliotecas"
   ]
  },
  {
   "cell_type": "code",
   "execution_count": 1,
   "id": "0c3ee0a2",
   "metadata": {},
   "outputs": [],
   "source": [
    "## Pandas \n",
    "import pandas as pd\n",
    "import numpy as np\n",
    "import seaborn as sns # Alternativa pra gerar gráficos\n",
    "import matplotlib.pyplot as plot\n",
    "from dfply import *\n",
    "from math import sqrt\n",
    "import random # semente\n",
    "\n",
    "pd.set_option('display.max_columns', None) # permite a vizualiçaõ de todas as colunas\n",
    "\n",
    "# permite a vizualiçaõ de números flutuantes com duas casas decimais\n",
    "pd.set_option('display.float_format', '{:.2f}'.format)\n",
    "\n",
    "# Monitoramento de drift de dados\n",
    "from evidently import ColumnMapping\n",
    "from evidently.report import Report\n",
    "from evidently.metric_preset import DataDriftPreset, ClassificationPreset\n",
    "from datetime import datetime\n",
    "hoje = datetime.today().strftime(\"%Y%m\")\n",
    "\n",
    "np.random.seed(2025)\n",
    "random.seed(2025)"
   ]
  },
  {
   "cell_type": "markdown",
   "id": "a0a55095",
   "metadata": {},
   "source": [
    "# Monitoramento"
   ]
  },
  {
   "cell_type": "code",
   "execution_count": 8,
   "id": "373d6572",
   "metadata": {},
   "outputs": [],
   "source": [
    "relatorio_prob_inad_train = pd.read_csv('C:/Users/fernando.monteiro/deep-torch-example/KAB/Behavior_KAB/Desenvolvimento/relatorio_prob_inad_train.csv')  # Carregar dados de referência\n",
    "relatorio_prob_inad = pd.read_csv('C:/Users/fernando.monteiro/deep-torch-example/KAB/Behavior_KAB/relatorio_prob_inad_202507.csv')  # Carregar dados atuais\n",
    "df_ref=relatorio_prob_inad_train[['inad_e_reneg','inad_e_reneg_prev','meses_ultimo_pagamento', 'produtos','valor_pago_nr', 'mean_dias_maior_atraso',\n",
    "                'media_meses_entre_contratos_combinado', 'qtd_contratos_nr','idade', 'tempo_relacionamento_kredilig_meses',\n",
    "                'canal_origem', 'valor_principal_total_nr','ocupacao','tipo_valor_entrada','estado_civil','possui_contratos_a_vista']]\n",
    "df_atual=relatorio_prob_inad[['inad_e_reneg','inad_e_reneg_prev','meses_ultimo_pagamento', 'produtos','valor_pago_nr', 'mean_dias_maior_atraso',\n",
    "                'media_meses_entre_contratos_combinado', 'qtd_contratos_nr','idade', 'tempo_relacionamento_kredilig_meses',\n",
    "                'canal_origem', 'valor_principal_total_nr','ocupacao','tipo_valor_entrada','estado_civil','possui_contratos_a_vista']]"
   ]
  },
  {
   "cell_type": "code",
   "execution_count": 5,
   "id": "2f43c804",
   "metadata": {},
   "outputs": [],
   "source": [
    "# Configuração Evidently\n",
    "column_mapping = ColumnMapping()\n",
    "column_mapping.target = 'inad_e_reneg'  # Nome da coluna alvo\n",
    "column_mapping.prediction = 'inad_e_reneg_prev'  # Nome da coluna de predição\n",
    "column_mapping.numerical_features = ['meses_ultimo_pagamento', 'produtos','valor_pago_nr', 'mean_dias_maior_atraso',\n",
    "                'media_meses_entre_contratos_combinado', 'qtd_contratos_nr','idade', 'tempo_relacionamento_kredilig_meses',\n",
    "                'canal_origem', 'valor_principal_total_nr','ocupacao','tipo_valor_entrada','estado_civil','possui_contratos_a_vista']\n",
    "  # Lista de features\n",
    "\n",
    "# Configuração do relatório\n",
    "report = Report(metrics=[\n",
    "    DataDriftPreset(),\n",
    "    ClassificationPreset(),\n",
    "])\n",
    "\n",
    "report.run(current_data=df_atual, reference_data=df_ref, column_mapping=column_mapping) # Gerar relatório de drift"
   ]
  },
  {
   "cell_type": "code",
   "execution_count": 14,
   "id": "6056f483",
   "metadata": {},
   "outputs": [],
   "source": [
    "#report.show() # Exibir relatório"
   ]
  },
  {
   "cell_type": "code",
   "execution_count": 6,
   "id": "22a218d2",
   "metadata": {},
   "outputs": [],
   "source": [
    "# Gerar relatório em HTML\n",
    "report.path=f'ml_model_report_{hoje}.html'\n",
    "report.save_html(report.path)"
   ]
  }
 ],
 "metadata": {
  "kernelspec": {
   "display_name": ".venv",
   "language": "python",
   "name": "python3"
  },
  "language_info": {
   "codemirror_mode": {
    "name": "ipython",
    "version": 3
   },
   "file_extension": ".py",
   "mimetype": "text/x-python",
   "name": "python",
   "nbconvert_exporter": "python",
   "pygments_lexer": "ipython3",
   "version": "3.12.4"
  }
 },
 "nbformat": 4,
 "nbformat_minor": 5
}
