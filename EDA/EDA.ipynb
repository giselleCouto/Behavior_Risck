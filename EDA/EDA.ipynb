{
 "cells": [
  {
   "cell_type": "code",
   "execution_count": 2,
   "id": "cffb712f",
   "metadata": {},
   "outputs": [],
   "source": [
    "#!pip install pyspark\n",
    "#!pip install findspark\n",
    "import pyspark\n",
    "import findspark\n",
    "from pyspark.sql import SparkSession\n",
    "from pyspark.sql.functions import *\n",
    "import matplotlib.pyplot as plot\n",
    "import pandas as pd\n",
    "import setuptools\n",
    "from functools import reduce #nulos\n",
    "from pyspark.sql.types import DoubleType # Utilizado para converter para double"
   ]
  },
  {
   "cell_type": "code",
   "execution_count": 3,
   "id": "9621fdc4",
   "metadata": {},
   "outputs": [],
   "source": [
    "findspark.init()"
   ]
  },
  {
   "cell_type": "code",
   "execution_count": 4,
   "id": "ee74922e",
   "metadata": {},
   "outputs": [
    {
     "data": {
      "text/html": [
       "\n",
       "            <div>\n",
       "                <p><b>SparkSession - in-memory</b></p>\n",
       "                \n",
       "        <div>\n",
       "            <p><b>SparkContext</b></p>\n",
       "\n",
       "            <p><a href=\"http://BHSBI-RJ103GQHX:4042\">Spark UI</a></p>\n",
       "\n",
       "            <dl>\n",
       "              <dt>Version</dt>\n",
       "                <dd><code>v3.5.5</code></dd>\n",
       "              <dt>Master</dt>\n",
       "                <dd><code>local[*]</code></dd>\n",
       "              <dt>AppName</dt>\n",
       "                <dd><code>pyspark-shell</code></dd>\n",
       "            </dl>\n",
       "        </div>\n",
       "        \n",
       "            </div>\n",
       "        "
      ],
      "text/plain": [
       "<pyspark.sql.session.SparkSession at 0x199866e5e80>"
      ]
     },
     "execution_count": 4,
     "metadata": {},
     "output_type": "execute_result"
    }
   ],
   "source": [
    "spark=SparkSession.builder.getOrCreate()\n",
    "spark"
   ]
  },
  {
   "cell_type": "code",
   "execution_count": 58,
   "id": "7cb99b6a",
   "metadata": {},
   "outputs": [],
   "source": [
    "#spark.stop()"
   ]
  },
  {
   "cell_type": "markdown",
   "id": "b7095c89",
   "metadata": {},
   "source": [
    "## CARTAO - Base Cadastro"
   ]
  },
  {
   "cell_type": "code",
   "execution_count": 4,
   "id": "3f2c7872",
   "metadata": {},
   "outputs": [
    {
     "name": "stderr",
     "output_type": "stream",
     "text": [
      "<>:9: SyntaxWarning: invalid escape sequence '\\.'\n",
      "<>:9: SyntaxWarning: invalid escape sequence '\\.'\n",
      "C:\\Users\\fernando.monteiro\\AppData\\Local\\Temp\\ipykernel_15280\\2393632307.py:9: SyntaxWarning: invalid escape sequence '\\.'\n",
      "  regexp_replace(col(nome_coluna), \"\\.\", \"\")\n"
     ]
    },
    {
     "name": "stdout",
     "output_type": "stream",
     "text": [
      "root\n",
      " |-- ANO_MES_MOVIMENTO: timestamp (nullable = true)\n",
      " |-- DATA_MOVIMENTO: string (nullable = true)\n",
      " |-- CPF_CNPJ: double (nullable = true)\n",
      " |-- SEXO: string (nullable = true)\n",
      " |-- IDADE: integer (nullable = true)\n",
      " |-- ESTADO_CIVIL: string (nullable = true)\n",
      " |-- GRAU_ESCOLARIDADE: string (nullable = true)\n",
      " |-- NATUREZA_OCUPACAO: string (nullable = true)\n",
      " |-- RENDA_DIGITADA: double (nullable = true)\n",
      " |-- RENDA_VALIDA: double (nullable = true)\n",
      " |-- NACIONALIDADE: string (nullable = true)\n",
      " |-- UF_RESIDENCIA: string (nullable = true)\n",
      " |-- CIDADE_RESIDENCIA: string (nullable = true)\n",
      " |-- FILIAL: string (nullable = true)\n",
      " |-- TEMPO_RELACIONAMENTO_KREDILIG: integer (nullable = true)\n",
      " |-- TEMPO_INATIVIDADE_KREDILIG: integer (nullable = true)\n",
      " |-- BLACKLIST: string (nullable = true)\n",
      " |-- DATA_ABERTURA_CONTA: string (nullable = true)\n",
      " |-- SITUACAO_CONTA: string (nullable = true)\n",
      " |-- MOTIVO_SITUACAO_CONTA: string (nullable = true)\n",
      " |-- CANAL_ORIGEM: string (nullable = true)\n",
      " |-- NIVEL_DE_RISCO: string (nullable = true)\n",
      " |-- SCORE: double (nullable = true)\n",
      " |-- ORIGEM_SCORE: string (nullable = true)\n",
      " |-- LIMITE_TOTAL: double (nullable = true)\n",
      " |-- LIMITE_A_VISTA: double (nullable = true)\n",
      " |-- LIMITE_SAQUE: double (nullable = true)\n",
      " |-- LIMITE_MENSAL: double (nullable = true)\n",
      " |-- LIMITE_TOTAL_UTILIZADO: double (nullable = true)\n",
      " |-- LIMITE_A_VISTA_UTILIZADO: double (nullable = true)\n",
      " |-- LIMITE_SAQUE_UTILIZADO: double (nullable = true)\n",
      " |-- LIMITE_MENSAL_UTILIZADO: double (nullable = true)\n",
      " |-- LIMITE_TOTAL_DISPONIVEL: double (nullable = true)\n",
      " |-- LIMITE_A_VISTA_DISPONIVEL: double (nullable = true)\n",
      " |-- LIMITE_SAQUE_DISPONIVEL: double (nullable = true)\n",
      " |-- LIMITE_MENSAL_DISPONIVEL: double (nullable = true)\n",
      " |-- DATA_ULTIMA_ALTERACAO_LIMITE: string (nullable = true)\n",
      " |-- ORIGEM_ALTERACAO_LIMITE: string (nullable = true)\n",
      " |-- SITUACAO_FATURA: string (nullable = true)\n",
      " |-- HISTORICO_COBRANCA: string (nullable = true)\n",
      "\n",
      "+-------------------+--------------+---------------+----+-----+-------------+--------------------+--------------------+--------------+------------+-------------+-------------+--------------------+------+-----------------------------+--------------------------+---------+-------------------+--------------+---------------------+------------+--------------+-----+------------+------------+--------------+------------+-------------+----------------------+------------------------+----------------------+-----------------------+-----------------------+-------------------------+-----------------------+------------------------+----------------------------+-----------------------+---------------+------------------+\n",
      "|  ANO_MES_MOVIMENTO|DATA_MOVIMENTO|       CPF_CNPJ|SEXO|IDADE| ESTADO_CIVIL|   GRAU_ESCOLARIDADE|   NATUREZA_OCUPACAO|RENDA_DIGITADA|RENDA_VALIDA|NACIONALIDADE|UF_RESIDENCIA|   CIDADE_RESIDENCIA|FILIAL|TEMPO_RELACIONAMENTO_KREDILIG|TEMPO_INATIVIDADE_KREDILIG|BLACKLIST|DATA_ABERTURA_CONTA|SITUACAO_CONTA|MOTIVO_SITUACAO_CONTA|CANAL_ORIGEM|NIVEL_DE_RISCO|SCORE|ORIGEM_SCORE|LIMITE_TOTAL|LIMITE_A_VISTA|LIMITE_SAQUE|LIMITE_MENSAL|LIMITE_TOTAL_UTILIZADO|LIMITE_A_VISTA_UTILIZADO|LIMITE_SAQUE_UTILIZADO|LIMITE_MENSAL_UTILIZADO|LIMITE_TOTAL_DISPONIVEL|LIMITE_A_VISTA_DISPONIVEL|LIMITE_SAQUE_DISPONIVEL|LIMITE_MENSAL_DISPONIVEL|DATA_ULTIMA_ALTERACAO_LIMITE|ORIGEM_ALTERACAO_LIMITE|SITUACAO_FATURA|HISTORICO_COBRANCA|\n",
      "+-------------------+--------------+---------------+----+-----+-------------+--------------------+--------------------+--------------+------------+-------------+-------------+--------------------+------+-----------------------------+--------------------------+---------+-------------------+--------------+---------------------+------------+--------------+-----+------------+------------+--------------+------------+-------------+----------------------+------------------------+----------------------+-----------------------+-----------------------+-------------------------+-----------------------+------------------------+----------------------------+-----------------------+---------------+------------------+\n",
      "|2025-04-01 00:00:00|    23/04/2025|1.4172343937E10|   M|   22|     SOLTEIRO|ENSINO MEDIO 2� G...|          VIDRACEIRO|        2300.0|         0.0|   BRASILEIRO|           SC|GOVERNADOR CELSO ...|    65|                          603|                         0|      NAO|         29/08/2023|         Ativa|                 NULL|      Fisico|            N9|702.0|EXTERNO, BVS|      1000.0|         180.0|         0.0|        150.0|                   0.0|                     0.0|                   0.0|                    0.0|                 1000.0|                    180.0|                    0.0|                   150.0|                  13/12/2024|            Reavaliacao|           NULL|              NULL|\n",
      "|2025-04-01 00:00:00|    23/04/2025|1.1256910937E10|   M|   24|     SOLTEIRO|ENSINO MEDIO 2� G...|  VENDEDOR AMBULANTE|        5500.0|         0.0|   BRASILEIRO|           SC|              ITAJAI|   173|                          858|                         0|      NAO|         17/12/2022|     Cancelada|          INATIVIDADE|      Fisico|            N8|735.0|EXTERNO, BVS|         0.0|           0.0|         0.0|          0.0|                   0.0|                     0.0|                   0.0|                    0.0|                    0.0|                      0.0|                    0.0|                     0.0|                  05/10/2023|            Reavaliacao|           NULL|              NULL|\n",
      "|2025-04-01 00:00:00|    23/04/2025|1.2167811926E10|   F|   25|     SOLTEIRO|ENSINO MEDIO 2� G...|AUXILIAR DE LIMPE...|        1900.0|         0.0|   BRASILEIRO|           SC|           JOINVILLE|    56|                          253|                         6|      NAO|         13/08/2024|         Ativa|                 NULL|      Fisico|            N8|740.0|EXTERNO, SPC|      2420.0|         436.0|       847.0|        134.0|                 990.0|                   110.0|                   0.0|                   82.5|                 1430.0|                    326.0|                  847.0|                    51.5|                  17/04/2025|            Reavaliacao|           NULL|              NULL|\n",
      "|2025-04-01 00:00:00|    23/04/2025|  1.15228987E10|   M|   36|     SOLTEIRO|ENSINO MEDIO 2� G...|ELETRICISTA DE IN...|        3000.0|         0.0|   BRASILEIRO|           SC|              LAGUNA|    33|                         2419|                       602|      NAO|         08/09/2018|     Bloqueada|             ATRASO B|      Fisico|            N6|803.0|EXTERNO, SPC|         0.0|           0.0|         0.0|          0.0|                   0.0|                     0.0|                   0.0|                    0.0|                    0.0|                      0.0|                    0.0|                     0.0|                  01/02/2023|            Reavaliacao|              A|              NULL|\n",
      "|2025-04-01 00:00:00|    23/04/2025|6.0975377949E10|   M|   63|       CASADO|ENSINO MEDIO 2� G...| ENGENHEIRO AGRONOMO|       10780.3|         0.0|   BRASILEIRO|           SC|       FLORIANOPOLIS|     5|                         1138|                       300|      NAO|         12/03/2022|         Ativa|                PAGTO|      Fisico|            A2|942.0|    BEHAVIOR|     12000.0|        2160.0|      4800.0|        885.0|                   0.0|                     0.0|                   0.0|                    0.0|                12000.0|                   2160.0|                 4800.0|                   885.0|                  20/11/2024|            Reavaliacao|              L|              NULL|\n",
      "|2025-04-01 00:00:00|    23/04/2025|  2.752237952E9|   F|   70|       CASADO|ENSINO FUNDAMENTA...| AUXILIAR DE PESSOAL|        2500.0|         0.0|   BRASILEIRO|           SC|      JARAGUA DO SUL|    49|                          999|                        15|      NAO|         29/07/2022|         Ativa|                 NULL|      Fisico|            A2|945.0|    BEHAVIOR|      7260.0|        1307.0|      2541.0|        476.0|                 400.0|                   200.0|                   0.0|                  33.33|                 6860.0|                   1107.0|                 2541.0|                  442.67|                  08/04/2025|            Reavaliacao|              L|              NULL|\n",
      "|2025-04-01 00:00:00|    23/04/2025|2.4645605968E10|   M|   71|       CASADO|ENSINO MEDIO 2� G...|          APOSENTADO|       3365.92|         0.0|   BRASILEIRO|           SC|            SAO JOSE|   100|                         2848|                        14|      NAO|         06/07/2017|         Ativa|                PAGTO|      Fisico|           A14|931.0|     INTERNO|     12000.0|        2160.0|      4800.0|        500.0|              12293.95|                 1824.03|                   0.0|                 966.91|                -293.95|                   335.97|                 4800.0|                 -466.91|                  05/06/2024|            Reavaliacao|              L|              NULL|\n",
      "|2025-04-01 00:00:00|    23/04/2025|1.4683995867E10|   F|   56|       CASADO|ENSINO MEDIO 2� G...|AUXILIAR DE LIMPE...|       3645.14|    101900.0|   BRASILEIRO|           SC|           JOINVILLE|   113|                          512|                        43|      NAO|         28/11/2023|         Ativa|                 NULL|      Fisico|            N6|813.0|Externo, SPC|      1836.0|         330.0|         0.0|        153.0|                   0.0|                     0.0|                   0.0|                    0.0|                 1836.0|                    330.0|                    0.0|                   153.0|                  11/03/2025|            Reavaliacao|           NULL|              NULL|\n",
      "|2025-04-01 00:00:00|    23/04/2025|2.0509138187E10|   F|   73|   DIVORCIADO|                NULL|TRABALHADOR AGROP...|        7520.0|    165300.0|   BRASILEIRO|           SC|             TIJUCAS|   148|                          463|                        14|      NAO|         16/01/2024|         Ativa|                 NULL|      Fisico|            A2|924.0|    BEHAVIOR|      4202.0|         756.0|      1471.0|        275.0|                1722.0|                   246.0|                851.67|                  143.5|                 2480.0|                    510.0|                 619.33|                   131.5|                  09/04/2025|            Reavaliacao|           NULL|              NULL|\n",
      "|2025-04-01 00:00:00|    23/04/2025| 9.116446011E10|   F|   53|         NULL|                NULL|  AUXILIAR DE VENDAS|        2300.0|      2025.0|   BRASILEIRO|           GO|            ANAPOLIS|  1000|                          235|                       104|      NAO|         31/08/2024|         Ativa|                 NULL|     Digital|            N8|749.0|EXTERNO, SPC|      1000.0|         180.0|         0.0|        150.0|                   0.0|                     0.0|                   0.0|                    0.0|                 1000.0|                    180.0|                    0.0|                   150.0|                  13/12/2024|            Reavaliacao|              L|              NULL|\n",
      "|2025-04-01 00:00:00|    23/04/2025|4.9432958949E10|   M|   61|   DIVORCIADO|ENSINO MEDIO 2� G...|VIGIA. VIGILANTE ...|        3700.0|    121700.0|   BRASILEIRO|           SC|   CAPIVARI DE BAIXO|    84|                          894|                        32|      NAO|         11/11/2022|         Ativa|                 NULL|      Fisico|            N1|983.0|Externo, SPC|      8760.0|        1577.0|      3500.0|        365.0|                   0.0|                     0.0|                   0.0|                    0.0|                 8760.0|                   1577.0|                 3500.0|                   365.0|                  22/03/2025|            Reavaliacao|           NULL|              NULL|\n",
      "|2025-04-01 00:00:00|    23/04/2025|3.8455110953E10|   M|   75|       CASADO|ENSINO MEDIO 2� G...|MESTRE DE OBRAS(C...|        1500.0|         0.0|   BRASILEIRO|           SC|       FLORIANOPOLIS|    10|                          740|                         7|      NAO|         14/04/2023|         Ativa|                 NULL|      Fisico|            A1|970.0|    BEHAVIOR|      8280.0|        1490.0|      2898.0|        662.0|                1620.0|                   180.0|                   0.0|                 101.25|                 6660.0|                   1310.0|                 2898.0|                  560.75|                  16/04/2025|            Reavaliacao|              L|              NULL|\n",
      "|2025-04-01 00:00:00|    23/04/2025|7.0359581269E10|   M|   47|     SOLTEIRO|ENSINO MEDIO 2� G...|AUXILIAR DE LIMPE...|       1325.85|         0.0|   BRASILEIRO|           SC|            BLUMENAU|    77|                          985|                        98|      NAO|         12/08/2022|     Bloqueada|             ATRASO B|      Fisico|           A12|407.0|    BEHAVIOR|         0.0|           0.0|         0.0|          0.0|                 790.0|                   158.0|                   0.0|                  43.89|                 -790.0|                   -158.0|                    0.0|                  -43.89|                  15/01/2025|            Reavaliacao|              L|              NULL|\n",
      "|2025-04-01 00:00:00|    23/04/2025|  3.098089016E9|   M|   33|       CASADO|ENSINO MEDIO 2� G...|PINTOR DE OBRAS(C...|        3800.0|         0.0|   BRASILEIRO|           SC|            CRICIUMA|   176|                         1066|                       477|      NAO|         23/05/2022|         Ativa|                 NULL|      Fisico|            A2|949.0|    BEHAVIOR|      7282.0|        1311.0|      2549.0|        478.0|                   0.0|                     0.0|                   0.0|                    0.0|                 7282.0|                   1311.0|                 2549.0|                   478.0|                  20/11/2024|            Reavaliacao|           NULL|              NULL|\n",
      "|2025-04-01 00:00:00|    23/04/2025|5.9765895968E10|   F|   58|        VIUVO|ENSINO MEDIO 2� G...|         PENSIONISTA|        2000.0|         0.0|   BRASILEIRO|           SC|             TUBARAO|    32|                          814|                        28|      NAO|         30/01/2023|         Ativa|                 NULL|      Fisico|            A1|987.0|    BEHAVIOR|     11040.0|        1987.0|      3864.0|        736.0|                 456.0|                   152.0|                   0.0|                   38.0|                10584.0|                   1835.0|                 3864.0|                   698.0|                  26/03/2025|            Reavaliacao|              L|              NULL|\n",
      "|2025-04-01 00:00:00|    23/04/2025| 7.013180319E10|   F|   56|     SOLTEIRO|ENSINO MEDIO 2� G...|          MARCENEIRO|        5800.0|         0.0|   BRASILEIRO|           SC|       FLORIANOPOLIS|    10|                         1012|                        30|      NAO|         16/07/2022|         Ativa|                 NULL|      Fisico|            A2|904.0|    BEHAVIOR|      2750.0|         495.0|         0.0|        330.0|                 668.3|                  133.66|                   0.0|                 111.38|                 2081.7|                   361.34|                    0.0|                  218.62|                  24/03/2025|            Reavaliacao|              L|              NULL|\n",
      "|2025-04-01 00:00:00|    23/04/2025|  1.253799946E9|   M|   58|       CASADO|ENSINO MEDIO 2� G...|MESTRE DE OBRAS(C...|        2400.0|         0.0|   BRASILEIRO|           SC|            CRICIUMA|   176|                         2599|                       237|      NAO|         12/03/2018|         Ativa|                 NULL|      Fisico|            A1|980.0|    BEHAVIOR|      5520.0|         994.0|      1932.0|        368.0|                   0.0|                     0.0|                   0.0|                    0.0|                 5520.0|                    994.0|                 1932.0|                   368.0|                  21/11/2024|            Reavaliacao|              L|              NULL|\n",
      "|2025-04-01 00:00:00|    23/04/2025|2.4434489836E10|   M|   32|     SOLTEIRO|ENSINO MEDIO 2� G...|   AUXILIAR DIVERSOS|        2336.0|    233600.0|   BRASILEIRO|           SC|      BRACO DO NORTE|   181|                          491|                        18|      NAO|         19/12/2023|         Ativa|                 NULL|      Fisico|            A2|934.0|    BEHAVIOR|      1440.0|         259.2|         0.0|        144.0|                1692.0|                   282.0|                   0.0|                  141.0|                 -252.0|                    -22.8|                    0.0|                     3.0|                  05/04/2025|            Reavaliacao|           NULL|              NULL|\n",
      "|2025-04-01 00:00:00|    23/04/2025|3.4302760982E10|   M|   71|       CASADO|ENSINO MEDIO 2� G...|          APOSENTADO|        2580.0|         0.0|   BRASILEIRO|           SC|BALNEARIO ARROIO ...|    43|                         2265|                       189|      NAO|         09/02/2019|         Ativa|                 NULL|      Fisico|            A1|971.0|    BEHAVIOR|     10736.0|        1933.0|      3758.0|        715.0|                   0.0|                     0.0|                   0.0|                    0.0|                10736.0|                   1933.0|                 3758.0|                   715.0|                  20/11/2024|            Reavaliacao|              L|              NULL|\n",
      "|2025-04-01 00:00:00|    23/04/2025| 8.001418995E10|   F|   41|UNIAO ESTAVEL|ENSINO MEDIO 2� G...|             REVISOR|        2253.0|    225300.0|   BRASILEIRO|           SC|            BLUMENAU|   130|                          537|                        27|      NAO|         03/11/2023|         Ativa|                 NULL|      Fisico|            A5|978.0|     Interno|      3974.0|         715.0|      1391.0|        221.0|                2204.9|                  220.49|                   0.0|                 183.74|                 1769.1|                   494.51|                 1391.0|                   37.26|                  27/03/2025|            Reavaliacao|           NULL|              NULL|\n",
      "+-------------------+--------------+---------------+----+-----+-------------+--------------------+--------------------+--------------+------------+-------------+-------------+--------------------+------+-----------------------------+--------------------------+---------+-------------------+--------------+---------------------+------------+--------------+-----+------------+------------+--------------+------------+-------------+----------------------+------------------------+----------------------+-----------------------+-----------------------+-------------------------+-----------------------+------------------------+----------------------------+-----------------------+---------------+------------------+\n",
      "only showing top 20 rows\n",
      "\n",
      "540809\n"
     ]
    }
   ],
   "source": [
    "## Base Cadastro\n",
    "df_cad=spark.read.csv(\"C:/Users/fernando.monteiro/OneDrive - BHS/KAB/Base Behavior/Base cartões/behavior.csv\",header=True,inferSchema=True, sep=\";\")\n",
    "\n",
    "# Função para trocar , por . em colunas numéricas\n",
    "def formatar_col_num(df, colunas):\n",
    "    for nome_coluna in colunas:\n",
    "        df = df.withColumn(\n",
    "            nome_coluna,\n",
    "            regexp_replace(col(nome_coluna), \"\\.\", \"\")  \n",
    "        )\n",
    "        df = df.withColumn(\n",
    "            nome_coluna,\n",
    "            regexp_replace(col(nome_coluna), \",\", \".\").cast(DoubleType())\n",
    "        )\n",
    "    return df\n",
    "\n",
    "# colunas numéricas\n",
    "col_numerica=[\"IDADE\",\n",
    "    \"RENDA_DIGITADA\",\n",
    "    \"RENDA_VALIDA\",\n",
    "    \"TEMPO_RELACIONAMENTO_KREDILIG\",\n",
    "    \"TEMPO_INATIVIDADE_KREDILIG\",\n",
    "    \"SCORE\",\n",
    "    \"LIMITE_TOTAL\",\n",
    "    \"LIMITE_A_VISTA\",\n",
    "    \"LIMITE_SAQUE\",\n",
    "    \"LIMITE_MENSAL\",\n",
    "    \"LIMITE_TOTAL_UTILIZADO\" ,\n",
    "    \"LIMITE_A_VISTA_UTILIZADO\",\n",
    "    \"LIMITE_SAQUE_UTILIZADO\",\n",
    "    \"LIMITE_MENSAL_UTILIZADO\",\n",
    "    \"LIMITE_TOTAL_DISPONIVEL\",\n",
    "    \"LIMITE_A_VISTA_DISPONIVEL\",\n",
    "    \"LIMITE_SAQUE_DISPONIVEL\",\n",
    "    \"LIMITE_MENSAL_DISPONIVEL\"]\n",
    "\n",
    "df_cad = formatar_col_num(df_cad, col_numerica)\n",
    "\n",
    "# % de nulos por linha\n",
    "num_cols_df2=len(df_cad.columns)\n",
    "cols_to_check = df_cad.columns\n",
    "df2_com_nulos=df_cad.withColumn(\"%_nulos\",\n",
    "                             round(reduce(lambda a,b: a+b,\n",
    "                                      [when(col(c).isNull(),1).otherwise(0) for c in cols_to_check])\n",
    "                                      / lit(num_cols_df2)*100,4)\n",
    "                             )\n",
    "\n",
    "# Excluindo linhas erradas\n",
    "df_cad_new = df2_com_nulos.filter(\n",
    "    ~(\n",
    "        (col(\"SEXO\") == \"PF\") |\n",
    "        (col(\"DATA_MOVIMENTO\") == \"SC\") |\n",
    "        (col(\"BLACKLIST\") == \"Bloqueada\") |\n",
    "        (col(\"%_nulos\")>50) \n",
    "    )\n",
    ").drop(\"NOME\",\"TIPO_PESSOA\",\"UF_NASCIMENTO\",\"CIDADE_NASCIMENTO\",\"REGIONAL\",\"%_nulos\")\n",
    "\n",
    "#Tipos\n",
    "tipos = {\n",
    "    \"CPF_CNPJ\": \"double\",\n",
    "    \"IDADE\": \"int\",\n",
    "    \"RENDA_DIGITADA\": \"double\",\n",
    "    \"RENDA_VALIDA\": \"double\",\n",
    "    \"TEMPO_RELACIONAMENTO_KREDILIG\": \"int\",\n",
    "    \"TEMPO_INATIVIDADE_KREDILIG\":  \"int\",\n",
    "    \"SCORE\": \"double\",\n",
    "    \"LIMITE_TOTAL\": \"double\",\n",
    "    \"LIMITE_A_VISTA\": \"double\" ,\n",
    "    \"LIMITE_SAQUE\": \"double\" ,\n",
    "    \"LIMITE_MENSAL\": \"double\" ,\n",
    "    \"LIMITE_TOTAL_UTILIZADO\": \"double\" ,\n",
    "    \"LIMITE_A_VISTA_UTILIZADO\": \"double\" ,\n",
    "    \"LIMITE_SAQUE_UTILIZADO\": \"double\" ,\n",
    "    \"LIMITE_MENSAL_UTILIZADO\": \"double\" ,\n",
    "    \"LIMITE_TOTAL_DISPONIVEL\": \"double\" ,\n",
    "    \"LIMITE_A_VISTA_DISPONIVEL\": \"double\" ,\n",
    "    \"LIMITE_SAQUE_DISPONIVEL\": \"double\" ,\n",
    "    \"LIMITE_MENSAL_DISPONIVEL\": \"double\" \n",
    "}\n",
    "\n",
    "# conversão\n",
    "for col_nome, tipo in tipos.items():\n",
    "    df_cad_new = df_cad_new.withColumn(col_nome, col(col_nome).cast(tipo))\n",
    "\n",
    "# info\n",
    "df_cad_new.printSchema()\n",
    "df_cad_new.show()\n",
    "print(df_cad_new.count())\n"
   ]
  },
  {
   "cell_type": "code",
   "execution_count": null,
   "id": "2e565937",
   "metadata": {},
   "outputs": [
    {
     "data": {
      "text/plain": [
       "'for col_nome in col_cat:\\n    print(f\"\\n### Frequência para: {col_nome} ###\")\\n    df_cad_new.groupBy(col_nome).count().orderBy(\"count\", ascending=False).show(truncate=False)'"
      ]
     },
     "execution_count": 124,
     "metadata": {},
     "output_type": "execute_result"
    }
   ],
   "source": [
    "# tabela de frequencia\n",
    "col_cat = ['SEXO', 'ESTADO_CIVIL', 'GRAU_ESCOLARIDADE', 'NATUREZA_OCUPACAO', 'NACIONALIDADE', 'UF_RESIDENCIA', 'CIDADE_RESIDENCIA', 'FILIAL', 'BLACKLIST', 'DATA_ABERTURA_CONTA', 'SITUACAO_CONTA', 'MOTIVO_SITUACAO_CONTA', 'CANAL_ORIGEM', 'NIVEL_DE_RISCO', 'ORIGEM_SCORE', 'ORIGEM_ALTERACAO_LIMITE', 'SITUACAO_FATURA', 'HISTORICO_COBRANCA']\n",
    "\n",
    "# loop\n",
    "'''for col_nome in col_cat:\n",
    "    print(f\"\\n### Frequência para: {col_nome} ###\")\n",
    "    df_cad_new.groupBy(col_nome).count().orderBy(\"count\", ascending=False).show(truncate=False)'''"
   ]
  },
  {
   "cell_type": "code",
   "execution_count": null,
   "id": "c5a1f509",
   "metadata": {},
   "outputs": [],
   "source": [
    "# armazenar as tabelas\n",
    "tab_freq = {}\n",
    "\n",
    "for col_nome in col_cat:\n",
    "    df_freq = df_cad_new.groupBy(col_nome).count().orderBy(\"count\", ascending=False)\n",
    "    tab_freq[col_nome] = df_freq\n",
    "\n",
    "# Excel\n",
    "with pd.ExcelWriter(\"Ana_Exp_Cadastro_.xlsx\", engine=\"xlsxwriter\") as writer:\n",
    "    for nome, df_spark in tab_freq.items():\n",
    "        df_cad_new_pandas = df_spark.toPandas() # pandas\n",
    "        aba = nome[:31] if len(nome) > 31 else nome # para variáveis com nomes grandes, mas não é o caso \n",
    "        df_cad_new_pandas.to_excel(writer, sheet_name=aba, index=False)"
   ]
  },
  {
   "cell_type": "code",
   "execution_count": null,
   "id": "88e773bf",
   "metadata": {},
   "outputs": [
    {
     "data": {
      "image/png": "[encoded data removed]",
      "text/plain": [
       "<Figure size 1200x400 with 1 Axes>"
      ]
     },
     "metadata": {},
     "output_type": "display_data"
    }
   ],
   "source": [
    "## Gráfico de Barras\n",
    "\n",
    "var_counts=tab_freq[\"MOTIVO_SITUACAO_CONTA\"].collect()\n",
    "var_counts = sorted(var_counts, key=lambda row: row[\"count\"], reverse=True)[:20]  # Top (Variáveis com múltiplas categorias)\n",
    "\n",
    "plot.figure(figsize=(12, 4))\n",
    "\n",
    "var=[str(row[\"MOTIVO_SITUACAO_CONTA\"]) if row[\"MOTIVO_SITUACAO_CONTA\"] is not None else \"NULL\" for row in var_counts]\n",
    "counts=[row[\"count\"] for row in var_counts]\n",
    "\n",
    "var = var[::-1]\n",
    "counts = counts[::-1]\n",
    "\n",
    "bars = plot.barh(var, counts, color='skyblue', edgecolor='black') # bar(colunas) barh(barras horizontais)\n",
    "plot.xlabel(\"Qtd\")\n",
    "plot.xlabel(\"\")\n",
    "plot.grid(axis='y', linestyle='--', alpha=0.7)\n",
    "\n",
    "#Rótulos\n",
    "'''for bar in bars:\n",
    "    height = bar.get_height()\n",
    "    plot.text(\n",
    "        bar.get_x() + bar.get_width() / 2,  \n",
    "        height,                             \n",
    "        f'{int(height)}',                  \n",
    "        ha='center', va='bottom', fontsize=9  \n",
    "    )'''\n",
    "\n",
    "for bar in bars:\n",
    "    width = bar.get_width()\n",
    "    plot.text(\n",
    "        width,                       \n",
    "        bar.get_y() + bar.get_height()/2,  \n",
    "        f'{int(width)}',            \n",
    "        ha='left', va='center', fontsize=9\n",
    "    )\n",
    "plot.tight_layout()\n",
    "plot.show()"
   ]
  },
  {
   "cell_type": "code",
   "execution_count": null,
   "id": "7e2525c3",
   "metadata": {},
   "outputs": [
    {
     "name": "stdout",
     "output_type": "stream",
     "text": [
      "+-----+--------------+------------+-----------------------------+--------------------------+-----+------------+--------------+------------+-------------+----------------------+------------------------+----------------------+-----------------------+-----------------------+-------------------------+-----------------------+------------------------+\n",
      "|IDADE|RENDA_DIGITADA|RENDA_VALIDA|TEMPO_RELACIONAMENTO_KREDILIG|TEMPO_INATIVIDADE_KREDILIG|SCORE|LIMITE_TOTAL|LIMITE_A_VISTA|LIMITE_SAQUE|LIMITE_MENSAL|LIMITE_TOTAL_UTILIZADO|LIMITE_A_VISTA_UTILIZADO|LIMITE_SAQUE_UTILIZADO|LIMITE_MENSAL_UTILIZADO|LIMITE_TOTAL_DISPONIVEL|LIMITE_A_VISTA_DISPONIVEL|LIMITE_SAQUE_DISPONIVEL|LIMITE_MENSAL_DISPONIVEL|\n",
      "+-----+--------------+------------+-----------------------------+--------------------------+-----+------------+--------------+------------+-------------+----------------------+------------------------+----------------------+-----------------------+-----------------------+-------------------------+-----------------------+------------------------+\n",
      "|    0|             0|      476723|                          167|                     80688|  683|      272233|        272230|      310943|       272230|                304637|                  290735|                467492|                 304569|                 214310|                   200964|                 293421|                  214403|\n",
      "+-----+--------------+------------+-----------------------------+--------------------------+-----+------------+--------------+------------+-------------+----------------------+------------------------+----------------------+-----------------------+-----------------------+-------------------------+-----------------------+------------------------+\n",
      "\n"
     ]
    }
   ],
   "source": [
    "## Zeros em variáveis numéricas\n",
    "df_cad_new.select([\n",
    "    sum((col(c) == 0).cast(\"int\")).alias(c)\n",
    "    for c in col_numerica\n",
    "]).show()"
   ]
  },
  {
   "cell_type": "code",
   "execution_count": null,
   "id": "d75e5ff9",
   "metadata": {},
   "outputs": [
    {
     "data": {
      "text/plain": [
       "33886"
      ]
     },
     "execution_count": 81,
     "metadata": {},
     "output_type": "execute_result"
    }
   ],
   "source": [
    "df_cad_new.filter((col(\"TEMPO_RELACIONAMENTO_KREDILIG\")<180)).count() # Categorizar novos associados"
   ]
  },
  {
   "cell_type": "code",
   "execution_count": 61,
   "id": "63690bde",
   "metadata": {},
   "outputs": [
    {
     "name": "stderr",
     "output_type": "stream",
     "text": [
      "ERROR:root:KeyboardInterrupt while sending command.\n",
      "Traceback (most recent call last):\n",
      "  File \"c:\\Users\\fernando.monteiro\\deep-torch-example\\.venv\\Lib\\site-packages\\py4j\\java_gateway.py\", line 1038, in send_command\n",
      "    response = connection.send_command(command)\n",
      "               ^^^^^^^^^^^^^^^^^^^^^^^^^^^^^^^^\n",
      "  File \"c:\\Users\\fernando.monteiro\\deep-torch-example\\.venv\\Lib\\site-packages\\py4j\\clientserver.py\", line 511, in send_command\n",
      "    answer = smart_decode(self.stream.readline()[:-1])\n",
      "                          ^^^^^^^^^^^^^^^^^^^^^^\n",
      "  File \"C:\\Users\\fernando.monteiro\\AppData\\Local\\Programs\\Python\\Python312\\Lib\\socket.py\", line 708, in readinto\n",
      "    return self._sock.recv_into(b)\n",
      "           ^^^^^^^^^^^^^^^^^^^^^^^\n",
      "KeyboardInterrupt\n"
     ]
    },
    {
     "ename": "KeyboardInterrupt",
     "evalue": "",
     "output_type": "error",
     "traceback": [
      "\u001b[1;31m---------------------------------------------------------------------------\u001b[0m",
      "\u001b[1;31mKeyboardInterrupt\u001b[0m                         Traceback (most recent call last)",
      "Cell \u001b[1;32mIn[61], line 5\u001b[0m\n\u001b[0;32m      1\u001b[0m \u001b[43mdf_cad_new\u001b[49m\u001b[38;5;241;43m.\u001b[39;49m\u001b[43mfilter\u001b[49m\u001b[43m(\u001b[49m\n\u001b[0;32m      2\u001b[0m \u001b[43m    \u001b[49m\u001b[43m(\u001b[49m\u001b[43mcol\u001b[49m\u001b[43m(\u001b[49m\u001b[38;5;124;43m\"\u001b[39;49m\u001b[38;5;124;43mCPF_CNPJ\u001b[39;49m\u001b[38;5;124;43m\"\u001b[39;49m\u001b[43m)\u001b[49m\u001b[38;5;241;43m==\u001b[39;49m\u001b[38;5;124;43m\"\u001b[39;49m\u001b[38;5;124;43m5355531962\u001b[39;49m\u001b[38;5;124;43m\"\u001b[39;49m\u001b[43m)\u001b[49m\u001b[38;5;241;43m|\u001b[39;49m\n\u001b[0;32m      3\u001b[0m \u001b[43m    \u001b[49m\u001b[43m(\u001b[49m\u001b[43mcol\u001b[49m\u001b[43m(\u001b[49m\u001b[38;5;124;43m\"\u001b[39;49m\u001b[38;5;124;43mCPF_CNPJ\u001b[39;49m\u001b[38;5;124;43m\"\u001b[39;49m\u001b[43m)\u001b[49m\u001b[38;5;241;43m==\u001b[39;49m\u001b[38;5;124;43m\"\u001b[39;49m\u001b[38;5;124;43m24434489836\u001b[39;49m\u001b[38;5;124;43m\"\u001b[39;49m\u001b[43m)\u001b[49m\u001b[38;5;241;43m|\u001b[39;49m\n\u001b[0;32m      4\u001b[0m \u001b[43m    \u001b[49m\u001b[43m(\u001b[49m\u001b[43mcol\u001b[49m\u001b[43m(\u001b[49m\u001b[38;5;124;43m\"\u001b[39;49m\u001b[38;5;124;43mCPF_CNPJ\u001b[39;49m\u001b[38;5;124;43m\"\u001b[39;49m\u001b[43m)\u001b[49m\u001b[38;5;241;43m==\u001b[39;49m\u001b[38;5;124;43m\"\u001b[39;49m\u001b[38;5;124;43m9597228904\u001b[39;49m\u001b[38;5;124;43m\"\u001b[39;49m\u001b[43m)\u001b[49m\u001b[43m             \u001b[49m\n\u001b[1;32m----> 5\u001b[0m \u001b[43m    \u001b[49m\u001b[43m)\u001b[49m\u001b[38;5;241;43m.\u001b[39;49m\u001b[43mshow\u001b[49m\u001b[43m(\u001b[49m\u001b[38;5;241;43m200\u001b[39;49m\u001b[43m,\u001b[49m\u001b[43mtruncate\u001b[49m\u001b[38;5;241;43m=\u001b[39;49m\u001b[38;5;28;43;01mFalse\u001b[39;49;00m\u001b[43m)\u001b[49m \u001b[38;5;66;03m# Categorizar novos associados\u001b[39;00m\n",
      "File \u001b[1;32mc:\\Users\\fernando.monteiro\\deep-torch-example\\.venv\\Lib\\site-packages\\pyspark\\sql\\dataframe.py:947\u001b[0m, in \u001b[0;36mDataFrame.show\u001b[1;34m(self, n, truncate, vertical)\u001b[0m\n\u001b[0;32m    887\u001b[0m \u001b[38;5;28;01mdef\u001b[39;00m\u001b[38;5;250m \u001b[39m\u001b[38;5;21mshow\u001b[39m(\u001b[38;5;28mself\u001b[39m, n: \u001b[38;5;28mint\u001b[39m \u001b[38;5;241m=\u001b[39m \u001b[38;5;241m20\u001b[39m, truncate: Union[\u001b[38;5;28mbool\u001b[39m, \u001b[38;5;28mint\u001b[39m] \u001b[38;5;241m=\u001b[39m \u001b[38;5;28;01mTrue\u001b[39;00m, vertical: \u001b[38;5;28mbool\u001b[39m \u001b[38;5;241m=\u001b[39m \u001b[38;5;28;01mFalse\u001b[39;00m) \u001b[38;5;241m-\u001b[39m\u001b[38;5;241m>\u001b[39m \u001b[38;5;28;01mNone\u001b[39;00m:\n\u001b[0;32m    888\u001b[0m \u001b[38;5;250m    \u001b[39m\u001b[38;5;124;03m\"\"\"Prints the first ``n`` rows to the console.\u001b[39;00m\n\u001b[0;32m    889\u001b[0m \n\u001b[0;32m    890\u001b[0m \u001b[38;5;124;03m    .. versionadded:: 1.3.0\u001b[39;00m\n\u001b[1;32m   (...)\u001b[0m\n\u001b[0;32m    945\u001b[0m \u001b[38;5;124;03m    name | Bob\u001b[39;00m\n\u001b[0;32m    946\u001b[0m \u001b[38;5;124;03m    \"\"\"\u001b[39;00m\n\u001b[1;32m--> 947\u001b[0m     \u001b[38;5;28mprint\u001b[39m(\u001b[38;5;28;43mself\u001b[39;49m\u001b[38;5;241;43m.\u001b[39;49m\u001b[43m_show_string\u001b[49m\u001b[43m(\u001b[49m\u001b[43mn\u001b[49m\u001b[43m,\u001b[49m\u001b[43m \u001b[49m\u001b[43mtruncate\u001b[49m\u001b[43m,\u001b[49m\u001b[43m \u001b[49m\u001b[43mvertical\u001b[49m\u001b[43m)\u001b[49m)\n",
      "File \u001b[1;32mc:\\Users\\fernando.monteiro\\deep-torch-example\\.venv\\Lib\\site-packages\\pyspark\\sql\\dataframe.py:978\u001b[0m, in \u001b[0;36mDataFrame._show_string\u001b[1;34m(self, n, truncate, vertical)\u001b[0m\n\u001b[0;32m    969\u001b[0m \u001b[38;5;28;01mexcept\u001b[39;00m \u001b[38;5;167;01mValueError\u001b[39;00m:\n\u001b[0;32m    970\u001b[0m     \u001b[38;5;28;01mraise\u001b[39;00m PySparkTypeError(\n\u001b[0;32m    971\u001b[0m         error_class\u001b[38;5;241m=\u001b[39m\u001b[38;5;124m\"\u001b[39m\u001b[38;5;124mNOT_BOOL\u001b[39m\u001b[38;5;124m\"\u001b[39m,\n\u001b[0;32m    972\u001b[0m         message_parameters\u001b[38;5;241m=\u001b[39m{\n\u001b[1;32m   (...)\u001b[0m\n\u001b[0;32m    975\u001b[0m         },\n\u001b[0;32m    976\u001b[0m     )\n\u001b[1;32m--> 978\u001b[0m \u001b[38;5;28;01mreturn\u001b[39;00m \u001b[38;5;28;43mself\u001b[39;49m\u001b[38;5;241;43m.\u001b[39;49m\u001b[43m_jdf\u001b[49m\u001b[38;5;241;43m.\u001b[39;49m\u001b[43mshowString\u001b[49m\u001b[43m(\u001b[49m\u001b[43mn\u001b[49m\u001b[43m,\u001b[49m\u001b[43m \u001b[49m\u001b[43mint_truncate\u001b[49m\u001b[43m,\u001b[49m\u001b[43m \u001b[49m\u001b[43mvertical\u001b[49m\u001b[43m)\u001b[49m\n",
      "File \u001b[1;32mc:\\Users\\fernando.monteiro\\deep-torch-example\\.venv\\Lib\\site-packages\\py4j\\java_gateway.py:1321\u001b[0m, in \u001b[0;36mJavaMember.__call__\u001b[1;34m(self, *args)\u001b[0m\n\u001b[0;32m   1314\u001b[0m args_command, temp_args \u001b[38;5;241m=\u001b[39m \u001b[38;5;28mself\u001b[39m\u001b[38;5;241m.\u001b[39m_build_args(\u001b[38;5;241m*\u001b[39margs)\n\u001b[0;32m   1316\u001b[0m command \u001b[38;5;241m=\u001b[39m proto\u001b[38;5;241m.\u001b[39mCALL_COMMAND_NAME \u001b[38;5;241m+\u001b[39m\\\n\u001b[0;32m   1317\u001b[0m     \u001b[38;5;28mself\u001b[39m\u001b[38;5;241m.\u001b[39mcommand_header \u001b[38;5;241m+\u001b[39m\\\n\u001b[0;32m   1318\u001b[0m     args_command \u001b[38;5;241m+\u001b[39m\\\n\u001b[0;32m   1319\u001b[0m     proto\u001b[38;5;241m.\u001b[39mEND_COMMAND_PART\n\u001b[1;32m-> 1321\u001b[0m answer \u001b[38;5;241m=\u001b[39m \u001b[38;5;28;43mself\u001b[39;49m\u001b[38;5;241;43m.\u001b[39;49m\u001b[43mgateway_client\u001b[49m\u001b[38;5;241;43m.\u001b[39;49m\u001b[43msend_command\u001b[49m\u001b[43m(\u001b[49m\u001b[43mcommand\u001b[49m\u001b[43m)\u001b[49m\n\u001b[0;32m   1322\u001b[0m return_value \u001b[38;5;241m=\u001b[39m get_return_value(\n\u001b[0;32m   1323\u001b[0m     answer, \u001b[38;5;28mself\u001b[39m\u001b[38;5;241m.\u001b[39mgateway_client, \u001b[38;5;28mself\u001b[39m\u001b[38;5;241m.\u001b[39mtarget_id, \u001b[38;5;28mself\u001b[39m\u001b[38;5;241m.\u001b[39mname)\n\u001b[0;32m   1325\u001b[0m \u001b[38;5;28;01mfor\u001b[39;00m temp_arg \u001b[38;5;129;01min\u001b[39;00m temp_args:\n",
      "File \u001b[1;32mc:\\Users\\fernando.monteiro\\deep-torch-example\\.venv\\Lib\\site-packages\\py4j\\java_gateway.py:1038\u001b[0m, in \u001b[0;36mGatewayClient.send_command\u001b[1;34m(self, command, retry, binary)\u001b[0m\n\u001b[0;32m   1036\u001b[0m connection \u001b[38;5;241m=\u001b[39m \u001b[38;5;28mself\u001b[39m\u001b[38;5;241m.\u001b[39m_get_connection()\n\u001b[0;32m   1037\u001b[0m \u001b[38;5;28;01mtry\u001b[39;00m:\n\u001b[1;32m-> 1038\u001b[0m     response \u001b[38;5;241m=\u001b[39m \u001b[43mconnection\u001b[49m\u001b[38;5;241;43m.\u001b[39;49m\u001b[43msend_command\u001b[49m\u001b[43m(\u001b[49m\u001b[43mcommand\u001b[49m\u001b[43m)\u001b[49m\n\u001b[0;32m   1039\u001b[0m     \u001b[38;5;28;01mif\u001b[39;00m binary:\n\u001b[0;32m   1040\u001b[0m         \u001b[38;5;28;01mreturn\u001b[39;00m response, \u001b[38;5;28mself\u001b[39m\u001b[38;5;241m.\u001b[39m_create_connection_guard(connection)\n",
      "File \u001b[1;32mc:\\Users\\fernando.monteiro\\deep-torch-example\\.venv\\Lib\\site-packages\\py4j\\clientserver.py:511\u001b[0m, in \u001b[0;36mClientServerConnection.send_command\u001b[1;34m(self, command)\u001b[0m\n\u001b[0;32m    509\u001b[0m \u001b[38;5;28;01mtry\u001b[39;00m:\n\u001b[0;32m    510\u001b[0m     \u001b[38;5;28;01mwhile\u001b[39;00m \u001b[38;5;28;01mTrue\u001b[39;00m:\n\u001b[1;32m--> 511\u001b[0m         answer \u001b[38;5;241m=\u001b[39m smart_decode(\u001b[38;5;28;43mself\u001b[39;49m\u001b[38;5;241;43m.\u001b[39;49m\u001b[43mstream\u001b[49m\u001b[38;5;241;43m.\u001b[39;49m\u001b[43mreadline\u001b[49m\u001b[43m(\u001b[49m\u001b[43m)\u001b[49m[:\u001b[38;5;241m-\u001b[39m\u001b[38;5;241m1\u001b[39m])\n\u001b[0;32m    512\u001b[0m         logger\u001b[38;5;241m.\u001b[39mdebug(\u001b[38;5;124m\"\u001b[39m\u001b[38;5;124mAnswer received: \u001b[39m\u001b[38;5;132;01m{0}\u001b[39;00m\u001b[38;5;124m\"\u001b[39m\u001b[38;5;241m.\u001b[39mformat(answer))\n\u001b[0;32m    513\u001b[0m         \u001b[38;5;66;03m# Happens when a the other end is dead. There might be an empty\u001b[39;00m\n\u001b[0;32m    514\u001b[0m         \u001b[38;5;66;03m# answer before the socket raises an error.\u001b[39;00m\n",
      "File \u001b[1;32m~\\AppData\\Local\\Programs\\Python\\Python312\\Lib\\socket.py:708\u001b[0m, in \u001b[0;36mSocketIO.readinto\u001b[1;34m(self, b)\u001b[0m\n\u001b[0;32m    706\u001b[0m \u001b[38;5;28;01mwhile\u001b[39;00m \u001b[38;5;28;01mTrue\u001b[39;00m:\n\u001b[0;32m    707\u001b[0m     \u001b[38;5;28;01mtry\u001b[39;00m:\n\u001b[1;32m--> 708\u001b[0m         \u001b[38;5;28;01mreturn\u001b[39;00m \u001b[38;5;28;43mself\u001b[39;49m\u001b[38;5;241;43m.\u001b[39;49m\u001b[43m_sock\u001b[49m\u001b[38;5;241;43m.\u001b[39;49m\u001b[43mrecv_into\u001b[49m\u001b[43m(\u001b[49m\u001b[43mb\u001b[49m\u001b[43m)\u001b[49m\n\u001b[0;32m    709\u001b[0m     \u001b[38;5;28;01mexcept\u001b[39;00m timeout:\n\u001b[0;32m    710\u001b[0m         \u001b[38;5;28mself\u001b[39m\u001b[38;5;241m.\u001b[39m_timeout_occurred \u001b[38;5;241m=\u001b[39m \u001b[38;5;28;01mTrue\u001b[39;00m\n",
      "\u001b[1;31mKeyboardInterrupt\u001b[0m: "
     ]
    }
   ],
   "source": [
    "df_cad_new.filter(\n",
    "    (col(\"CPF_CNPJ\")==\"5355531962\")|\n",
    "    (col(\"CPF_CNPJ\")==\"24434489836\")|\n",
    "    (col(\"CPF_CNPJ\")==\"9597228904\")             \n",
    "    ).show(200,truncate=False) # Categorizar novos associados"
   ]
  },
  {
   "cell_type": "code",
   "execution_count": null,
   "id": "d84ff3d1",
   "metadata": {},
   "outputs": [
    {
     "data": {
      "text/plain": [
       "94851"
      ]
     },
     "execution_count": 75,
     "metadata": {},
     "output_type": "execute_result"
    }
   ],
   "source": [
    "df_cad_new.filter(\n",
    "    (col(\"LIMITE_TOTAL_UTILIZADO\")<0)|\n",
    "    (col(\"LIMITE_A_VISTA_UTILIZADO\")<0)|\n",
    "    (col(\"LIMITE_MENSAL_UTILIZADO\")<0) |\n",
    "    (col(\"LIMITE_SAQUE_UTILIZADO\")<0) | \n",
    "    (col(\"LIMITE_TOTAL_DISPONIVEL\")<0) |  \n",
    "    (col(\"LIMITE_A_VISTA_DISPONIVEL\")<0) |  \n",
    "    (col(\"LIMITE_SAQUE_DISPONIVEL\")<0) |       \n",
    "    (col(\"LIMITE_MENSAL_DISPONIVEL\")<0) \n",
    "    ).count() # Categorizar novos associados"
   ]
  },
  {
   "cell_type": "code",
   "execution_count": null,
   "id": "daf725de",
   "metadata": {},
   "outputs": [
    {
     "name": "stdout",
     "output_type": "stream",
     "text": [
      "+------+-------+------+------------------+-----------------+------+\n",
      "|Mínimo|Mediana|Máximo|Média             |Desvio Padrão    |Qtd   |\n",
      "+------+-------+------+------------------+-----------------+------+\n",
      "|0     |1577.0 |3667  |1599.5925234232418|992.2202586520292|540809|\n",
      "+------+-------+------+------------------+-----------------+------+\n",
      "\n"
     ]
    }
   ],
   "source": [
    "'''## Funções de agregação mean, min, max, median, count, countDistinct,stddev\n",
    "df_cad_new.agg(min(\"TEMPO_RELACIONAMENTO_KREDILIG\").alias(\"Mínimo\"),\\\n",
    "            median(\"TEMPO_RELACIONAMENTO_KREDILIG\").alias(\"Mediana\"),\\\n",
    "            max(\"TEMPO_RELACIONAMENTO_KREDILIG\").alias(\"Máximo\"),\\\n",
    "            mean(\"TEMPO_RELACIONAMENTO_KREDILIG\").alias(\"Média\"),\\\n",
    "            stddev(\"TEMPO_RELACIONAMENTO_KREDILIG\").alias(\"Desvio Padrão\"),\\\n",
    "            count('TEMPO_RELACIONAMENTO_KREDILIG').alias(\"Qtd\")\n",
    "            ).show(truncate=False)## Toda a variável'''"
   ]
  },
  {
   "cell_type": "code",
   "execution_count": 7,
   "id": "81d3c64d",
   "metadata": {},
   "outputs": [
    {
     "name": "stdout",
     "output_type": "stream",
     "text": [
      "+----------+---------+-------+---------+-------------+----------+-------------+---------+------+--------------------+\n",
      "|    Mínimo|1 Quartil|Mediana|3 Quartil|       Máximo|     Média|Desvio Padrão|   CV (%)|   Qtd|            Variável|\n",
      "+----------+---------+-------+---------+-------------+----------+-------------+---------+------+--------------------+\n",
      "|      18.0|     37.0|   50.0|     63.0|        106.0|   50.4294|      16.3218|  32.3656|540809|               IDADE|\n",
      "|      0.01|   1700.0| 2471.0|   3500.0|1.920014537E8| 3438.9688|   263991.167|7676.4629|540809|      RENDA_DIGITADA|\n",
      "|       0.0|      0.0|    0.0|      0.0|    2611128.0|19729.0404|   66876.3968| 338.9744|540809|        RENDA_VALIDA|\n",
      "|       0.0|    704.0| 1576.0|   2407.0|       3667.0| 1599.5925|     992.2203|  62.0296|540809|TEMPO_RELACIONAME...|\n",
      "|       0.0|     12.0|   72.0|    602.0|       3549.0|  385.0013|     585.2222| 152.0052|540809|TEMPO_INATIVIDADE...|\n",
      "|       0.0|    723.0|  877.0|    959.0|       1000.0|  811.9812|     188.8348|  23.2561|540809|               SCORE|\n",
      "|       0.0|      0.0|    0.0|   6750.0|     100000.0| 3826.8708|    5564.0539| 145.3943|540809|        LIMITE_TOTAL|\n",
      "|       0.0|      0.0|    0.0|   1215.0|     100000.0|  668.8309|    1005.8381| 150.3875|540809|      LIMITE_A_VISTA|\n",
      "|       0.0|      0.0|    0.0|   2210.0|      40000.0| 1257.6738|    2019.1267| 160.5446|540809|        LIMITE_SAQUE|\n",
      "|       0.0|      0.0|    0.0|    400.0|      55000.0|  242.2889|     396.9823| 163.8467|540809|       LIMITE_MENSAL|\n",
      "|  -16128.0|      0.0|    0.0|   1953.6|    127092.68| 1652.9497|    3442.5989|   208.27|540809|LIMITE_TOTAL_UTIL...|\n",
      "|  -2589.74|      0.0|    0.0|   258.31|     54927.81|  257.0987|     853.2592|   331.88|540809|LIMITE_A_VISTA_UT...|\n",
      "|   -8026.4|      0.0|    0.0|      0.0|     27473.67|  284.6364|    1090.2216| 383.0225|540809|LIMITE_SAQUE_UTIL...|\n",
      "|   -1860.4|      0.0|    0.0|    141.0|     14156.28|   97.4996|     183.5349| 188.2417|540809|LIMITE_MENSAL_UTI...|\n",
      "|-127092.68|      0.0|    0.0|   4344.0|     100000.0| 2173.9211|     4956.875| 228.0154|540809|LIMITE_TOTAL_DISP...|\n",
      "| -54927.81|      0.0|    0.0|    973.0|     100000.0|  411.7322|    1256.9372| 305.2803|540809|LIMITE_A_VISTA_DI...|\n",
      "| -24140.83|      0.0|    0.0|   1870.0|      40000.0|  973.0373|    1817.7113|  186.808|540809|LIMITE_SAQUE_DISP...|\n",
      "|   -5979.0|      0.0|    0.0|   254.34|     54444.44|  144.7893|     365.3301| 252.3184|540809|LIMITE_MENSAL_DIS...|\n",
      "+----------+---------+-------+---------+-------------+----------+-------------+---------+------+--------------------+\n",
      "\n"
     ]
    },
    {
     "data": {
      "text/plain": [
       "'df_resumo_pd = df_resumo.toPandas()\\ndf_resumo_pd.to_excel(\"medidas_descritivas_Cad.xlsx\", index=False)'"
      ]
     },
     "execution_count": 7,
     "metadata": {},
     "output_type": "execute_result"
    }
   ],
   "source": [
    "# Medidas descritivas\n",
    "\n",
    "resultados = []\n",
    "for coluna in col_numerica:\n",
    "    resumo= df_cad_new.agg(\n",
    "        min(col(coluna)).alias(\"Mínimo\"),\n",
    "        expr(f\"percentile_approx({coluna}, 0.25)\").alias(\"1 Quartil\"),\n",
    "        expr(f\"percentile_approx({coluna}, 0.5)\").alias(\"Mediana\"),\n",
    "        expr(f\"percentile_approx({coluna}, 0.75)\").alias(\"3 Quartil\"),\n",
    "        max(col(coluna)).alias(\"Máximo\"),\n",
    "        round(mean(col(coluna)),4).alias(\"Média\"),\n",
    "        round(stddev(col(coluna)),4).alias(\"Desvio Padrão\"),\n",
    "        round((stddev(col(coluna))/mean(col(coluna)))*100,4).alias(\"CV (%)\"),\n",
    "        count(col(coluna)).alias(\"Qtd\")\n",
    "        ).withColumn(\"Variável\", lit(coluna))\n",
    "    resultados.append(resumo)\n",
    "\n",
    "df_resumo = resultados[0]\n",
    "for r in resultados[1:]:\n",
    "    df_resumo = df_resumo.union(r)\n",
    "\n",
    "df_resumo.show()\n",
    "\n",
    "'''df_resumo_pd = df_resumo.toPandas()\n",
    "df_resumo_pd.to_excel(\"medidas_descritivas_Cad.xlsx\", index=False)'''"
   ]
  },
  {
   "cell_type": "code",
   "execution_count": 62,
   "id": "6c5642ed",
   "metadata": {},
   "outputs": [],
   "source": [
    "coluna = \"LIMITE_MENSAL_DISPONIVEL\"\n",
    "\n",
    "# Histograma \n",
    "df_cad_pandas = df_cad_new.toPandas()\n",
    "\n",
    "# histograma\n",
    "plot.hist(df_cad_pandas[coluna],alpha=0.8, color='blue',edgecolor='black')\n",
    "plot.xlabel(\"Variável\")\n",
    "plot.ylabel(\"Frequência\")\n",
    "plot.title(\"Histograma\")\n",
    "plot.grid(True, which='both', linestyle='--', linewidth=0.5, color='gray', axis='both')\n",
    "plot.show()"
   ]
  },
  {
   "cell_type": "code",
   "execution_count": null,
   "id": "772bc621",
   "metadata": {},
   "outputs": [
    {
     "data": {
      "image/png": "[encoded data removed]",
      "text/plain": [
       "<Figure size 800x600 with 1 Axes>"
      ]
     },
     "metadata": {},
     "output_type": "display_data"
    }
   ],
   "source": [
    "# boxplot\n",
    "df_cad_pandas.boxplot(column=coluna, figsize=(8, 6))\n",
    "plot.title('Box Plot')\n",
    "plot.ylabel('Valores')\n",
    "plot.show()"
   ]
  },
  {
   "cell_type": "code",
   "execution_count": null,
   "id": "2a48fdc2",
   "metadata": {},
   "outputs": [
    {
     "name": "stdout",
     "output_type": "stream",
     "text": [
      "Outliers\n"
     ]
    },
    {
     "data": {
      "text/plain": [
       "47344"
      ]
     },
     "execution_count": 108,
     "metadata": {},
     "output_type": "execute_result"
    }
   ],
   "source": [
    "# Identificando outiliers\n",
    "\n",
    "quantis = df_cad_new.approxQuantile(coluna, [0.25, 0.75], 0.0)\n",
    "Q1, Q3 = quantis\n",
    "IQR = Q3 - Q1\n",
    "\n",
    "LI = Q1 - 1.5 * IQR\n",
    "LS = Q3 + 1.5 * IQR\n",
    "\n",
    "outliers = df_cad_new.filter((col(coluna) < LI) | (col(coluna) > LS))\n",
    "print(\"Outliers\")\n",
    "outliers.orderBy(coluna, ascending=False).count()"
   ]
  },
  {
   "cell_type": "code",
   "execution_count": null,
   "id": "8b34e911",
   "metadata": {},
   "outputs": [
    {
     "data": {
      "image/png": "[encoded data removed]",
      "text/plain": [
       "<Figure size 600x400 with 1 Axes>"
      ]
     },
     "metadata": {},
     "output_type": "display_data"
    }
   ],
   "source": [
    "# Gráfico de dispersão\n",
    "df_plot = df_cad_new.select(coluna).dropna().toPandas()\n",
    "\n",
    "plot.figure(figsize=(6, 4))\n",
    "plot.plot(df_plot[coluna], 'o', color='steelblue', alpha=0.7)\n",
    "plot.ylabel(\"Valores\")\n",
    "plot.title(\"Gráfico de Dispersão\")\n",
    "plot.grid(True, linestyle='--', alpha=0.5)\n",
    "plot.tight_layout()\n",
    "plot.show()"
   ]
  },
  {
   "cell_type": "code",
   "execution_count": null,
   "id": "3d0ad141",
   "metadata": {},
   "outputs": [],
   "source": [
    "# Tabela de contingência"
   ]
  },
  {
   "cell_type": "markdown",
   "id": "02214779",
   "metadata": {},
   "source": [
    "## Contatos Carnê"
   ]
  },
  {
   "cell_type": "code",
   "execution_count": 8,
   "id": "9cf14dfd",
   "metadata": {},
   "outputs": [
    {
     "name": "stdout",
     "output_type": "stream",
     "text": [
      "root\n",
      " |-- anomes: string (nullable = true)\n",
      " |-- cpf_cnpj: string (nullable = true)\n",
      " |-- conceito: string (nullable = true)\n",
      " |-- id_contrato: string (nullable = true)\n",
      " |-- id_financeira: string (nullable = true)\n",
      " |-- data: date (nullable = true)\n",
      " |-- id_agente: string (nullable = true)\n",
      " |-- dias_carencia: integer (nullable = true)\n",
      " |-- taxajuros: double (nullable = true)\n",
      " |-- cet: double (nullable = true)\n",
      " |-- saldo_contabil: double (nullable = true)\n",
      " |-- dias_maior_atraso: integer (nullable = true)\n",
      " |-- dias_maior_atraso_aberto: integer (nullable = true)\n",
      " |-- media_atraso: double (nullable = true)\n",
      " |-- qtd_parcelas: integer (nullable = true)\n",
      " |-- qtd_parcelas_abertas: integer (nullable = true)\n",
      " |-- qtd_parcelas_pagas: integer (nullable = true)\n",
      " |-- valor_entrada: double (nullable = true)\n",
      " |-- valor_pago: double (nullable = true)\n",
      " |-- valor_pago_atraso: double (nullable = true)\n",
      " |-- valor_parcela: string (nullable = true)\n",
      " |-- data_vencimento_prox_parcela: date (nullable = true)\n",
      " |-- data_vencimento_ultima_parcela: date (nullable = true)\n",
      " |-- principal_total: double (nullable = true)\n",
      " |-- servicos_financeiros: double (nullable = true)\n",
      " |-- flag_renegociacao: string (nullable = true)\n",
      " |-- Produto: string (nullable = false)\n",
      " |-- Creditos_a_vencer: double (nullable = true)\n",
      " |-- creditos_vencidos: double (nullable = true)\n",
      " |-- ind_reneg: integer (nullable = false)\n",
      " |-- inad_60_aberto: integer (nullable = false)\n",
      " |-- inad_60: integer (nullable = false)\n",
      "\n",
      "+-------+--------+--------+-----------+-------------+----------+--------------------+-------------+---------+----+--------------+-----------------+------------------------+------------+------------+--------------------+------------------+-------------+----------+-----------------+-------------+----------------------------+------------------------------+---------------+--------------------+-----------------+---------+-----------------+-----------------+---------+--------------+-------+\n",
      "| anomes|cpf_cnpj|conceito|id_contrato|id_financeira|      data|           id_agente|dias_carencia|taxajuros| cet|saldo_contabil|dias_maior_atraso|dias_maior_atraso_aberto|media_atraso|qtd_parcelas|qtd_parcelas_abertas|qtd_parcelas_pagas|valor_entrada|valor_pago|valor_pago_atraso|valor_parcela|data_vencimento_prox_parcela|data_vencimento_ultima_parcela|principal_total|servicos_financeiros|flag_renegociacao|  Produto|Creditos_a_vencer|creditos_vencidos|ind_reneg|inad_60_aberto|inad_60|\n",
      "+-------+--------+--------+-----------+-------------+----------+--------------------+-------------+---------+----+--------------+-----------------+------------------------+------------+------------+--------------------+------------------+-------------+----------+-----------------+-------------+----------------------------+------------------------------+---------------+--------------------+-----------------+---------+-----------------+-----------------+---------+--------------+-------+\n",
      "|2022/04|  344010|       1| 2779971024|      2151380|2017-04-24|   005 KREDILIG (CP)|           30|     8.12|8.48|           0.0|              206|                       0|       102.0|          24|                   0|                24|          0.0|   5522.53|           142.57|       299.70|                        NULL|                    2019-04-25|        3092.24|                 0.0|              NAO|       CP|              0.0|              0.0|        0|             0|      1|\n",
      "|2022/05|  344010|       1| 2779971025|      2169521|2017-05-23|   005 KREDILIG (CP)|           31|     8.11|8.48|           0.0|              192|                       0|       100.0|          24|                   0|                24|          0.0|   3849.24|           391.87|       200.05|                        NULL|                    2019-05-24|        2061.54|                 0.0|              NAO|       CP|              0.0|              0.0|        0|             0|      1|\n",
      "|2022/07|  344010|       1| 2779971026|         NULL|2017-07-17|       001 CREDIARIO|           31|      3.9| 3.9|           0.0|              214|                       0|       111.0|          13|                   0|                13|          0.0|   1914.89|           227.14|       129.85|                        NULL|                    2018-08-17|         1299.0|                 0.0|              NAO|CREDIARIO|              0.0|              0.0|        0|             0|      1|\n",
      "|2023/02|  344010|       1| 2779971029|      2394209|2018-02-16| 015 RENEGOCIACAO CP|            0|     2.56|2.56|           0.0|              273|                       0|       136.0|          24|                   0|                24|        330.0|   5810.68|             6.25|       258.00|                        NULL|                    2020-02-16|        4571.03|                 0.0|              SIM|       CP|              0.0|              0.0|        1|             0|      1|\n",
      "|2023/02|  344010|       1| 2779971030|      2394213|2018-02-16| 015 RENEGOCIACAO CP|            0|      3.4| 3.4|           0.0|              224|                       0|       105.0|          19|                   0|                19|        220.0|   3407.16|              5.1|       201.00|                        NULL|                    2019-09-16|        2772.49|                 0.0|              SIM|       CP|              0.0|              0.0|        1|             0|      1|\n",
      "|2023/11|  344010|       1| 2779971032|         NULL|2018-11-17|011 RENEGOCIACAO ...|            0|     0.15|0.15|           0.0|                0|                       0|        NULL|           4|                   0|                 4|        300.0|    695.55|              0.0|        99.00|                        NULL|                    2019-03-17|         394.44|                 0.0|              SIM|CREDIARIO|              0.0|              0.0|        1|             0|      0|\n",
      "|2023/11|  344010|       1| 2779971034|      2584430|2018-11-26|025 RENEGOCIACAO ...|            0|     2.99|2.99|        1540.0|             1588|                    1588|      1496.0|          14|                   7|                 7|        500.0|   1945.45|              0.0|       220.00|                  2019-07-26|                    2020-01-26|        2481.06|                 0.0|              SIM|       CP|              0.0|           1540.0|        1|             1|      1|\n",
      "|2024/01|  344010|       1| 2779971035|      2632491|2019-01-14|025 RENEGOCIACAO ...|            0|     2.99|2.99|        4158.0|             1753|                    1753|      1662.0|           9|                   7|                 2|        594.0|   1773.85|              0.0|       594.00|                  2019-04-14|                    2019-10-14|        4622.43|                 0.0|              SIM|       CP|              0.0|           4158.0|        1|             1|      1|\n",
      "|2022/09|  929085|       4| 2976017022|      2274168|2017-09-30| 015 RENEGOCIACAO CP|            0|     2.99|2.99|           0.0|             1139|                       0|       709.0|          24|                   0|                24|        333.0|   6461.72|             36.1|       333.00|                        NULL|                    2019-10-02|        5620.14|                 0.0|              SIM|       CP|              0.0|              0.0|        1|             0|      1|\n",
      "|2025/05|  929085|       4| 2976017024|      3166582|2021-04-14|025 RENEGOCIACAO ...|            0|     2.96|2.99|           0.0|                1|                       0|         1.0|          24|                   0|                24|        266.5|   6628.55|             5.55|       266.40|                        NULL|                    2023-04-14|         4511.2|                 0.0|              SIM|       CP|              0.0|              0.0|        1|             0|      0|\n",
      "|2022/11|  954004|      10|   37717023|      2313110|2017-11-18|  004 KREDILIG (CDC)|           30|     4.23|4.59|           0.0|                0|                       0|        NULL|          14|                   0|                14|          0.0|    5430.8|              0.0|       393.00|                        NULL|                    2019-01-20|         4075.2|                20.0|              NAO|      CDC|              0.0|              0.0|        0|             0|      0|\n",
      "|2023/02|  954004|      10|   37717024|         NULL|2018-02-10|       001 CREDIARIO|           31|     3.01|3.01|           0.0|                1|                       0|         1.0|          12|                   0|                12|          0.0|    1444.4|              0.0|       121.00|                        NULL|                    2019-02-13|         1199.0|                 0.0|              NAO|CREDIARIO|              0.0|              0.0|        0|             0|      0|\n",
      "|2023/07|  954004|      10|   37717025|         NULL|2018-07-26|       001 CREDIARIO|           31|     2.88|2.88|           0.0|                0|                       0|        NULL|          12|                   0|                12|          0.0|   1538.75|              0.0|       130.00|                        NULL|                    2019-07-26|         1299.0|                 0.0|              NAO|CREDIARIO|              0.0|              0.0|        0|             0|      0|\n",
      "|2024/04|  954004|      10|   37717026|      2699276|2019-04-03|  004 KREDILIG (CDC)|           30|     3.35|3.73|           0.0|                5|                       0|         4.0|           6|                   0|                 6|          0.0|    837.85|              0.0|       140.00|                        NULL|                    2019-10-03|         748.49|               39.99|              NAO|      CDC|              0.0|              0.0|        0|             0|      0|\n",
      "|2024/05|  954004|      10|   37717028|      2747656|2019-05-22|  004 KREDILIG (CDC)|           31|      6.6| 7.0|           0.0|                7|                       0|         7.0|           7|                   0|                 7|          0.0|    971.65|             4.95|       142.00|                        NULL|                    2019-12-22|         772.07|                22.0|              NAO|      CDC|              0.0|              0.0|        0|             0|      0|\n",
      "|2024/12|  954004|      10|   37717030|         NULL|2019-12-23|       001 CREDIARIO|           31|     1.62|1.62|           0.0|                0|                       0|        NULL|          11|                   0|                11|          0.0|    2271.9|              0.0|       207.00|                        NULL|                    2020-11-23|        2067.38|              268.38|              NAO|CREDIARIO|              0.0|              0.0|        0|             0|      0|\n",
      "|2022/03| 1034979|       1| 3007498033|      2121635|2017-03-06|  004 KREDILIG (CDC)|          100|     4.43|4.79|           0.0|               27|                       0|        19.0|           5|                   0|                 5|          0.0|     328.2|             10.6|        63.60|                        NULL|                    2017-10-14|         252.42|                 0.0|              NAO|      CDC|              0.0|              0.0|        0|             0|      0|\n",
      "|2022/06| 1034979|       1| 3007498034|      2181410|2017-06-08|  004 KREDILIG (CDC)|           30|     3.51|3.86|           0.0|               32|                       0|        17.0|          13|                   0|                13|          0.0|    1649.2|            43.95|       123.55|                        NULL|                    2018-07-08|        1267.78|                20.0|              NAO|      CDC|              0.0|              0.0|        0|             0|      0|\n",
      "|2022/09| 1034979|       1| 3007498037|      2263751|2017-09-15|  004 KREDILIG (CDC)|           30|     3.58|3.93|           0.0|               40|                       0|        30.0|          13|                   0|                13|          0.0|    513.95|             10.8|        39.00|                        NULL|                    2018-10-15|         398.73|                 0.0|              NAO|      CDC|              0.0|              0.0|        0|             0|      0|\n",
      "|2022/12| 1034979|       1| 3007498040|      2344130|2017-12-18|   005 KREDILIG (CP)|           31|     6.04|6.36|           0.0|                0|                       0|        NULL|          24|                   0|                24|          0.0|   3816.85|              0.0|       249.00|                        NULL|                    2019-12-19|        3091.11|                 0.0|              NAO|       CP|              0.0|              0.0|        0|             0|      0|\n",
      "+-------+--------+--------+-----------+-------------+----------+--------------------+-------------+---------+----+--------------+-----------------+------------------------+------------+------------+--------------------+------------------+-------------+----------+-----------------+-------------+----------------------------+------------------------------+---------------+--------------------+-----------------+---------+-----------------+-----------------+---------+--------------+-------+\n",
      "only showing top 20 rows\n",
      "\n",
      "1522997\n"
     ]
    }
   ],
   "source": [
    "# Base Carnê\n",
    "df_carne=spark.read.csv(\"C:/Users/fernando.monteiro/OneDrive - BHS/KAB/Base Behavior/Base Contratos Carne/banco de dados/contratos_carne.csv\",sep=\";\", header=True, inferSchema=True)\n",
    "\n",
    "# % de nulos por linha\n",
    "df_carne=df_carne.withColumn(\"%_nulos\",\n",
    "                             round(reduce(lambda a,b: a+b,\n",
    "                                      [when(col(c).isNull(),1).otherwise(0) for c in df_carne.columns])\n",
    "                                      / lit(len(df_carne.columns))*100,4)\n",
    "                             )\n",
    "\n",
    "# Excluindo Espaços em branco à esquerda e direita\n",
    "df_carne=df_carne.withColumn('id_agente', trim(col('id_agente')))\n",
    "\n",
    "# Excluindo linhas\n",
    "df_carne = df_carne.filter(\n",
    "    ~(\n",
    "        (col(\"id_agente\") == \"033 VENDAS ATACADO\") |\n",
    "        (col(\"id_agente\") == \"009 SAQUE EMERGENCIAL\")|\n",
    "        (col(\"id_agente\") == \"029 RENEGOCIACAO SAQUE EMER (AG19)\")|\n",
    "        (col(\"id_agente\") == \"019 RENEGOCIACAO SAQUE EMERGENCIAL\")|\n",
    "        (col(\"%_nulos\")>50)\n",
    "        )\n",
    "        ).drop(\"%_nulos\")\n",
    "\n",
    "#Tipos\n",
    "tipos_carne = {\n",
    "    \"cpf_cnpj\": \"string\",\n",
    "    \"conceito\": \"string\",\n",
    "    \"id_contrato\": \"string\",\n",
    "    \"id_financeira\": \"string\",\n",
    "    \"data\": \"date\",\n",
    "    \"media_atraso\":  \"double\",\n",
    "    \"data_vencimento_prox_parcela\": \"date\",\n",
    "    \"data_vencimento_ultima_parcela\": \"date\"}\n",
    "\n",
    "# conversão\n",
    "for col_nome, tipo in tipos_carne.items():\n",
    "    df_carne = df_carne.withColumn(col_nome, col(col_nome).cast(tipo))\n",
    "\n",
    "\n",
    "# Categorização\n",
    "df_carne = df_carne.withColumn(\n",
    "    \"Produto\",\n",
    "    when(col(\"id_agente\").isin(\"001 CREDIARIO\", \"011 RENEGOCIACAO CREDIARIO\", \"021 RENEGOCIACAO CREDIARIO (AG 11)\"), \"CREDIARIO\")\n",
    "    .when(col(\"id_agente\").isin(\"004 KREDILIG (CDC)\", \"014 RENEGOCIACAO CDC\",\"024 RENEGOCIACAO CDC (AG 14)\"), \"CDC\")\n",
    "    .when(col(\"id_agente\").isin(\"005 KREDILIG (CP)\", \"015 RENEGOCIACAO CP\",\"025 RENEGOCIACAO CP (AG 15)\"), \"CP\")\n",
    "    .when(col(\"id_agente\").isin(\"044 SEGURO - KREDILIG (CDC)\"), \"CDC\")\n",
    "    .otherwise(\"SEM CLASSIFICACAO\")\n",
    ")\n",
    "\n",
    "# Criar novas variáveis, resumir\n",
    "\n",
    "cols_a_vencer = [\n",
    "    \"creditos_a_vencer_ate_30_dias\",\n",
    "    \"creditos_a_vencer_de_31_e_60_dias\",\n",
    "    \"creditos_a_vencer_de_61_e_90_dias\",\n",
    "    \"creditos_a_vencer_de_91_e_180_dias\",\n",
    "    \"creditos_a_vencer_de_181_e_360_dias\",\n",
    "    \"creditos_a_vencer_de_361_e_720_dias\",\n",
    "    \"creditos_a_vencer_de_721_e_1080_dias\",\n",
    "    \"creditos_a_vencer_de_1081_e_1440_dias\",\n",
    "    \"creditos_a_vencer_de_1441_e_1800_dias\",\n",
    "    \"creditos_a_vencer_de_1801_e_5400_dias\",\n",
    "    \"creditos_a_vencer_acima_de_5400_dias\"\n",
    "]\n",
    "\n",
    "cols_vencidos = [\n",
    "    \"creditos_vencidos_de_1_a_14_dias\",\n",
    "    \"creditos_vencidos_de_15_a_30_dias\",\n",
    "    \"creditos_vencidos_de_31_a_60_dias\",\n",
    "    \"creditos_vencidos_de_61_a_90_dias\",\n",
    "    \"creditos_vencidos_de_91_a_120_dias\",\n",
    "    \"creditos_vencidos_de_121_a_150_dias\",\n",
    "    \"creditos_vencidos_de_151_a_180_dias\",\n",
    "    \"creditos_vencidos_de_181_a_240_dias\",\n",
    "    \"creditos_vencidos_de_241_a_300_dias\",\n",
    "    \"creditos_vencidos_de_301_a_360_dias\",\n",
    "    \"creditos_vencidos_de_361_a_540_dias\",\n",
    "    \"creditos_vencidos_acima_de_540_dias\"\n",
    "]\n",
    "\n",
    "df_carne = (\n",
    "    df_carne\n",
    "    .withColumn(\"Creditos_a_vencer\", reduce(lambda a, b: a + b, [col(c) for c in cols_a_vencer])) # soma das colunas crédito a vencer\n",
    "    .withColumn(\"creditos_vencidos\", reduce(lambda a, b: a + b, [col(c) for c in cols_vencidos])) # soma das colunas crédito vencidos\n",
    "    .withColumn(\"ind_reneg\", when(col(\"flag_renegociacao\").isin(\"SIM\"), 1).otherwise(0)) # Indicador numérico de contratos de Renegociação\n",
    "    .withColumn(\"inad_60_aberto\", when(col(\"dias_maior_atraso_aberto\")>60, 1).otherwise(0)) # Idicador 1 se o contrato tem mais de 60 dias em atraso e 0 caso contrário\n",
    "    .withColumn(\"inad_60\", when(col(\"dias_maior_atraso\")>60, 1).otherwise(0)) # Idicador 1 se o contrato teve mais de 60 dias em atraso e 0 caso contrário\n",
    "    .drop(*cols_a_vencer, *cols_vencidos) \n",
    ")\n",
    "\n",
    "# variáveis numéricas\n",
    "tipos_num = ['int', 'bigint', 'double', 'float', 'decimal']\n",
    "\n",
    "col_num_carne = [nome for nome, tipo in df_carne.dtypes if any(t in tipo for t in tipos_num)]\n",
    "\n",
    "\n",
    "# info\n",
    "df_carne.printSchema()\n",
    "df_carne.show()\n",
    "print(df_carne.count())"
   ]
  },
  {
   "cell_type": "code",
   "execution_count": null,
   "id": "76f79746",
   "metadata": {},
   "outputs": [],
   "source": [
    "'''# Qtd de contratos por Cpf\n",
    "res = df_carne_join.groupBy(\"cpf_cnpj\").agg(count(\"id_contrato\").alias(\"num_id_contrato\"),\n",
    "                                 max(\"dias_maior_atraso_aberto\").alias(\"id_inad\")) \n",
    "res.show()\n",
    "res.filter((col(\"num_id_contrato\") > 10) &\n",
    "           (col(\"id_inad\") > 1)).show()'''"
   ]
  },
  {
   "cell_type": "code",
   "execution_count": 9,
   "id": "3879de63",
   "metadata": {},
   "outputs": [
    {
     "name": "stdout",
     "output_type": "stream",
     "text": [
      "+---------+------+\n",
      "|Produto  |count |\n",
      "+---------+------+\n",
      "|CDC      |427018|\n",
      "|CP       |309084|\n",
      "|CREDIARIO|786895|\n",
      "+---------+------+\n",
      "\n"
     ]
    }
   ],
   "source": [
    "df_carne.groupBy(\"Produto\").count().show(truncate=False)"
   ]
  },
  {
   "cell_type": "code",
   "execution_count": 7,
   "id": "d6be84ab",
   "metadata": {},
   "outputs": [],
   "source": [
    "# tabela de frequencia\n",
    "col_cat_carne = [\"flag_renegociacao\", \"conceito\",\"id_agente\", \"Produto\"]\n",
    "\n",
    "# armazenar as tabelas\n",
    "tab_freq_carne = {}\n",
    "\n",
    "for col_nome in col_cat_carne:\n",
    "    df_freq = df_carne.groupBy(col_nome).count().orderBy(\"count\", ascending=False)\n",
    "    tab_freq_carne[col_nome] = df_freq\n",
    "\n",
    "# Excel\n",
    "with pd.ExcelWriter(\"Ana_Exp_Carne_.xlsx\", engine=\"xlsxwriter\") as writer:\n",
    "    for nome, df_spark in tab_freq_carne.items():\n",
    "        df_carne_new_pandas = df_spark.toPandas() # pandas\n",
    "        aba = nome[:31] if len(nome) > 31 else nome # para variáveis com nomes grandes, mas não é o caso \n",
    "        df_carne_new_pandas.to_excel(writer, sheet_name=aba, index=False)"
   ]
  },
  {
   "cell_type": "code",
   "execution_count": null,
   "id": "dfc50b79",
   "metadata": {},
   "outputs": [],
   "source": [
    "'''\n",
    "# Conceito distintos para o mesmo Cpf\n",
    "df_carne_join.groupBy(\"cpf_cnpj\").agg(countDistinct(\"conceito\").alias(\"Conceito_dist\")).filter((col(\"Conceito_dist\") > 1)).show()\n",
    "df_carne_join.filter(## cpf possui dois conceitos diferentes\n",
    "    col(\"cpf_cnpj\")==3.4946861068E10            \n",
    "    ).show()\n",
    "    '''"
   ]
  },
  {
   "cell_type": "code",
   "execution_count": null,
   "id": "c5b47a1a",
   "metadata": {},
   "outputs": [
    {
     "data": {
      "image/png": "[encoded data removed]",
      "text/plain": [
       "<Figure size 1200x400 with 1 Axes>"
      ]
     },
     "metadata": {},
     "output_type": "display_data"
    }
   ],
   "source": [
    "## Gráfico de Barras\n",
    "\n",
    "var_cat= \"id_agente\"\n",
    "\n",
    "var_counts=tab_freq_carne[var_cat].collect()\n",
    "var_counts = sorted(var_counts, key=lambda row: row[\"count\"], reverse=True)[:20]  # Top (Variáveis com múltiplas categorias)\n",
    "\n",
    "plot.figure(figsize=(12, 4))\n",
    "\n",
    "var=[str(row[var_cat]) if row[var_cat] is not None else \"NULL\" for row in var_counts]\n",
    "counts=[row[\"count\"] for row in var_counts]\n",
    "\n",
    "var = var[::-1]\n",
    "counts = counts[::-1]\n",
    "\n",
    "bars = plot.barh(var, counts, color='skyblue', edgecolor='black') # bar(colunas) barh(barras horizontais)\n",
    "plot.xlabel(\"Qtd\")\n",
    "plot.xlabel(\"\")\n",
    "plot.grid(axis='y', linestyle='--', alpha=0.7)\n",
    "\n",
    "#Rótulos\n",
    "'''for bar in bars:\n",
    "    height = bar.get_height()\n",
    "    plot.text(\n",
    "        bar.get_x() + bar.get_width() / 2,  \n",
    "        height,                             \n",
    "        f'{int(height)}',                  \n",
    "        ha='center', va='bottom', fontsize=9  \n",
    "    )'''\n",
    "\n",
    "for bar in bars:\n",
    "    width = bar.get_width()\n",
    "    plot.text(\n",
    "        width,                       \n",
    "        bar.get_y() + bar.get_height()/2,  \n",
    "        f'{int(width)}',            \n",
    "        ha='left', va='center', fontsize=9\n",
    "    )\n",
    "plot.tight_layout()\n",
    "plot.show()"
   ]
  },
  {
   "cell_type": "code",
   "execution_count": 10,
   "id": "382a78cc",
   "metadata": {},
   "outputs": [
    {
     "data": {
      "text/plain": [
       "'df_carne_join.select([\\n    sum((col(c) == 0).cast(\"int\")).alias(c)\\n    for c in col_num_carne_2\\n]).show()'"
      ]
     },
     "execution_count": 10,
     "metadata": {},
     "output_type": "execute_result"
    }
   ],
   "source": [
    "## Zeros em variáveis numéricas\n",
    "col_num_carne_2=['dias_carencia',\n",
    " 'taxajuros',\n",
    " 'cet',\n",
    " 'saldo_contabil',\n",
    " 'dias_maior_atraso',\n",
    " 'dias_maior_atraso_aberto',\n",
    " 'media_atraso',\n",
    " 'qtd_parcelas',\n",
    " 'qtd_parcelas_abertas',\n",
    " 'qtd_parcelas_pagas',\n",
    " 'valor_entrada',\n",
    " 'valor_pago',\n",
    " 'valor_pago_atraso',\n",
    " 'valor_parcela',\n",
    " 'principal_total',\n",
    " 'servicos_financeiros',\n",
    " 'Creditos_a_vencer',\n",
    " 'creditos_vencidos']\n",
    "\n",
    "\n",
    "'''df_carne_join.select([\n",
    "    sum((col(c) == 0).cast(\"int\")).alias(c)\n",
    "    for c in col_num_carne_2\n",
    "]).show()'''\n"
   ]
  },
  {
   "cell_type": "code",
   "execution_count": null,
   "id": "26f508e0",
   "metadata": {},
   "outputs": [
    {
     "name": "stdout",
     "output_type": "stream",
     "text": [
      "+-------+------------+--------+-----------+-------------+----------+---------------------------+-------------+---------+-----+--------------+-----------------+------------------------+------------+------------+--------------------+------------------+-------------+----------+-----------------+-------------+----------------------------+------------------------------+---------------+--------------------+-----------------+---------+-----------------+-----------------+---------+--------------+-------+------------+\n",
      "|anomes |cpf_cnpj    |conceito|id_contrato|id_financeira|data      |id_agente                  |dias_carencia|taxajuros|cet  |saldo_contabil|dias_maior_atraso|dias_maior_atraso_aberto|media_atraso|qtd_parcelas|qtd_parcelas_abertas|qtd_parcelas_pagas|valor_entrada|valor_pago|valor_pago_atraso|valor_parcela|data_vencimento_prox_parcela|data_vencimento_ultima_parcela|principal_total|servicos_financeiros|flag_renegociacao|Produto  |Creditos_a_vencer|creditos_vencidos|ind_reneg|inad_60_aberto|inad_60|CPF_CNPJ_df2|\n",
      "+-------+------------+--------+-----------+-------------+----------+---------------------------+-------------+---------+-----+--------------+-----------------+------------------------+------------+------------+--------------------+------------------+-------------+----------+-----------------+-------------+----------------------------+------------------------------+---------------+--------------------+-----------------+---------+-----------------+-----------------+---------+--------------+-------+------------+\n",
      "|2025/04|4032969.0   |10      |117725072  |NULL         |2023-12-14| 001 CREDIARIO             |31           |1.75     |1.75 |0.0           |0                |0                       |NULL        |5           |0                   |5                 |0.0          |2831.1    |0.0              |590.0        |NULL                        |2024-05-14                    |2799.0         |0.0                 |NAO              |CREDIARIO|0.0              |0.0              |0        |0             |0      |4032969.0   |\n",
      "|2025/04|4032969.0   |10      |117725073  |NULL         |2024-11-29| 001 CREDIARIO             |30           |2.04     |2.04 |0.0           |0                |0                       |NULL        |2           |0                   |2                 |0.0          |1796.75   |0.0              |899.0        |NULL                        |2025-01-29                    |1744.0         |45.0                |NAO              |CREDIARIO|0.0              |0.0              |0        |0             |0      |4032969.0   |\n",
      "|2025/04|4287959.0   |10      |1807993027 |NULL         |2023-11-07| 001 CREDIARIO             |100          |7.0      |7.0  |0.0           |0                |0                       |NULL        |5           |0                   |5                 |0.0          |224.4     |0.0              |46.0         |NULL                        |2024-06-15                    |161.08         |21.09               |NAO              |CREDIARIO|0.0              |0.0              |0        |0             |0      |4287959.0   |\n",
      "|2025/04|8925992.0   |20      |210700074  |NULL         |2022-04-30| 001 CREDIARIO             |30           |2.04     |2.04 |0.0           |0                |0                       |NULL        |10          |0                   |10                |0.0          |1470.0    |0.0              |136.94       |NULL                        |2023-02-28                    |1314.99        |35.0                |NAO              |CREDIARIO|0.0              |0.0              |0        |0             |0      |8925992.0   |\n",
      "|2025/04|1.1980923E7 |4       |230265031  |NULL         |2024-08-23| 001 CREDIARIO             |31           |0.05     |0.05 |0.0           |0                |0                       |NULL        |5           |0                   |5                 |0.0          |1419.25   |0.0              |284.0        |NULL                        |2025-01-23                    |1417.99        |0.0                 |NAO              |CREDIARIO|0.0              |0.0              |0        |0             |0      |1.1980923E7 |\n",
      "|2025/04|1.8645992E7 |20      |2745406022 |3457383      |2023-06-09| 004 KREDILIG (CDC)        |100          |2.9      |3.18 |0.0           |0                |0                       |NULL        |18          |0                   |18                |0.0          |5007.05   |0.0              |282.0        |NULL                        |2025-02-17                    |3645.97        |40.0                |NAO              |CDC      |0.0              |0.0              |0        |0             |0      |1.8645992E7 |\n",
      "|2025/04|1.8801013E7 |4       |2885593008 |NULL         |2024-11-18| 001 CREDIARIO             |30           |6.01     |6.01 |0.0           |0                |0                       |NULL        |1           |0                   |1                 |0.0          |527.95    |0.0              |529.0        |NULL                        |2024-12-18                    |499.0          |0.0                 |NAO              |CREDIARIO|0.0              |0.0              |0        |0             |0      |1.8801013E7 |\n",
      "|2025/04|1.913298E7  |20      |11753057004|NULL         |2022-12-08| 001 CREDIARIO             |31           |0.0      |0.0  |0.0           |0                |0                       |NULL        |2           |0                   |2                 |0.0          |339.9     |0.0              |169.99       |NULL                        |2023-02-08                    |339.98         |0.0                 |NAO              |CREDIARIO|0.0              |0.0              |0        |0             |0      |1.913298E7  |\n",
      "|2025/04|2.1357951E7 |4       |11242015013|NULL         |2021-11-04| 001 CREDIARIO             |30           |0.01     |0.01 |0.0           |123              |0                       |47.0        |10          |0                   |10                |0.0          |3135.6    |102.01           |303.38       |NULL                        |2022-09-04                    |3033.0         |35.0                |NAO              |CREDIARIO|0.0              |0.0              |0        |0             |1      |2.1357951E7 |\n",
      "|2025/04|2.3354925E7 |1       |2892311014 |NULL         |2024-05-25| 011 RENEGOCIACAO CREDIARIO|0            |0.12     |0.12 |0.0           |144              |0                       |53.0        |29          |0                   |29                |48.0         |1468.65   |39.94            |48.0         |NULL                        |2026-11-01                    |1365.78        |0.0                 |SIM              |CREDIARIO|0.0              |0.0              |1        |0             |1      |2.3354925E7 |\n",
      "|2025/04|3.072894E7  |4       |11225549012|3434146      |2023-03-08| 015 RENEGOCIACAO CP       |0            |6.77     |6.82 |0.0           |85               |0                       |40.0        |19          |0                   |19                |250.0        |2100.42   |70.48            |115.44       |NULL                        |2024-10-08                    |1201.95        |0.0                 |SIM              |CP       |0.0              |0.0              |1        |0             |1      |3.072894E7  |\n",
      "|2025/04|6.4159973E7 |20      |4320225030 |NULL         |2023-12-08| 001 CREDIARIO             |31           |2.82     |2.82 |0.0           |4                |0                       |4.0         |2           |0                   |2                 |0.0          |168.1     |2.6              |83.0         |NULL                        |2024-02-08                    |159.0          |0.0                 |NAO              |CREDIARIO|0.0              |0.0              |0        |0             |0      |6.4159973E7 |\n",
      "|2025/04|7.963602E7  |20      |11163310011|NULL         |2023-05-31| 001 CREDIARIO             |30           |1.61     |1.61 |0.0           |0                |0                       |NULL        |11          |0                   |11                |0.0          |2240.45   |0.0              |205.0        |NULL                        |2024-04-30                    |2048.99        |49.99               |NAO              |CREDIARIO|0.0              |0.0              |0        |0             |0      |7.963602E7  |\n",
      "|2025/04|1.17724092E8|4       |11099835005|3159234      |2021-03-30| 005 KREDILIG (CP)         |38           |8.58     |9.83 |0.0           |1                |0                       |1.0         |4           |0                   |4                 |0.0          |650.05    |4.55             |161.6        |NULL                        |2021-08-07                    |515.54         |0.0                 |NAO              |CP       |0.0              |0.0              |0        |0             |0      |1.17724092E8|\n",
      "|2025/04|1.54536008E8|20      |10340003010|NULL         |2023-08-09| 001 CREDIARIO             |100          |3.17     |3.17 |0.0           |7                |0                       |5.0         |18          |0                   |18                |0.0          |4318.25   |54.25            |238.0        |NULL                        |2025-04-17                    |2988.85        |389.85              |NAO              |CREDIARIO|0.0              |0.0              |0        |0             |0      |1.54536008E8|\n",
      "|2025/04|1.58985982E8|20      |481089046  |3316529      |2022-03-08| 005 KREDILIG (CP)         |31           |10.6     |11.32|0.0           |17               |0                       |6.0         |10          |0                   |10                |0.0          |1919.67   |46.33            |187.72       |NULL                        |2023-01-08                    |1113.58        |79.99               |NAO              |CP       |0.0              |0.0              |0        |0             |0      |1.58985982E8|\n",
      "|2025/04|1.60654092E8|4       |327726028  |NULL         |2020-09-04| 001 CREDIARIO             |30           |0.0      |0.0  |0.0           |0                |0                       |NULL        |1           |0                   |1                 |0.0          |199.0     |0.0              |199.0        |NULL                        |2020-10-04                    |199.0          |0.0                 |NAO              |CREDIARIO|0.0              |0.0              |0        |0             |0      |1.60654092E8|\n",
      "|2025/04|1.78985953E8|99      |298237478  |NULL         |2024-09-03| 001 CREDIARIO             |30           |0.0      |0.0  |0.0           |0                |0                       |NULL        |1           |0                   |1                 |0.0          |237.15    |0.0              |237.15       |NULL                        |2024-10-03                    |237.15         |0.0                 |NAO              |CREDIARIO|0.0              |0.0              |0        |0             |0      |1.78985953E8|\n",
      "|2025/04|2.54308589E8|4       |10492868008|NULL         |2022-10-13| 001 CREDIARIO             |0            |3.58     |3.58 |0.0           |0                |0                       |NULL        |11          |0                   |11                |300.0        |2542.75   |0.0              |204.0        |NULL                        |2023-09-13                    |1823.75        |424.75              |NAO              |CREDIARIO|0.0              |0.0              |0        |0             |0      |2.54308589E8|\n",
      "|2025/04|3.35502989E8|10      |154111100  |NULL         |2024-08-06| 001 CREDIARIO             |0            |0.04     |0.04 |0.0           |0                |0                       |NULL        |1           |0                   |1                 |255.8        |599.9     |0.0              |344.15       |NULL                        |2024-09-06                    |344.0          |100.8               |NAO              |CREDIARIO|0.0              |0.0              |0        |0             |0      |3.35502989E8|\n",
      "+-------+------------+--------+-----------+-------------+----------+---------------------------+-------------+---------+-----+--------------+-----------------+------------------------+------------+------------+--------------------+------------------+-------------+----------+-----------------+-------------+----------------------------+------------------------------+---------------+--------------------+-----------------+---------+-----------------+-----------------+---------+--------------+-------+------------+\n",
      "only showing top 20 rows\n",
      "\n"
     ]
    }
   ],
   "source": [
    "df_carne.filter(\n",
    "    (col(\"saldo_contabil\")==0)           \n",
    "    ).show(20,truncate=False) # Categorizar novos associados"
   ]
  },
  {
   "cell_type": "code",
   "execution_count": 12,
   "id": "a6939641",
   "metadata": {},
   "outputs": [
    {
     "name": "stdout",
     "output_type": "stream",
     "text": [
      "+--------------------+------+---------+-------+---------+------+-------+-------------+---------+------+-------------+\n",
      "|           id_agente|Mínimo|1 Quartil|Mediana|3 Quartil|Máximo|  Média|Desvio Padrão|   CV (%)|   Qtd|     Variável|\n",
      "+--------------------+------+---------+-------+---------+------+-------+-------------+---------+------+-------------+\n",
      "|       001 CREDIARIO|   0.0|     30.0|   31.0|     34.0| 138.0|30.3244|      20.5657|  67.8189|743328|dias_carencia|\n",
      "|  004 KREDILIG (CDC)|   0.0|     30.0|   34.0|     92.0| 125.0|48.7244|      35.0233|  71.8804|383220|dias_carencia|\n",
      "|011 RENEGOCIACAO ...|   0.0|      0.0|    0.0|      0.0|  75.0| 0.3996|       4.9206|1231.3712| 29034|dias_carencia|\n",
      "|021 RENEGOCIACAO ...|   0.0|      0.0|    0.0|      0.0|  65.0| 0.1143|       2.6495|2318.1781| 14533|dias_carencia|\n",
      "|014 RENEGOCIACAO CDC|   0.0|      0.0|    0.0|      0.0|  82.0| 0.8067|        7.013| 869.3134| 28147|dias_carencia|\n",
      "|025 RENEGOCIACAO ...|   0.0|      0.0|    0.0|      0.0|  76.0| 0.7516|       6.7692| 900.6777| 16866|dias_carencia|\n",
      "| 015 RENEGOCIACAO CP|   0.0|      0.0|    0.0|      0.0|  78.0| 0.7839|       6.9155| 882.1598| 30944|dias_carencia|\n",
      "|   005 KREDILIG (CP)|  25.0|     31.0|   31.0|     45.0| 123.0|43.0441|      21.2914|  49.4642|261274|dias_carencia|\n",
      "|024 RENEGOCIACAO ...|   0.0|      0.0|    0.0|      0.0|  73.0| 0.4679|       5.3584|1145.1578| 15041|dias_carencia|\n",
      "|044 SEGURO - KRED...|  28.0|     30.0|   31.0|     31.0|  31.0|30.4361|       0.7181|   2.3592|   610|dias_carencia|\n",
      "|       001 CREDIARIO| -1.94|     1.28|    2.9|     4.11| 27.51| 2.7807|       1.9683|  70.7859|743328|    taxajuros|\n",
      "|  004 KREDILIG (CDC)|   0.0|     3.24|   3.98|     4.92| 11.12| 4.1965|       1.2273|  29.2467|383220|    taxajuros|\n",
      "|011 RENEGOCIACAO ...|   0.0|     0.11|   1.99|     3.08| 78.85| 1.8376|       1.6465|  89.5994| 29034|    taxajuros|\n",
      "|021 RENEGOCIACAO ...|   0.0|     0.09|   1.57|     2.04| 35.85| 1.2368|       1.2284|  99.3233| 14533|    taxajuros|\n",
      "|014 RENEGOCIACAO CDC|  0.06|     1.72|   2.92|     2.99|   8.5| 2.5383|       0.9316|  36.7023| 28147|    taxajuros|\n",
      "|025 RENEGOCIACAO ...|  0.02|     2.06|   2.98|      3.0|  9.44|  2.636|       0.6626|  25.1355| 16866|    taxajuros|\n",
      "| 015 RENEGOCIACAO CP|   0.0|     2.94|   2.99|     3.42| 14.41| 3.5243|       1.7978|  51.0134| 30944|    taxajuros|\n",
      "|   005 KREDILIG (CP)|   0.0|     6.58|   8.02|     9.48| 16.24| 8.1754|       2.1773|  26.6323|261274|    taxajuros|\n",
      "|024 RENEGOCIACAO ...|   0.0|     1.99|   2.07|     2.69|  10.1| 2.2753|       0.5611|   24.659| 15041|    taxajuros|\n",
      "|044 SEGURO - KRED...|  2.15|     2.53|   2.63|     2.64|   3.6| 2.5713|       0.1475|   5.7375|   610|    taxajuros|\n",
      "+--------------------+------+---------+-------+---------+------+-------+-------------+---------+------+-------------+\n",
      "only showing top 20 rows\n",
      "\n"
     ]
    },
    {
     "data": {
      "text/plain": [
       "'df_resumo_pd = df_resumo.toPandas()\\ndf_resumo_pd.to_excel(\"medidas_descritivas_Carne.xlsx\", index=False)'"
      ]
     },
     "execution_count": 12,
     "metadata": {},
     "output_type": "execute_result"
    }
   ],
   "source": [
    "# Medidas descritivas\n",
    "\n",
    "resultados = []\n",
    "for coluna in col_num_carne_2:\n",
    "    resumo= df_carne.groupBy(col(\"id_agente\")).agg(\n",
    "        min(col(coluna)).alias(\"Mínimo\"),\n",
    "        expr(f\"percentile_approx({coluna}, 0.25)\").alias(\"1 Quartil\"),\n",
    "        expr(f\"percentile_approx({coluna}, 0.5)\").alias(\"Mediana\"),\n",
    "        expr(f\"percentile_approx({coluna}, 0.75)\").alias(\"3 Quartil\"),\n",
    "        max(col(coluna)).alias(\"Máximo\"),\n",
    "        round(mean(col(coluna)),4).alias(\"Média\"),\n",
    "        round(stddev(col(coluna)),4).alias(\"Desvio Padrão\"),\n",
    "        round((stddev(col(coluna))/mean(col(coluna)))*100,4).alias(\"CV (%)\"),\n",
    "        count(col(coluna)).alias(\"Qtd\")\n",
    "        ).withColumn(\"Variável\", lit(coluna))\n",
    "    resultados.append(resumo)\n",
    "\n",
    "df_resumo = resultados[0]\n",
    "for r in resultados[1:]:\n",
    "    df_resumo = df_resumo.union(r)\n",
    "\n",
    "df_resumo.show()"
   ]
  },
  {
   "cell_type": "code",
   "execution_count": 13,
   "id": "be5c369c",
   "metadata": {},
   "outputs": [],
   "source": [
    "df_resumo_pd = df_resumo.toPandas()\n",
    "df_resumo_pd.to_excel(\"medidas_descritivas_Carne.xlsx\", index=False)"
   ]
  },
  {
   "cell_type": "code",
   "execution_count": 14,
   "id": "558fb451",
   "metadata": {},
   "outputs": [
    {
     "name": "stdout",
     "output_type": "stream",
     "text": [
      "+---------+------+\n",
      "|Produto  |count |\n",
      "+---------+------+\n",
      "|CDC      |427018|\n",
      "|CP       |309084|\n",
      "|CREDIARIO|786895|\n",
      "+---------+------+\n",
      "\n"
     ]
    }
   ],
   "source": [
    "df_carne.groupBy(col(\"Produto\")).count().show(truncate=False)"
   ]
  },
  {
   "cell_type": "code",
   "execution_count": 15,
   "id": "2d595c35",
   "metadata": {},
   "outputs": [
    {
     "name": "stdout",
     "output_type": "stream",
     "text": [
      "+-------+-----------+--------+-----------+-------------+----------+--------------------+-------------+---------+----+--------------+-----------------+------------------------+------------+------------+--------------------+------------------+-------------+----------+-----------------+-------------+----------------------------+------------------------------+---------------+--------------------+-----------------+-------+-----------------+------------------+---------+--------------+-------+\n",
      "| anomes|   cpf_cnpj|conceito|id_contrato|id_financeira|      data|           id_agente|dias_carencia|taxajuros| cet|saldo_contabil|dias_maior_atraso|dias_maior_atraso_aberto|media_atraso|qtd_parcelas|qtd_parcelas_abertas|qtd_parcelas_pagas|valor_entrada|valor_pago|valor_pago_atraso|valor_parcela|data_vencimento_prox_parcela|data_vencimento_ultima_parcela|principal_total|servicos_financeiros|flag_renegociacao|Produto|Creditos_a_vencer| creditos_vencidos|ind_reneg|inad_60_aberto|inad_60|\n",
      "+-------+-----------+--------+-----------+-------------+----------+--------------------+-------------+---------+----+--------------+-----------------+------------------------+------------+------------+--------------------+------------------+-------------+----------+-----------------+-------------+----------------------------+------------------------------+---------------+--------------------+-----------------+-------+-----------------+------------------+---------+--------------+-------+\n",
      "|2023/12| 9999991920|       1|11186680003|      2616166|2018-12-27|  004 KREDILIG (CDC)|           40|     3.84| 4.2|           0.0|                3|                       0|         3.0|          10|                   0|                10|          0.0|   1694.05|              0.0|       171.75|                        NULL|                    2019-11-05|        1386.07|                22.0|              NAO|    CDC|              0.0|               0.0|        0|             0|      0|\n",
      "|2025/05| 9999815952|       1|11593804003|      3654446|2025-01-07|  004 KREDILIG (CDC)|           31|     4.62|4.91|        3500.0|                4|                       0|         3.0|          24|                  20|                 4|          0.0|    713.05|            13.05|       175.00|                  2025-06-07|                    2027-01-07|        2493.11|              623.06|              NAO|    CDC|           3500.0|               0.0|        0|             0|      0|\n",
      "|2025/05|99997762991|      23| 2776034014|      3277399|2021-12-11|  004 KREDILIG (CDC)|            0|     3.14|3.58|           0.0|               15|                       0|        10.0|          14|                   0|                14|        520.0|   2497.75|             8.25|       141.00|                        NULL|                    2023-02-13|        1572.61|              447.25|              NAO|    CDC|              0.0|               0.0|        0|             0|      0|\n",
      "|2025/04|99995956853|       4|11345359003|      2942802|2020-04-18|  004 KREDILIG (CDC)|           30|     2.89|2.89|           0.0|                0|                       0|        NULL|          12|                   0|                12|          0.0|   1144.75|              0.0|       100.00|                        NULL|                    2021-04-20|         998.99|               99.99|              NAO|    CDC|              0.0|               0.0|        0|             0|      0|\n",
      "|2022/09| 9999533973|       1|11101314001|      2251342|2017-09-01|  004 KREDILIG (CDC)|           30|     4.66|5.01|           0.0|               21|                       0|         9.0|          16|                   0|                16|          0.0|    2713.3|             59.1|       166.00|                        NULL|                    2019-01-01|        1835.73|                 0.0|              NAO|    CDC|              0.0|               0.0|        0|             0|      0|\n",
      "|2023/06| 9999439950|       1|10811489006|      2467544|2018-06-06|  004 KREDILIG (CDC)|            0|     5.28|5.72|           0.0|                0|                       0|        NULL|           4|                   0|                 4|         91.0|    479.25|              0.0|       100.00|                        NULL|                    2018-10-06|         351.57|               81.99|              NAO|    CDC|              0.0|               0.0|        0|             0|      0|\n",
      "|2022/09|99993953172|       1|10704903012|      2255402|2017-09-08|  004 KREDILIG (CDC)|           30|     3.82|4.17|           0.0|                3|                       0|         2.0|          14|                   0|                14|          0.0|   2796.75|              0.0|       200.00|                        NULL|                    2018-11-08|        2131.01|                20.0|              NAO|    CDC|              0.0|               0.0|        0|             0|      0|\n",
      "|2024/09| 9999308937|       1|10739508038|      2816173|2019-09-25|  004 KREDILIG (CDC)|           30|     2.73|2.99|           0.0|               98|                       0|        37.0|          24|                   0|                24|          0.0|   7234.17|           135.97|       324.85|                        NULL|                    2021-09-25|        5637.16|              109.99|              NAO|    CDC|              0.0|               0.0|        0|             0|      1|\n",
      "|2025/05| 9999308937|       4|10739508041|      3023327|2020-08-31|014 RENEGOCIACAO CDC|            0|      1.2| 1.2|           0.0|              148|                       0|        46.0|          19|                   0|                19|        300.0|    5372.5|            50.79|       270.52|                        NULL|                    2022-03-30|        4568.32|                 0.0|              SIM|    CDC|              0.0|               0.0|        1|             0|      1|\n",
      "|2025/05| 9999308937|       4|10739508044|      3210465|2021-07-26|024 RENEGOCIACAO ...|            0|     1.96|2.02|           0.0|              368|                       0|       174.0|          14|                   0|                14|        230.0|   4270.75|             8.75|       288.00|                        NULL|                    2022-10-01|         3474.7|                 0.0|              SIM|    CDC|              0.0|               0.0|        1|             0|      1|\n",
      "|2025/05| 9999308937|       4|10739508045|      3377365|2022-10-04|024 RENEGOCIACAO ...|            0|     2.97|3.02|           0.0|              803|                       0|       473.0|          18|                   0|                18|        255.0|   1563.44|             31.9|       255.00|                        NULL|                    2024-04-04|        3502.26|                 0.0|              SIM|    CDC|              0.0|               0.0|        1|             0|      1|\n",
      "|2025/05|99992965800|       4|10397584019|      3024997|2020-09-03|  004 KREDILIG (CDC)|           37|     3.02|3.02|           0.0|                4|                       0|         4.0|          15|                   0|                15|          0.0|    3819.3|              0.0|       256.00|                        NULL|                    2021-12-10|        3022.64|              323.64|              NAO|    CDC|              0.0|               0.0|        0|             0|      0|\n",
      "|2025/05|99992965800|       4|10397584021|      3066819|2020-11-06|  004 KREDILIG (CDC)|           30|     3.22|3.22|           0.0|                0|                       0|         0.0|          15|                   0|                15|          0.0|     690.0|              0.0|        46.00|                        NULL|                    2022-02-06|          539.0|                 0.0|              NAO|    CDC|              0.0|               0.0|        0|             0|      0|\n",
      "|2025/05|99992965800|       4|10397584022|      3068893|2020-11-09|  004 KREDILIG (CDC)|           30|     3.26|3.26|           0.0|                5|                       0|         5.0|          15|                   0|                15|          0.0|    759.45|              0.0|        51.00|                        NULL|                    2022-02-09|         595.99|                 0.0|              NAO|    CDC|              0.0|               0.0|        0|             0|      0|\n",
      "|2025/05|99990253900|      20|11722734008|      3624395|2024-11-06|  004 KREDILIG (CDC)|          100|      4.7|5.01|        4914.0|                0|                       0|         0.0|          18|                  14|                 4|          0.0|   1386.85|              0.0|       351.00|                  2025-06-14|                    2026-07-14|        3764.93|              651.96|              NAO|    CDC|           4914.0|               0.0|        0|             0|      0|\n",
      "|2023/12| 9998992958|       4|10707587008|      2599063|2018-12-12|  004 KREDILIG (CDC)|           36|     3.83|4.16|           0.0|               23|                       0|        23.0|          16|                   0|                16|          0.0|   2924.25|              0.0|       186.80|                        NULL|                    2020-04-17|        2182.37|               81.99|              NAO|    CDC|              0.0|               0.0|        0|             0|      0|\n",
      "|2025/05|99989735034|       1|11578408001|      3114036|2021-01-07|  004 KREDILIG (CDC)|            0|     2.79|3.12|           0.0|             1130|                       0|       934.0|          14|                   0|                14|        300.0|    1490.0|              0.0|        85.00|                        NULL|                    2022-03-07|         971.94|               59.99|              NAO|    CDC|              0.0|               0.0|        0|             0|      1|\n",
      "|2025/05|99989735034|       1|11578408002|      3547462|2024-03-13|014 RENEGOCIACAO CDC|            0|     0.89|0.94|       1185.94|              400|                     400|       202.0|          14|                  14|                 0|         85.0|      85.0|              0.0|        84.71|                  2024-04-13|                    2025-05-13|         1109.2|                 0.0|              SIM|    CDC|              0.0|1185.9399999999998|        1|             1|      1|\n",
      "|2025/04| 9998970989|       4|11292270006|      2942552|2020-04-17|  004 KREDILIG (CDC)|           30|     3.04|3.04|           0.0|                1|                       0|         1.0|          15|                   0|                15|          0.0|   2217.25|              0.0|       150.00|                        NULL|                    2021-07-17|        1778.99|               79.99|              NAO|    CDC|              0.0|               0.0|        0|             0|      0|\n",
      "|2025/05| 9998970989|       4|11292270015|      3052256|2020-10-14|  004 KREDILIG (CDC)|           31|      3.0| 3.0|           0.0|               23|                       0|        23.0|          15|                   0|                15|          0.0|    3530.3|             24.6|       236.00|                        NULL|                    2022-01-14|        2808.99|              109.99|              NAO|    CDC|              0.0|               0.0|        0|             0|      0|\n",
      "+-------+-----------+--------+-----------+-------------+----------+--------------------+-------------+---------+----+--------------+-----------------+------------------------+------------+------------+--------------------+------------------+-------------+----------+-----------------+-------------+----------------------------+------------------------------+---------------+--------------------+-----------------+-------+-----------------+------------------+---------+--------------+-------+\n",
      "only showing top 20 rows\n",
      "\n"
     ]
    }
   ],
   "source": [
    "df_carne=df_carne.orderBy(asc(\"Produto\"),desc(\"cpf_cnpj\"), asc(\"data\"))\n",
    "df_carne.show()"
   ]
  },
  {
   "cell_type": "code",
   "execution_count": 16,
   "id": "1de701ea",
   "metadata": {},
   "outputs": [
    {
     "name": "stdout",
     "output_type": "stream",
     "text": [
      "+-------------+---------+------+--------------+-----------------+------------------------+------------+------------+--------------------+------------------+-------------+----------+-----------------+---------------+--------------------+-----------------+-----------------+---------+--------------+-------+\n",
      "|dias_carencia|taxajuros|   cet|saldo_contabil|dias_maior_atraso|dias_maior_atraso_aberto|media_atraso|qtd_parcelas|qtd_parcelas_abertas|qtd_parcelas_pagas|valor_entrada|valor_pago|valor_pago_atraso|principal_total|servicos_financeiros|Creditos_a_vencer|creditos_vencidos|ind_reneg|inad_60_aberto|inad_60|\n",
      "+-------------+---------+------+--------------+-----------------+------------------------+------------+------------+--------------------+------------------+-------------+----------+-----------------+---------------+--------------------+-----------------+-----------------+---------+--------------+-------+\n",
      "|       306864|   120401|120397|       1180958|           477256|                 1377230|      288919|         357|             1180958|             60878|      1216133|     43562|           777211|            348|              698596|          1274384|          1377230|  1388432|       1406877|1251526|\n",
      "+-------------+---------+------+--------------+-----------------+------------------------+------------+------------+--------------------+------------------+-------------+----------+-----------------+---------------+--------------------+-----------------+-----------------+---------+--------------+-------+\n",
      "\n"
     ]
    }
   ],
   "source": [
    "## Zeros em variáveis numéricas\n",
    "\n",
    "df_carne.select([\n",
    "    sum((col(c) == 0).cast(\"int\")).alias(c)\n",
    "    for c in col_num_carne\n",
    "]).show()"
   ]
  },
  {
   "cell_type": "code",
   "execution_count": 18,
   "id": "3d152bdc",
   "metadata": {},
   "outputs": [],
   "source": [
    "casos_negativos=df_carne.filter(\n",
    "    (col(\"taxajuros\")<0) |\n",
    "    (col(\"cet\")<0) |\n",
    "    (col(\"qtd_parcelas_pagas\")<0) |\n",
    "    (col(\"principal_total\")<0)\n",
    "    )\n",
    "\n",
    "casos_negativos = casos_negativos.toPandas() # pandas\n",
    "casos_negativos.to_excel(\"casos_negativos.xlsx\", index=False)"
   ]
  },
  {
   "cell_type": "code",
   "execution_count": 19,
   "id": "45f8298c",
   "metadata": {},
   "outputs": [
    {
     "name": "stdout",
     "output_type": "stream",
     "text": [
      "root\n",
      " |-- anomes: string (nullable = true)\n",
      " |-- cpf_cnpj: string (nullable = true)\n",
      " |-- conceito: string (nullable = true)\n",
      " |-- id_contrato: string (nullable = true)\n",
      " |-- id_financeira: string (nullable = true)\n",
      " |-- data: date (nullable = true)\n",
      " |-- id_agente: string (nullable = true)\n",
      " |-- dias_carencia: integer (nullable = true)\n",
      " |-- taxajuros: double (nullable = true)\n",
      " |-- cet: double (nullable = true)\n",
      " |-- saldo_contabil: double (nullable = true)\n",
      " |-- dias_maior_atraso: integer (nullable = true)\n",
      " |-- dias_maior_atraso_aberto: integer (nullable = true)\n",
      " |-- media_atraso: double (nullable = true)\n",
      " |-- qtd_parcelas: integer (nullable = true)\n",
      " |-- qtd_parcelas_abertas: integer (nullable = true)\n",
      " |-- qtd_parcelas_pagas: integer (nullable = true)\n",
      " |-- valor_entrada: double (nullable = true)\n",
      " |-- valor_pago: double (nullable = true)\n",
      " |-- valor_pago_atraso: double (nullable = true)\n",
      " |-- valor_parcela: string (nullable = true)\n",
      " |-- data_vencimento_prox_parcela: date (nullable = true)\n",
      " |-- data_vencimento_ultima_parcela: date (nullable = true)\n",
      " |-- principal_total: double (nullable = true)\n",
      " |-- servicos_financeiros: double (nullable = true)\n",
      " |-- flag_renegociacao: string (nullable = true)\n",
      " |-- Produto: string (nullable = false)\n",
      " |-- Creditos_a_vencer: double (nullable = true)\n",
      " |-- creditos_vencidos: double (nullable = true)\n",
      " |-- ind_reneg: integer (nullable = false)\n",
      " |-- inad_60_aberto: integer (nullable = false)\n",
      " |-- inad_60: integer (nullable = false)\n",
      "\n"
     ]
    }
   ],
   "source": [
    "df_carne.printSchema()"
   ]
  },
  {
   "cell_type": "markdown",
   "id": "98914743",
   "metadata": {},
   "source": [
    "## Contratos Cartão"
   ]
  },
  {
   "cell_type": "code",
   "execution_count": 4,
   "id": "56b51fa0",
   "metadata": {},
   "outputs": [],
   "source": [
    "## Base cartões \n",
    "\n",
    "arquivos_cartao = [\n",
    "    \"C:/Users/fernando.monteiro/OneDrive - BHS/KAB/Base Behavior/Base Contratos cartão/contratos_2015.csv\",\n",
    "    \"C:/Users/fernando.monteiro/OneDrive - BHS/KAB/Base Behavior/Base Contratos cartão/contratos_2016.csv\",\n",
    "    \"C:/Users/fernando.monteiro/OneDrive - BHS/KAB/Base Behavior/Base Contratos cartão/contratos_2017.csv\",\n",
    "    \"C:/Users/fernando.monteiro/OneDrive - BHS/KAB/Base Behavior/Base Contratos cartão/contratos_2018.csv\",    \n",
    "    \"C:/Users/fernando.monteiro/OneDrive - BHS/KAB/Base Behavior/Base Contratos cartão/contratos_2019.csv\",\n",
    "    \"C:/Users/fernando.monteiro/OneDrive - BHS/KAB/Base Behavior/Base Contratos cartão/contratos_2020.csv\",\n",
    "    \"C:/Users/fernando.monteiro/OneDrive - BHS/KAB/Base Behavior/Base Contratos cartão/contratos_2021.csv\",\n",
    "    \"C:/Users/fernando.monteiro/OneDrive - BHS/KAB/Base Behavior/Base Contratos cartão/contratos_2022.csv\",\n",
    "    \"C:/Users/fernando.monteiro/OneDrive - BHS/KAB/Base Behavior/Base Contratos cartão/contratos_2023.csv\",\n",
    "    \"C:/Users/fernando.monteiro/OneDrive - BHS/KAB/Base Behavior/Base Contratos cartão/contratos_2024.csv\",\n",
    "    \"C:/Users/fernando.monteiro/OneDrive - BHS/KAB/Base Behavior/Base Contratos cartão/contratos_2025.csv\"]\n",
    "\n",
    "df_cartao = spark.read.csv(arquivos_cartao,sep=\";\", header=True, inferSchema=True)"
   ]
  },
  {
   "cell_type": "code",
   "execution_count": 5,
   "id": "2621773a",
   "metadata": {},
   "outputs": [],
   "source": [
    "# Função para trocar , por . em colunas numéricas\n",
    "def formatar_col_num(df, colunas):\n",
    "    for nome_coluna in colunas:\n",
    "        df = df.withColumn(\n",
    "            nome_coluna,\n",
    "            regexp_replace(col(nome_coluna), r\"\\.\", \"\")  \n",
    "        )\n",
    "        df = df.withColumn(\n",
    "            nome_coluna,\n",
    "            regexp_replace(col(nome_coluna), \",\", \".\").cast(DoubleType())\n",
    "        )\n",
    "    return df"
   ]
  },
  {
   "cell_type": "code",
   "execution_count": 6,
   "id": "888841aa",
   "metadata": {},
   "outputs": [],
   "source": [
    "# colunas numéricas\n",
    "col_numerica_cartao=[\"DIAS_CARENCIA\",\n",
    "\"TAXA_JUROS\",\n",
    "\"CET\",\n",
    "\"SALDO_CONTABIL\",\n",
    "\"DIAS_MAIOR_ATRASO_ABERTO\",\n",
    "\"DIAS_MAIOR_ATRASO\",\n",
    "\"MEDIA_ATRASO\",\n",
    "\"QTD_PARCELAS\",\n",
    "\"QTD_PARCELAS_ABERTAS\",\n",
    "\"QTD_PARCELAS_PAGAS\",\n",
    "\"VALOR_PAGO\",\n",
    "\"JUROS_PAGOS_ATRASO\",\n",
    "\"VALOR_PARCELA\",\n",
    "\"VALOR_CALCULADO\",\n",
    "\"VALOR_DESCONTO\",\n",
    "\"PRINCIPAL_TOTAL\",\n",
    "\"VALOR_FINANCIADO\",\n",
    "\"CREDITOS_A_VENCER_ATE_30_DIAS\",\n",
    "\"CREDITOS_A_VENCER_DE_31_A_60_DIAS\",\n",
    "\"CREDITOS_A_VENCER_DE_61_A_90_DIAS\",\n",
    "\"CREDITOS_A_VENCER_DE_91_A_180_DIAS\",\n",
    "\"CREDITOS_A_VENCER_DE_181_A_360_DIAS\",\n",
    "\"CREDITOS_A_VENCER_DE_361_A_720_DIAS\",\n",
    "\"CREDITOS_A_VENCER_DE_721_A_1080_DIAS\",\n",
    "\"CREDITOS_A_VENCER_DE_1081_A_1440_DIAS\",\n",
    "\"CREDITOS_A_VENCER_DE_1441_A_1800_DIAS\",\n",
    "\"CREDITOS_A_VENCER_DE_1801_A_5400_DIAS\",\n",
    "\"CREDITOS_A_VENCER_ACIMA_DE_5400_DIAS\",\n",
    "\"CREDITOS_VENCIDOS_DE_1_A_14_DIAS\",\n",
    "\"CREDITOS_VENCIDOS_DE_15_A_30_DIAS\",\n",
    "\"CREDITOS_VENCIDOS_DE_31_A_60_DIAS\",\n",
    "\"CREDITOS_VENCIDOS_DE_61_A_90_DIAS\",\n",
    "\"CREDITOS_VENCIDOS_DE_91_A_120_DIAS\",\n",
    "\"CREDITOS_VENCIDOS_DE_121_A_150_DIAS\",\n",
    "\"CREDITOS_VENCIDOS_DE_151_A_180_DIAS\",\n",
    "\"CREDITOS_VENCIDOS_DE_181_A_240_DIAS\",\n",
    "\"CREDITOS_VENCIDOS_DE_241_A_300_DIAS\",\n",
    "\"CREDITOS_VENCIDOS_DE_301_A_360_DIAS\",\n",
    "\"CREDITOS_VENCIDOS_DE_361_A_540_DIAS\",\n",
    "\"CREDITOS_VENCIDOS_ACIMA_DE_540_DIAS\"]\n",
    "\n",
    "df_cartao = formatar_col_num(df_cartao, col_numerica_cartao)"
   ]
  },
  {
   "cell_type": "code",
   "execution_count": 7,
   "id": "17bed07a",
   "metadata": {},
   "outputs": [],
   "source": [
    "# % de nulos por linha\n",
    "df_cartao=df_cartao.withColumn(\"%_nulos\",\n",
    "                             round(reduce(lambda a,b: a+b,\n",
    "                                      [when(col(c).isNull(),1).otherwise(0) for c in df_cartao.columns])\n",
    "                                      / lit(len(df_cartao.columns))*100,4)\n",
    ")"
   ]
  },
  {
   "cell_type": "code",
   "execution_count": 8,
   "id": "cf50e516",
   "metadata": {},
   "outputs": [],
   "source": [
    "# Excluindo linhas com mais de 50% de nulos\n",
    "df_cartao = df_cartao.filter(\n",
    "    ~(\n",
    "        (col(\"%_nulos\")>50) \n",
    "        )\n",
    "        ).drop(\"%_nulos\")"
   ]
  },
  {
   "cell_type": "code",
   "execution_count": 9,
   "id": "14fba38b",
   "metadata": {},
   "outputs": [],
   "source": [
    "#Tipos\n",
    "tipos_cartao = {\n",
    "    \"DIAS_CARENCIA\": \"integer\",\n",
    "    \"DIAS_MAIOR_ATRASO_ABERTO\": \"integer\",\n",
    "    \"DIAS_MAIOR_ATRASO\": \"integer\", \n",
    "    \"QTD_PARCELAS\": \"integer\", \n",
    "    \"QTD_PARCELAS_ABERTAS\": \"integer\", \n",
    "    \"QTD_PARCELAS_PAGAS\":\"integer\"}\n",
    "\n",
    "# conversão\n",
    "for col_nome, tipo in tipos_cartao.items():\n",
    "    df_cartao = df_cartao.withColumn(col_nome, col(col_nome).cast(tipo))"
   ]
  },
  {
   "cell_type": "code",
   "execution_count": 10,
   "id": "e3c43590",
   "metadata": {},
   "outputs": [],
   "source": [
    "# Criar novas variáveis, resumir\n",
    "\n",
    "cols_a_vencer_cartao = [\n",
    "   \"CREDITOS_A_VENCER_ATE_30_DIAS\",\n",
    "\"CREDITOS_A_VENCER_DE_31_A_60_DIAS\",\n",
    "\"CREDITOS_A_VENCER_DE_61_A_90_DIAS\",\n",
    "\"CREDITOS_A_VENCER_DE_91_A_180_DIAS\",\n",
    "\"CREDITOS_A_VENCER_DE_181_A_360_DIAS\",\n",
    "\"CREDITOS_A_VENCER_DE_361_A_720_DIAS\",\n",
    "\"CREDITOS_A_VENCER_DE_721_A_1080_DIAS\",\n",
    "\"CREDITOS_A_VENCER_DE_1081_A_1440_DIAS\",\n",
    "\"CREDITOS_A_VENCER_DE_1441_A_1800_DIAS\",\n",
    "\"CREDITOS_A_VENCER_DE_1801_A_5400_DIAS\",\n",
    "\"CREDITOS_A_VENCER_ACIMA_DE_5400_DIAS\",\n",
    "\n",
    "]\n",
    "\n",
    "cols_vencidos_cartao = [\n",
    "    \"CREDITOS_VENCIDOS_DE_1_A_14_DIAS\",\n",
    "\"CREDITOS_VENCIDOS_DE_15_A_30_DIAS\",\n",
    "\"CREDITOS_VENCIDOS_DE_31_A_60_DIAS\",\n",
    "\"CREDITOS_VENCIDOS_DE_61_A_90_DIAS\",\n",
    "\"CREDITOS_VENCIDOS_DE_91_A_120_DIAS\",\n",
    "\"CREDITOS_VENCIDOS_DE_121_A_150_DIAS\",\n",
    "\"CREDITOS_VENCIDOS_DE_151_A_180_DIAS\",\n",
    "\"CREDITOS_VENCIDOS_DE_181_A_240_DIAS\",\n",
    "\"CREDITOS_VENCIDOS_DE_241_A_300_DIAS\",\n",
    "\"CREDITOS_VENCIDOS_DE_301_A_360_DIAS\",\n",
    "\"CREDITOS_VENCIDOS_DE_361_A_540_DIAS\",\n",
    "\"CREDITOS_VENCIDOS_ACIMA_DE_540_DIAS\"\n",
    "]\n",
    "\n",
    "df_cartao = (\n",
    "    df_cartao\n",
    "    .withColumn(\"Creditos_a_vencer\", reduce(lambda a, b: a + b, [col(c) for c in cols_a_vencer_cartao])) # soma das colunas crédito a vencer\n",
    "    .withColumn(\"creditos_vencidos\", reduce(lambda a, b: a + b, [col(c) for c in cols_vencidos_cartao])) # soma das colunas crédito vencidos\n",
    "    .withColumn(\"DATA_CONTRATO\", to_date(\"DATA_CONTRATO\",\"dd/MM/yyyy\"))\n",
    "    .withColumn(\"DATA_VENCIMENTO_PROX_PARCELA\", to_date(\"DATA_VENCIMENTO_PROX_PARCELA\",\"dd/MM/yyyy\"))\n",
    "    .withColumn(\"DATA_VENCIMENTO_ULTIMA_PARCELA\",to_date(\"DATA_VENCIMENTO_ULTIMA_PARCELA\",\"dd/MM/yyyy\"))\n",
    "    .drop(*cols_a_vencer_cartao, *cols_vencidos_cartao,'_c48') \n",
    ")"
   ]
  },
  {
   "cell_type": "code",
   "execution_count": 11,
   "id": "851fc178",
   "metadata": {},
   "outputs": [
    {
     "name": "stdout",
     "output_type": "stream",
     "text": [
      "root\n",
      " |-- ANO_MES_MOVIMENTO: timestamp (nullable = true)\n",
      " |-- CPF_CNPJ: double (nullable = true)\n",
      " |-- NUMERO_CONTRATO: integer (nullable = true)\n",
      " |-- DATA_CONTRATO: date (nullable = true)\n",
      " |-- MODALIDADE: integer (nullable = true)\n",
      " |-- DIAS_CARENCIA: integer (nullable = true)\n",
      " |-- TAXA_JUROS: double (nullable = true)\n",
      " |-- CET: double (nullable = true)\n",
      " |-- SALDO_CONTABIL: double (nullable = true)\n",
      " |-- DIAS_MAIOR_ATRASO_ABERTO: integer (nullable = true)\n",
      " |-- DIAS_MAIOR_ATRASO: integer (nullable = true)\n",
      " |-- MEDIA_ATRASO: double (nullable = true)\n",
      " |-- QTD_PARCELAS: integer (nullable = true)\n",
      " |-- QTD_PARCELAS_ABERTAS: integer (nullable = true)\n",
      " |-- QTD_PARCELAS_PAGAS: integer (nullable = true)\n",
      " |-- VALOR_PAGO: double (nullable = true)\n",
      " |-- JUROS_PAGOS_ATRASO: double (nullable = true)\n",
      " |-- VALOR_PARCELA: double (nullable = true)\n",
      " |-- DATA_VENCIMENTO_PROX_PARCELA: date (nullable = true)\n",
      " |-- DATA_VENCIMENTO_ULTIMA_PARCELA: date (nullable = true)\n",
      " |-- VALOR_CALCULADO: double (nullable = true)\n",
      " |-- VALOR_DESCONTO: double (nullable = true)\n",
      " |-- PRINCIPAL_TOTAL: double (nullable = true)\n",
      " |-- VALOR_FINANCIADO: double (nullable = true)\n",
      " |-- FLAG_RENEGOCIACAO: string (nullable = true)\n",
      " |-- Creditos_a_vencer: double (nullable = true)\n",
      " |-- creditos_vencidos: double (nullable = true)\n",
      "\n"
     ]
    }
   ],
   "source": [
    "# variáveis numéricas\n",
    "tipos_num = ['int', 'bigint', 'double', 'float', 'decimal']\n",
    "\n",
    "col_num_cartao = [nome for nome, tipo in df_cartao.dtypes if any(t in tipo for t in tipos_num)]\n",
    "\n",
    "# info\n",
    "df_cartao.printSchema()"
   ]
  },
  {
   "cell_type": "code",
   "execution_count": 32,
   "id": "4c7a7c3c",
   "metadata": {},
   "outputs": [
    {
     "name": "stdout",
     "output_type": "stream",
     "text": [
      "+-------------------+---------------+---------------+-------------+----------+-------------+----------+------+--------------+------------------------+-----------------+------------+------------+--------------------+------------------+----------+------------------+-------------+----------------------------+------------------------------+---------------+--------------+---------------+----------------+-----------------+-----------------+-----------------+\n",
      "|  ANO_MES_MOVIMENTO|       CPF_CNPJ|NUMERO_CONTRATO|DATA_CONTRATO|MODALIDADE|DIAS_CARENCIA|TAXA_JUROS|   CET|SALDO_CONTABIL|DIAS_MAIOR_ATRASO_ABERTO|DIAS_MAIOR_ATRASO|MEDIA_ATRASO|QTD_PARCELAS|QTD_PARCELAS_ABERTAS|QTD_PARCELAS_PAGAS|VALOR_PAGO|JUROS_PAGOS_ATRASO|VALOR_PARCELA|DATA_VENCIMENTO_PROX_PARCELA|DATA_VENCIMENTO_ULTIMA_PARCELA|VALOR_CALCULADO|VALOR_DESCONTO|PRINCIPAL_TOTAL|VALOR_FINANCIADO|FLAG_RENEGOCIACAO|Creditos_a_vencer|creditos_vencidos|\n",
      "+-------------------+---------------+---------------+-------------+----------+-------------+----------+------+--------------+------------------------+-----------------+------------+------------+--------------------+------------------+----------+------------------+-------------+----------------------------+------------------------------+---------------+--------------+---------------+----------------+-----------------+-----------------+-----------------+\n",
      "|2025-06-01 00:00:00|3.9440966068E10|         159669|   2022-01-03|         4|           -4|      0.99|1.3921|           0.0|                       0|              133|        41.0|          13|                   0|                13|    2463.8|               0.0|        186.4|                        NULL|                          NULL|        4107.78|       1844.82|        2262.96|          2236.8|              SIM|              0.0|              0.0|\n",
      "|2025-06-01 00:00:00| 9.467458292E10|         159713|   2022-01-04|         4|            0|       0.0|   0.0|           0.0|                       0|                0|         0.0|           1|                   0|                 1|   3328.42|               0.0|      3328.42|                        NULL|                          NULL|        6372.97|       3044.55|        3328.42|         3328.42|              SIM|              0.0|              0.0|\n",
      "|2025-06-01 00:00:00|  1.840067918E9|         160043|   2022-01-03|         4|           -4|       0.0|   0.0|           0.0|                       0|                4|         4.0|           1|                   0|                 1|    4500.0|               0.0|       4500.0|                        NULL|                          NULL|        6622.08|       2244.73|        4377.35|          4500.0|              SIM|              0.0|              0.0|\n",
      "|2025-06-01 00:00:00|8.6120708561E10|         160047|   2022-01-03|         4|           -4|       0.0|   0.0|           0.0|                       0|                0|         0.0|           1|                   0|                 1|    890.94|               0.0|       890.94|                        NULL|                          NULL|         897.99|         62.76|         835.23|          890.94|              SIM|              0.0|              0.0|\n",
      "|2025-06-01 00:00:00|1.5563634949E10|         160066|   2022-01-03|         4|            0|       4.9|5.2986|           0.0|                       0|               70|        23.0|          19|                   0|                19|    7017.8|               0.0|        362.1|                        NULL|                          NULL|        4779.74|        237.09|        4542.65|          6517.8|              SIM|              0.0|              0.0|\n",
      "|2025-06-01 00:00:00|3.0058724915E10|         160071|   2022-01-03|         4|           -4|       0.0|   0.0|           0.0|                       0|                0|         0.0|           1|                   0|                 1|   3495.62|               0.0|      3495.62|                        NULL|                          NULL|        3495.62|           0.0|        3495.62|         3495.62|              SIM|              0.0|              0.0|\n",
      "|2025-06-01 00:00:00|6.4705412915E10|         160081|   2022-01-04|         4|            0|      2.99|3.4068|           0.0|                       0|              365|       207.0|          13|                   0|                13|   2487.36|               0.0|       189.78|                        NULL|                          NULL|        2214.93|        187.34|        2027.59|         2277.36|              SIM|              0.0|              0.0|\n",
      "|2025-06-01 00:00:00|  3.963445939E9|         160097|   2022-01-04|         4|           -5|      2.99|3.4588|           0.0|                       0|              700|       379.0|           7|                   0|                 7|   2340.82|               0.0|       343.47|                        NULL|                          NULL|        2175.69|         109.5|        2066.19|         2060.82|              SIM|              0.0|              0.0|\n",
      "|2025-06-01 00:00:00|  1.771131977E9|         160104|   2022-01-03|         4|           -4|       6.9|7.4082|           0.0|                       0|               74|        36.0|           6|                   0|                 6|     961.1|               0.0|       162.22|                        NULL|                          NULL|         777.47|         14.98|         762.49|           811.1|              SIM|              0.0|              0.0|\n",
      "|2025-06-01 00:00:00|  5.300983004E9|         160141|   2022-01-03|         4|           -4|      1.99|2.4597|           0.0|                       0|              444|       413.0|           7|                   0|                 7|    983.74|               0.0|       142.29|                        NULL|                          NULL|        2198.82|       1457.04|         741.78|          853.74|              SIM|              0.0|              0.0|\n",
      "|2025-06-01 00:00:00|6.9100381934E10|         160234|   2022-01-03|         4|           -4|       4.9|5.5131|           0.0|                       0|               67|        28.0|           4|                   0|                 4|    238.64|               0.0|        62.88|                        NULL|                          NULL|         204.87|          2.75|         202.12|          188.64|              SIM|              0.0|              0.0|\n",
      "|2025-06-01 00:00:00|5.4683777991E10|         160235|   2022-01-03|         4|            0|       4.9|5.0751|           0.0|                       0|              463|       221.0|          25|                   0|                25|    859.96|               0.0|        33.54|                        NULL|                          NULL|         523.28|          18.6|         504.68|          804.96|              SIM|              0.0|              0.0|\n",
      "|2025-06-01 00:00:00|9.0531124053E10|         160238|   2022-01-03|         4|            0|       6.9|7.3416|           0.0|                       0|               11|         9.0|           7|                   0|                 7|    748.12|               0.0|       108.02|                        NULL|                          NULL|         588.18|           3.9|         584.28|          648.12|              SIM|              0.0|              0.0|\n",
      "|2025-06-01 00:00:00|5.4025605015E10|         160249|   2022-01-03|         4|           -4|       0.0|   0.0|           0.0|                       0|                0|         0.0|           1|                   0|                 1|    469.45|               0.0|       469.45|                        NULL|                          NULL|         469.45|           0.0|         469.45|          469.45|              SIM|              0.0|              0.0|\n",
      "|2025-06-01 00:00:00|  2.675529044E9|         160266|   2022-01-03|         4|           -5|      0.99|1.5798|           0.0|                       0|               52|        24.0|           4|                   0|                 4|    408.06|               0.0|        86.02|                        NULL|                          NULL|         782.07|        448.26|         333.81|          258.06|              SIM|              0.0|              0.0|\n",
      "|2025-06-01 00:00:00|  4.121509994E9|         160286|   2022-01-04|         4|           -1|      2.99|3.4457|           0.0|                       0|              960|       750.0|           7|                   0|                 7|     817.2|               0.0|        111.2|                        NULL|                          NULL|         844.49|        103.96|         740.53|           667.2|              SIM|              0.0|              0.0|\n",
      "|2025-06-01 00:00:00|1.0006170927E10|         160288|   2022-01-03|         4|           -3|       0.0|   0.0|           0.0|                       0|                0|         0.0|           1|                   0|                 1|    762.84|               0.0|       762.84|                        NULL|                          NULL|        1275.91|        624.03|         651.88|          762.84|              SIM|              0.0|              0.0|\n",
      "|2025-06-01 00:00:00|  2.372761943E9|         160295|   2022-01-04|         4|           -1|       0.0|   0.0|           0.0|                       0|                0|         0.0|           1|                   0|                 1|    626.95|               0.0|       626.95|                        NULL|                          NULL|         861.82|        309.82|          552.0|          626.95|              SIM|              0.0|              0.0|\n",
      "|2025-06-01 00:00:00|7.7746872972E10|         160314|   2022-01-07|         4|            0|      1.99|2.3978|           0.0|                       0|              650|       428.0|          13|                   0|                13|   1995.08|               0.0|       149.59|                        NULL|                          NULL|        3045.05|       1315.56|        1729.49|         1795.08|              SIM|              0.0|              0.0|\n",
      "|2025-06-01 00:00:00|3.9811069034E10|         160360|   2022-01-04|         4|            0|       0.0|   0.0|           0.0|                       0|                0|         0.0|           1|                   0|                 1|   6431.27|               0.0|      6431.27|                        NULL|                          NULL|        6431.27|           0.0|        6431.27|         6431.27|              SIM|              0.0|              0.0|\n",
      "+-------------------+---------------+---------------+-------------+----------+-------------+----------+------+--------------+------------------------+-----------------+------------+------------+--------------------+------------------+----------+------------------+-------------+----------------------------+------------------------------+---------------+--------------+---------------+----------------+-----------------+-----------------+-----------------+\n",
      "only showing top 20 rows\n",
      "\n"
     ]
    }
   ],
   "source": [
    "df_cartao.show()"
   ]
  },
  {
   "cell_type": "code",
   "execution_count": 33,
   "id": "adf6c745",
   "metadata": {},
   "outputs": [
    {
     "name": "stdout",
     "output_type": "stream",
     "text": [
      "2292529\n"
     ]
    }
   ],
   "source": [
    "print(df_cartao.count())"
   ]
  },
  {
   "cell_type": "code",
   "execution_count": null,
   "id": "17574c95",
   "metadata": {},
   "outputs": [
    {
     "name": "stdout",
     "output_type": "stream",
     "text": [
      "Tabela de frequência para FLAG_RENEGOCIACAO:\n",
      "+-----------------+-------+\n",
      "|FLAG_RENEGOCIACAO|  count|\n",
      "+-----------------+-------+\n",
      "|              NAO|1679736|\n",
      "|              SIM| 612793|\n",
      "+-----------------+-------+\n",
      "\n",
      "Tabela de frequência para MODALIDADE:\n",
      "+----------+------+\n",
      "|MODALIDADE| count|\n",
      "+----------+------+\n",
      "|         2|797496|\n",
      "|         3|769868|\n",
      "|         4|353688|\n",
      "|         5|259105|\n",
      "|         1|112372|\n",
      "+----------+------+\n",
      "\n"
     ]
    }
   ],
   "source": [
    "# tabela de frequencia\n",
    "col_cat_cartao = [\"FLAG_RENEGOCIACAO\", \"MODALIDADE\"]\n",
    "\n",
    "# armazenar as tabelas\n",
    "tab_freq_cartao = {}\n",
    "\n",
    "for col_nome in col_cat_cartao:\n",
    "    df_freq = df_cartao.groupBy(col_nome).count().orderBy(\"count\", ascending=False)\n",
    "    tab_freq_cartao[col_nome] = df_freq\n",
    "\n",
    "for col_nome, df_freq in tab_freq_cartao.items():\n",
    "    print(f\"Tabela de frequência para {col_nome}:\")\n",
    "    df_freq.show()\n",
    "\n",
    "'''# Excel\n",
    "with pd.ExcelWriter(\"Ana_Exp_Cartao_.xlsx\", engine=\"xlsxwriter\") as writer:\n",
    "    for nome, df_spark in tab_freq_cartao.items():\n",
    "        df_cartao_new_pandas = df_spark.toPandas() # pandas\n",
    "        aba = nome[:31] if len(nome) > 31 else nome # para variáveis com nomes grandes, mas não é o caso \n",
    "        df_cartao_new_pandas.to_excel(writer, sheet_name=aba, index=False)'''"
   ]
  },
  {
   "cell_type": "code",
   "execution_count": null,
   "id": "06811ade",
   "metadata": {},
   "outputs": [],
   "source": [
    "## Gráfico de Barras\n",
    "\n",
    "var_cat= \"MODALIDADE\"\n",
    "\n",
    "var_counts=tab_freq_cartao[var_cat].collect()\n",
    "var_counts = sorted(var_counts, key=lambda row: row[\"count\"], reverse=True)[:20]  # Top (Variáveis com múltiplas categorias)\n",
    "\n",
    "plot.figure(figsize=(4, 4))\n",
    "\n",
    "var=[str(row[var_cat]) if row[var_cat] is not None else \"NULL\" for row in var_counts]\n",
    "counts=[row[\"count\"] for row in var_counts]\n",
    "\n",
    "var = var[::-1]\n",
    "counts = counts[::-1]\n",
    "\n",
    "bars = plot.bar(var, counts, color='skyblue', edgecolor='black') # bar(colunas) barh(barras horizontais)\n",
    "plot.xlabel(\"Qtd\")\n",
    "plot.xlabel(\"\")\n",
    "plot.grid(axis='y', linestyle='--', alpha=0.7)\n",
    "\n",
    "#Rótulos\n",
    "for bar in bars:  \n",
    "    height = bar.get_height()\n",
    "    plot.text(\n",
    "        bar.get_x() + bar.get_width() / 2,  \n",
    "        height,                             \n",
    "        f'{int(height)}',                  \n",
    "        ha='center', va='bottom', fontsize=9  \n",
    "    )\n",
    "\n",
    "'''for bar in bars:\n",
    "    width = bar.get_width()\n",
    "    plot.text(\n",
    "        width,                       \n",
    "        bar.get_y() + bar.get_height()/2,  \n",
    "        f'{int(width)}',            \n",
    "        ha='left', va='center', fontsize=9\n",
    "    )'''\n",
    "plot.tight_layout()\n",
    "plot.show()"
   ]
  },
  {
   "cell_type": "code",
   "execution_count": 35,
   "id": "355d9222",
   "metadata": {},
   "outputs": [
    {
     "name": "stdout",
     "output_type": "stream",
     "text": [
      "+--------+---------------+----------+-------------+----------+------+--------------+------------------------+-----------------+------------+------------+--------------------+------------------+----------+------------------+-------------+---------------+--------------+---------------+----------------+-----------------+-----------------+\n",
      "|CPF_CNPJ|NUMERO_CONTRATO|MODALIDADE|DIAS_CARENCIA|TAXA_JUROS|   CET|SALDO_CONTABIL|DIAS_MAIOR_ATRASO_ABERTO|DIAS_MAIOR_ATRASO|MEDIA_ATRASO|QTD_PARCELAS|QTD_PARCELAS_ABERTAS|QTD_PARCELAS_PAGAS|VALOR_PAGO|JUROS_PAGOS_ATRASO|VALOR_PARCELA|VALOR_CALCULADO|VALOR_DESCONTO|PRINCIPAL_TOTAL|VALOR_FINANCIADO|Creditos_a_vencer|creditos_vencidos|\n",
      "+--------+---------------+----------+-------------+----------+------+--------------+------------------------+-----------------+------------+------------+--------------------+------------------+----------+------------------+-------------+---------------+--------------+---------------+----------------+-----------------+-----------------+\n",
      "|       0|              0|         0|        87302|    973271|424187|       1969316|                 2070938|           970376|      970376|           0|             1969316|             81145|     81154|           2292529|            0|        1938841|       2164636|            183|               0|          2132178|          2070938|\n",
      "+--------+---------------+----------+-------------+----------+------+--------------+------------------------+-----------------+------------+------------+--------------------+------------------+----------+------------------+-------------+---------------+--------------+---------------+----------------+-----------------+-----------------+\n",
      "\n"
     ]
    }
   ],
   "source": [
    "## Zeros em variáveis numéricas\n",
    "\n",
    "df_cartao.select([\n",
    "    sum((col(c) == 0).cast(\"int\")).alias(c)\n",
    "    for c in col_num_cartao\n",
    "]).show()\n"
   ]
  },
  {
   "cell_type": "code",
   "execution_count": 36,
   "id": "63375151",
   "metadata": {},
   "outputs": [
    {
     "name": "stdout",
     "output_type": "stream",
     "text": [
      "+------+---------+-------+---------+------+-------+-------------+-------+-------+-------------+\n",
      "|Mínimo|1 Quartil|Mediana|3 Quartil|Máximo|  Média|Desvio Padrão| CV (%)|    Qtd|     Variável|\n",
      "+------+---------+-------+---------+------+-------+-------------+-------+-------+-------------+\n",
      "|  -340|       30|     37|       50|  1001|40.2707|       23.443|58.2136|2292529|DIAS_CARENCIA|\n",
      "+------+---------+-------+---------+------+-------+-------------+-------+-------+-------------+\n",
      "\n"
     ]
    }
   ],
   "source": [
    "## Funções de agregação mean, min, max, median, count, countDistinct,stddev\n",
    "coluna=\"DIAS_CARENCIA\"\n",
    "df_cartao.agg(\n",
    "        min(col(coluna)).alias(\"Mínimo\"),\n",
    "        expr(f\"percentile_approx({coluna}, 0.25)\").alias(\"1 Quartil\"),\n",
    "        expr(f\"percentile_approx({coluna}, 0.5)\").alias(\"Mediana\"),\n",
    "        expr(f\"percentile_approx({coluna}, 0.75)\").alias(\"3 Quartil\"),\n",
    "        max(col(coluna)).alias(\"Máximo\"),\n",
    "        round(mean(col(coluna)),4).alias(\"Média\"),\n",
    "        round(stddev(col(coluna)),4).alias(\"Desvio Padrão\"),\n",
    "        round((stddev(col(coluna))/mean(col(coluna)))*100,4).alias(\"CV (%)\"),\n",
    "        count(col(coluna)).alias(\"Qtd\")\n",
    "        ).withColumn(\"Variável\", lit(coluna)).show()## Toda a variável"
   ]
  },
  {
   "cell_type": "code",
   "execution_count": 12,
   "id": "5683091b",
   "metadata": {},
   "outputs": [],
   "source": [
    "col_num_cartao_2=[[\n",
    " 'DIAS_CARENCIA',\n",
    " 'TAXA_JUROS',\n",
    " 'CET',\n",
    " 'SALDO_CONTABIL',\n",
    " 'DIAS_MAIOR_ATRASO_ABERTO',\n",
    " 'DIAS_MAIOR_ATRASO',\n",
    " 'MEDIA_ATRASO',\n",
    " 'QTD_PARCELAS',\n",
    " 'QTD_PARCELAS_ABERTAS',\n",
    " 'QTD_PARCELAS_PAGAS',\n",
    " 'VALOR_PAGO',\n",
    " 'JUROS_PAGOS_ATRASO',\n",
    " 'VALOR_PARCELA',\n",
    " 'VALOR_CALCULADO',\n",
    " 'VALOR_DESCONTO',\n",
    " 'PRINCIPAL_TOTAL',\n",
    " 'VALOR_FINANCIADO',\n",
    " 'Creditos_a_vencer',\n",
    " 'creditos_vencidos']]"
   ]
  },
  {
   "cell_type": "code",
   "execution_count": null,
   "id": "4f4fa842",
   "metadata": {},
   "outputs": [
    {
     "name": "stdout",
     "output_type": "stream",
     "text": [
      "+-------+---------+--------+---------+------------------+---------+-------------+---------+-------+--------------------+\n",
      "| Mínimo|1 Quartil| Mediana|3 Quartil|            Máximo|    Média|Desvio Padrão|   CV (%)|    Qtd|            Variável|\n",
      "+-------+---------+--------+---------+------------------+---------+-------------+---------+-------+--------------------+\n",
      "| -340.0|     30.0|    37.0|     50.0|            1001.0|  40.2707|       23.443|  58.2136|2292529|       DIAS_CARENCIA|\n",
      "|    0.0|      0.0|3.159635|      7.0|         69.947287|   4.4326|       4.8447| 109.2973|2292529|          TAXA_JUROS|\n",
      "|    0.0|     1.15|    4.05|   7.9491|         71.114712|   5.3295|       4.9307|  92.5177|2292529|                 CET|\n",
      "|    0.0|      0.0|     0.0|      0.0|          55286.28| 222.6099|      952.664| 427.9523|2292529|      SALDO_CONTABIL|\n",
      "|    0.0|      0.0|     0.0|      0.0|            3532.0|   87.014|     362.9617| 417.1305|2292529|DIAS_MAIOR_ATRASO...|\n",
      "|    0.0|      0.0|     2.0|     18.0|            3328.0|  39.9724|     151.8278| 379.8319|2292529|   DIAS_MAIOR_ATRASO|\n",
      "|    0.0|      0.0|     1.0|     10.0|            3298.0|  24.7994|     113.7163| 458.5438|2292529|        MEDIA_ATRASO|\n",
      "|    1.0|      2.0|     8.0|     12.0|              48.0|   9.0555|       7.8678|  86.8846|2292529|        QTD_PARCELAS|\n",
      "|    0.0|      0.0|     0.0|      0.0|              47.0|   1.4789|        4.909| 331.9437|2292529|QTD_PARCELAS_ABERTAS|\n",
      "|    0.0|      1.0|     6.0|     10.0|              48.0|   7.5766|       6.8623|  90.5723|2292529|  QTD_PARCELAS_PAGAS|\n",
      "|    0.0|    249.0|   721.0|  1650.82|          73895.16|1249.3031|    1667.2504| 133.4544|2292529|          VALOR_PAGO|\n",
      "|    0.0|      0.0|     0.0|      0.0|               0.0|      0.0|          0.0|     NULL|2292529|  JUROS_PAGOS_ATRASO|\n",
      "|   0.01|     78.0|  134.64|    220.0|           35000.0| 205.4783|     377.9336| 183.9287|2292529|       VALOR_PARCELA|\n",
      "|  -18.0|      0.0|     0.0|      0.0|         243576.54| 381.6663|    2093.3843| 548.4854|2292529|     VALOR_CALCULADO|\n",
      "|    0.0|      0.0|     0.0|      0.0|         166205.93| 114.1346|    1316.1118|1153.1224|2292529|      VALOR_DESCONTO|\n",
      "|-8010.9|   280.61|   720.0|   1500.0|          88508.33| 1154.724|    1514.2087| 131.1317|2292529|     PRINCIPAL_TOTAL|\n",
      "|   0.01|    320.0|   889.0|  1894.08|          70220.16|1459.3688|    1885.2447| 129.1822|2292529|    VALOR_FINANCIADO|\n",
      "|    0.0|      0.0|     0.0|      0.0|          55286.28| 118.2585|     714.3633| 604.0692|2292529|   Creditos_a_vencer|\n",
      "|    0.0|      0.0|     0.0|      0.0|35150.100000000006| 104.3514|     550.9662| 527.9914|2292529|   creditos_vencidos|\n",
      "+-------+---------+--------+---------+------------------+---------+-------------+---------+-------+--------------------+\n",
      "\n"
     ]
    }
   ],
   "source": [
    "# Medidas descritivas\n",
    "\n",
    "colunas_desc = col_num_cartao_2[0] if isinstance(col_num_cartao_2[0], list) else col_num_cartao_2\n",
    "\n",
    "resultados = []\n",
    "for coluna in colunas_desc:\n",
    "    resumo = df_cartao.agg(\n",
    "        min(col(coluna)).alias(\"Mínimo\"),\n",
    "        expr(f\"percentile_approx({coluna}, 0.25)\").alias(\"1 Quartil\"),\n",
    "        expr(f\"percentile_approx({coluna}, 0.5)\").alias(\"Mediana\"),\n",
    "        expr(f\"percentile_approx({coluna}, 0.75)\").alias(\"3 Quartil\"),\n",
    "        max(col(coluna)).alias(\"Máximo\"),\n",
    "        round(mean(col(coluna)), 4).alias(\"Média\"),\n",
    "        round(stddev(col(coluna)), 4).alias(\"Desvio Padrão\"),\n",
    "        round((stddev(col(coluna)) / mean(col(coluna))) * 100, 4).alias(\"CV (%)\"),\n",
    "        count(col(coluna)).alias(\"Qtd\")\n",
    "    ).withColumn(\"Variável\", lit(coluna))\n",
    "    resultados.append(resumo)\n",
    "\n",
    "df_resumo = resultados[0]\n",
    "for r in resultados[1:]:\n",
    "    df_resumo = df_resumo.union(r)\n",
    "\n",
    "df_resumo.show()\n",
    "\n",
    "'''df_resumo_pd = df_resumo.toPandas()\n",
    "df_resumo_pd.to_excel(\"medidas_descritivas_Cartao.xlsx\", index=False)'''"
   ]
  },
  {
   "cell_type": "code",
   "execution_count": 12,
   "id": "75d14548",
   "metadata": {},
   "outputs": [],
   "source": [
    "casos_negativos=df_cartao.filter(\n",
    "    (col(\"DIAS_CARENCIA\")<0) |\n",
    "    (col(\"VALOR_CALCULADO\")<0) |\n",
    "    (col(\"PRINCIPAL_TOTAL\")<0)\n",
    "    )\n",
    "\n",
    "casos_negativos = casos_negativos.toPandas() # pandas\n",
    "casos_negativos.to_excel(\"casos_negativos.xlsx\", index=False)"
   ]
  },
  {
   "cell_type": "code",
   "execution_count": 13,
   "id": "9f78fd64",
   "metadata": {},
   "outputs": [
    {
     "name": "stdout",
     "output_type": "stream",
     "text": [
      "+-------------------+---------------+---------------+-------------+----------+-------------+----------+---------+--------------+------------------------+-----------------+------------+------------+--------------------+------------------+----------+------------------+-------------+----------------------------+------------------------------+---------------+--------------+---------------+----------------+-----------------+-----------------+-----------------+\n",
      "|  ANO_MES_MOVIMENTO|       CPF_CNPJ|NUMERO_CONTRATO|DATA_CONTRATO|MODALIDADE|DIAS_CARENCIA|TAXA_JUROS|      CET|SALDO_CONTABIL|DIAS_MAIOR_ATRASO_ABERTO|DIAS_MAIOR_ATRASO|MEDIA_ATRASO|QTD_PARCELAS|QTD_PARCELAS_ABERTAS|QTD_PARCELAS_PAGAS|VALOR_PAGO|JUROS_PAGOS_ATRASO|VALOR_PARCELA|DATA_VENCIMENTO_PROX_PARCELA|DATA_VENCIMENTO_ULTIMA_PARCELA|VALOR_CALCULADO|VALOR_DESCONTO|PRINCIPAL_TOTAL|VALOR_FINANCIADO|FLAG_RENEGOCIACAO|Creditos_a_vencer|creditos_vencidos|\n",
      "+-------------------+---------------+---------------+-------------+----------+-------------+----------+---------+--------------+------------------------+-----------------+------------+------------+--------------------+------------------+----------+------------------+-------------+----------------------------+------------------------------+---------------+--------------+---------------+----------------+-----------------+-----------------+-----------------+\n",
      "|2025-06-01 00:00:00|9.9997762991E10|        1738182|   2021-07-26|         3|           51|  3.233724| 3.502995|           0.0|                       0|                2|         2.0|           8|                   0|                 8|    1288.0|               0.0|        161.0|                  1900-01-01|                    1900-01-01|            0.0|           0.0|        1078.74|          1288.0|              NAO|              0.0|              0.0|\n",
      "|2025-06-01 00:00:00|9.9997762991E10|        2462861|   2023-01-16|         2|           58|       0.0|     2.48|           0.0|                       0|               10|        10.0|           3|                   0|                 3|     189.0|               0.0|         63.0|                  1900-01-01|                    1900-01-01|            0.0|           0.0|          189.0|           189.0|              NAO|              0.0|              0.0|\n",
      "|2025-06-01 00:00:00|9.9997231015E10|        1322031|   2020-07-14|         3|           63|       7.0| 6.962308|        565.42|                    1067|               18|         5.0|          24|                   2|                22|   6219.62|               0.0|       282.71|                  2022-07-15|                    2022-08-15|            0.0|           0.0|         3000.0|         6785.04|              NAO|              0.0|           565.42|\n",
      "|2025-06-01 00:00:00|9.9997231015E10|        1824377|   2021-09-27|         3|           49|       8.5| 9.166592|           0.0|                       0|               18|         5.0|           6|                   0|                 6|   2135.28|               0.0|       355.88|                  1900-01-01|                    1900-01-01|            0.0|           0.0|         1500.0|         2135.28|              NAO|              0.0|              0.0|\n",
      "|2025-06-01 00:00:00|9.9997231015E10|        2046204|   2022-03-08|         3|           38|      11.5|12.160182|        910.29|                    1067|               18|        14.0|           6|                   3|                 3|    910.29|               0.0|       303.43|                  2022-07-15|                    2022-09-15|            0.0|           0.0|         1200.0|         1820.58|              NAO|              0.0|           910.29|\n",
      "|2025-06-01 00:00:00|9.9997231015E10|        2209215|   2022-07-01|         2|           45|       0.0|      0.0|        201.26|                    1036|                0|         0.0|           8|                   8|                 0|       0.0|               0.0|        25.16|                  2022-08-15|                    2023-03-15|            0.0|           0.0|         201.26|          201.26|              NAO|              0.0|           201.26|\n",
      "|2025-06-01 00:00:00|9.9996766187E10|        2912417|   2024-07-24|         3|           60|     12.99|13.335033|         86.19|                     176|               19|         8.0|           6|                   3|                 3|     86.19|               0.0|        28.73|                  2024-12-22|                    2025-02-22|            0.0|           0.0|          100.0|          172.38|              NAO|              0.0|            86.19|\n",
      "|2025-06-01 00:00:00|9.9996766187E10|        2981547|   2024-10-16|         1|           37|       0.0|      0.0|           0.0|                       0|               19|        19.0|           1|                   0|                 1|      20.0|               0.0|         20.0|                  1900-01-01|                    1900-01-01|            0.0|           0.0|           20.0|            20.0|              NAO|              0.0|              0.0|\n",
      "|2025-06-01 00:00:00|9.9996766187E10|         456560|   2024-12-12|         4|           -1|       0.0|      0.0|           0.0|                       0|                0|         0.0|           1|                   0|                 1|     55.84|               0.0|        55.84|                        NULL|                          NULL|          50.22|           0.0|          50.22|           55.84|              SIM|              0.0|              0.0|\n",
      "|2025-06-01 00:00:00|9.9995956853E10|        1418825|   2020-10-22|         3|           54|  3.556494| 3.556494|           0.0|                       0|                3|         3.0|          10|                   0|                10|    1790.0|               0.0|        179.0|                  1900-01-01|                    1900-01-01|            0.0|           0.0|        1440.99|          1790.0|              NAO|              0.0|              0.0|\n",
      "|2025-06-01 00:00:00|9.9995956853E10|         109464|   2021-02-18|         4|            1|       0.0|      0.0|           0.0|                       0|                0|         0.0|           1|                   0|                 1|   1280.58|               0.0|      1280.58|                        NULL|                          NULL|        1275.32|           0.0|        1275.32|         1280.58|              SIM|              0.0|              0.0|\n",
      "|2025-06-01 00:00:00|9.9995697068E10|        2539368|   2023-04-15|         2|           56|       0.0|      0.0|           0.0|                       0|                0|         0.0|          10|                   0|                10|    1488.0|               0.0|        148.8|                  1900-01-01|                    1900-01-01|            0.0|           0.0|         1488.0|          1488.0|              NAO|              0.0|              0.0|\n",
      "|2025-06-01 00:00:00|9.9995697068E10|        2721806|   2023-11-22|         2|           49|       0.0|     1.61|           0.0|                       0|                0|         0.0|          11|                   0|                11|    1364.0|               0.0|        124.0|                  1900-01-01|                    1900-01-01|            0.0|           0.0|         1364.0|          1364.0|              NAO|              0.0|              0.0|\n",
      "|2025-06-01 00:00:00|9.9995697068E10|        3066256|   2025-02-08|         2|           30|       0.0|      4.6|         124.0|                       7|                0|         0.0|           4|                   1|                 3|     372.0|               0.0|        124.0|                  2025-06-10|                    2025-06-10|            0.0|           0.0|          496.0|           496.0|              NAO|              0.0|            124.0|\n",
      "|2025-06-01 00:00:00|9.9993953172E10|        1761038|   2021-08-09|         3|           32|  3.720562|  3.91992|           0.0|                       0|                1|         1.0|          21|                   0|                21|    4830.0|               0.0|        230.0|                  1900-01-01|                    1900-01-01|            0.0|           0.0|         3229.0|          4830.0|              NAO|              0.0|              0.0|\n",
      "|2025-06-01 00:00:00|9.9993740268E10|        2758519|   2024-01-02|         2|           44|       0.0|     6.04|           0.0|                       0|               36|        36.0|           8|                   0|                 8|    1152.0|               0.0|        144.0|                  1900-01-01|                    1900-01-01|            0.0|           0.0|         1152.0|          1152.0|              NAO|              0.0|              0.0|\n",
      "|2025-06-01 00:00:00|9.9993740268E10|         439231|   2024-10-21|         4|            0|       0.0|      0.0|           0.0|                       0|                0|         0.0|           1|                   0|                 1|    174.79|               0.0|       174.79|                        NULL|                          NULL|         172.12|          5.62|          166.5|          174.79|              SIM|              0.0|              0.0|\n",
      "|2025-06-01 00:00:00|9.9993309249E10|         956318|   2019-06-06|         2|           34|       0.0|     5.21|           0.0|                       0|               29|        29.0|           4|                   0|                 4|     468.0|               0.0|        117.0|                  1900-01-01|                    1900-01-01|            0.0|           0.0|          468.0|           468.0|              NAO|              0.0|              0.0|\n",
      "|2025-06-01 00:00:00|9.9993309249E10|        1035221|   2019-08-20|         3|          112|  4.019555| 4.276284|           0.0|                       0|               61|        46.0|           5|                   0|                 5|     150.0|               0.0|         30.0|                  1900-01-01|                    1900-01-01|            0.0|           0.0|          118.0|           150.0|              NAO|              0.0|              0.0|\n",
      "|2025-06-01 00:00:00|9.9993309249E10|          59491|   2019-10-10|         4|           31|       7.0|   7.3534|           0.0|                       0|                1|         1.0|           2|                   0|                 2|     182.2|               0.0|         91.1|                        NULL|                          NULL|         163.52|           0.0|         163.52|           182.2|              SIM|              0.0|              0.0|\n",
      "|2025-06-01 00:00:00|9.9993309249E10|          82062|   2020-06-12|         4|            0|       4.9|   5.1184|           0.0|                       0|                0|         0.0|           1|                   0|                 1|      30.1|               0.0|         30.1|                        NULL|                          NULL|           30.0|           0.0|           30.0|            30.1|              SIM|              0.0|              0.0|\n",
      "|2025-06-01 00:00:00|9.9992442972E10|           9571|   2015-11-06|         3|           34|  2.481265| 2.812922|        356.85|                    3201|                2|         1.0|          12|                   3|                 9|   1070.55|               0.0|       118.95|                  2016-09-10|                    2016-11-10|            0.0|           0.0|         1190.0|         1452.29|              NAO|              0.0|           356.85|\n",
      "|2025-06-01 00:00:00|9.9992442972E10|          68064|   2016-06-10|         2|           30|       0.0|     1.96|          73.0|                    3201|                2|         1.0|           4|                   2|                 2|      73.0|               0.0|         36.5|                  2016-09-10|                    2016-10-10|            0.0|           0.0|          146.0|           146.0|              NAO|              0.0|             73.0|\n",
      "|2025-06-01 00:00:00|9.9992442972E10|          75260|   2016-07-06|         2|           35|       0.0|     2.99|        1152.9|                    3201|                1|         1.0|          10|                   9|                 1|     128.1|               0.0|        128.1|                  2016-09-10|                    2017-05-10|            0.0|           0.0|         1281.0|          1281.0|              NAO|              0.0|           1152.9|\n",
      "|2025-06-01 00:00:00|9.9992442972E10|          85674|   2016-08-09|         2|           32|       0.0|     1.99|       1263.25|                    3201|                0|         0.0|           5|                   5|                 0|       0.0|               0.0|       252.65|                  2016-09-10|                    2017-01-10|            0.0|           0.0|        1263.25|         1263.25|              NAO|              0.0|          1263.25|\n",
      "|2025-06-01 00:00:00| 9.999220592E10|        1605432|   2021-04-08|         2|           44|       0.0|     1.65|           0.0|                       0|               37|        19.0|           9|                   0|                 9|     900.0|               0.0|        100.0|                  1900-01-01|                    1900-01-01|            0.0|           0.0|          900.0|           900.0|              NAO|              0.0|              0.0|\n",
      "|2025-06-01 00:00:00| 9.999220592E10|       12219440|   2021-09-28|         5|           24|       9.8|    10.27|           0.0|                       0|                0|         0.0|           1|                   0|                 1|     78.52|               0.0|        78.52|                        NULL|                          NULL|            0.0|           0.0|          72.86|           78.52|              SIM|              0.0|              0.0|\n",
      "|2025-06-01 00:00:00| 9.999220592E10|       12281096|   2021-11-22|         5|           30|      14.9|    15.17|           0.0|                       0|                0|         0.0|           1|                   0|                 1|      44.4|               0.0|         44.4|                        NULL|                          NULL|            0.0|           0.0|          38.64|            44.4|              SIM|              0.0|              0.0|\n",
      "|2025-06-01 00:00:00|9.9990245991E10|        1478404|   2020-12-09|         3|           37|  4.072806| 4.348138|         160.0|                    1340|                5|         5.0|          11|                   2|                 9|     720.0|               0.0|         80.0|                  2021-10-15|                    2021-11-15|            0.0|           0.0|          680.0|           880.0|              NAO|              0.0|            160.0|\n",
      "|2025-06-01 00:00:00|9.9990245991E10|        1827963|   2021-09-30|         2|           46|       0.0|     1.98|        1296.0|                    1309|                0|         0.0|          18|                  18|                 0|       0.0|               0.0|         72.0|                  2021-11-15|                    2023-04-15|            0.0|           0.0|         1296.0|          1296.0|              NAO|              0.0|           1296.0|\n",
      "|2025-06-01 00:00:00|9.9990040915E10|        1955753|   2021-12-29|         2|           43|       0.0|     3.49|        2520.0|                    1222|                0|         0.0|          15|                  15|                 0|       0.0|               0.0|        168.0|                  2022-02-10|                    2023-04-10|            0.0|           0.0|         2520.0|          2520.0|              NAO|              0.0|           2520.0|\n",
      "|2025-06-01 00:00:00|9.9988747268E10|        2596371|   2023-06-23|         2|           60|       0.0|      2.1|           0.0|                       0|                1|         1.0|           4|                   0|                 4|     236.0|               0.0|         59.0|                  1900-01-01|                    1900-01-01|            0.0|           0.0|          236.0|           236.0|              NAO|              0.0|              0.0|\n",
      "|2025-06-01 00:00:00|9.9988747268E10|        2596927|   2023-06-24|         2|           59|       0.0|      0.0|           0.0|                       0|                1|         1.0|           4|                   0|                 4|    161.88|               0.0|        40.47|                  1900-01-01|                    1900-01-01|            0.0|           0.0|         161.88|          161.88|              NAO|              0.0|              0.0|\n",
      "|2025-06-01 00:00:00|9.9988747268E10|        2773708|   2024-01-24|         2|           58|       0.0|      0.0|           0.0|                       0|                3|         2.0|           3|                   0|                 3|    229.95|               0.0|        76.65|                  1900-01-01|                    1900-01-01|            0.0|           0.0|         229.95|          229.95|              NAO|              0.0|              0.0|\n",
      "|2025-06-01 00:00:00|9.9988747268E10|        3059867|   2025-01-29|         2|           52|       0.0|     2.07|         328.0|                       0|                0|         0.0|           8|                   4|                 4|     328.0|               0.0|         82.0|                  2025-07-22|                    2025-10-22|            0.0|           0.0|          656.0|           656.0|              NAO|            328.0|              0.0|\n",
      "|2025-06-01 00:00:00|9.9988267991E10|        2419648|   2022-12-09|         2|           37|       0.0|     4.01|        7176.0|                     883|                0|         0.0|          24|                  24|                 0|       0.0|               0.0|        299.0|                  2023-01-15|                    2024-12-15|            0.0|           0.0|         7176.0|          7176.0|              NAO|              0.0|           7176.0|\n",
      "|2025-06-01 00:00:00|9.9988178972E10|        1352304|   2020-08-18|         3|           53|       9.9|10.542123|           0.0|                       0|                0|         0.0|           3|                   0|                 3|    724.86|               0.0|       241.62|                  1900-01-01|                    1900-01-01|            0.0|           0.0|          550.0|          724.86|              NAO|              0.0|              0.0|\n",
      "|2025-06-01 00:00:00|9.9988178972E10|        1683983|   2021-06-10|         3|           30|       7.5| 8.187051|           0.0|                       0|                0|         0.0|           6|                   0|                 6|   1048.86|               0.0|       174.81|                  1900-01-01|                    1900-01-01|            0.0|           0.0|          800.0|         1048.86|              NAO|              0.0|              0.0|\n",
      "|2025-06-01 00:00:00|9.9987856934E10|        1918250|   2021-12-06|         3|          125|  3.507024| 3.736752|           0.0|                       0|                0|         0.0|          18|                   0|                18|    2196.0|               0.0|        122.0|                  1900-01-01|                    1900-01-01|            0.0|           0.0|         1399.0|          2196.0|              NAO|              0.0|              0.0|\n",
      "|2025-06-01 00:00:00|9.9987856934E10|        2388899|   2022-11-17|         2|           54|       0.0|      0.0|           0.0|                       0|                0|         0.0|          10|                   0|                10|     469.0|               0.0|         46.9|                  1900-01-01|                    1900-01-01|            0.0|           0.0|          469.0|           469.0|              NAO|              0.0|              0.0|\n",
      "|2025-06-01 00:00:00|9.9987856934E10|        2480857|   2023-02-06|         2|           32|       0.0|      0.0|           0.0|                       0|                0|         0.0|          10|                   0|                10|     329.0|               0.0|         32.9|                  1900-01-01|                    1900-01-01|            0.0|           0.0|          329.0|           329.0|              NAO|              0.0|              0.0|\n",
      "|2025-06-01 00:00:00|9.9987848915E10|        1890945|   2021-11-19|         2|           52|       0.0|      0.0|           0.0|                       0|                0|         0.0|           3|                   0|                 3|    722.97|               0.0|       240.99|                  1900-01-01|                    1900-01-01|            0.0|           0.0|         722.97|          722.97|              NAO|              0.0|              0.0|\n",
      "|2025-06-01 00:00:00|9.9987848915E10|        2444618|   2022-12-27|         2|           45|       0.0|      0.0|           0.0|                       0|                0|         0.0|           5|                   0|                 5|    2299.0|               0.0|        459.8|                  1900-01-01|                    1900-01-01|            0.0|           0.0|         2299.0|          2299.0|              NAO|              0.0|              0.0|\n",
      "|2025-06-01 00:00:00|9.9986833949E10|        1006361|   2019-07-24|         2|           53|       0.0|     3.87|           0.0|                       0|             1100|       549.0|          12|                   0|                12|    2076.0|               0.0|        173.0|                  1900-01-01|                    1900-01-01|            0.0|           0.0|         2076.0|          2076.0|              NAO|              0.0|              0.0|\n",
      "|2025-06-01 00:00:00|9.9986833949E10|        1152676|   2019-12-09|         3|           37|  6.979686| 7.332656|           0.0|                       0|               17|        17.0|           5|                   0|                 5|     625.0|               0.0|        125.0|                  1900-01-01|                    1900-01-01|            0.0|           0.0|          499.0|           625.0|              NAO|              0.0|              0.0|\n",
      "|2025-06-01 00:00:00|9.9986833949E10|        1156241|   2019-12-11|         1|           35|       0.0|      0.0|           0.0|                       0|                0|         0.0|           1|                   0|                 1|     155.0|               0.0|        155.0|                  1900-01-01|                    1900-01-01|            0.0|           0.0|          155.0|           155.0|              NAO|              0.0|              0.0|\n",
      "|2025-06-01 00:00:00|9.9986833949E10|        1210642|   2020-02-06|         2|           38|       0.0|      0.0|           0.0|                       0|               17|        17.0|           3|                   0|                 3|    194.49|               0.0|        64.83|                  1900-01-01|                    1900-01-01|            0.0|           0.0|         194.49|          194.49|              NAO|              0.0|              0.0|\n",
      "|2025-06-01 00:00:00|9.9986833949E10|        1225121|   2020-02-20|         2|           55|       0.0|     3.89|           0.0|                       0|             1100|       846.0|           6|                   0|                 6|     558.0|               0.0|         93.0|                  1900-01-01|                    1900-01-01|            0.0|           0.0|          558.0|           558.0|              NAO|              0.0|              0.0|\n",
      "|2025-06-01 00:00:00|9.9986833949E10|        1264222|   2020-05-02|         2|           44|       0.0|     4.06|           0.0|                       0|             1100|      1023.0|           6|                   0|                 6|     504.0|               0.0|         84.0|                  1900-01-01|                    1900-01-01|            0.0|           0.0|          504.0|           504.0|              NAO|              0.0|              0.0|\n",
      "|2025-06-01 00:00:00|9.9986833949E10|         285922|   2023-06-20|         4|            0|       0.0|      0.0|           0.0|                       0|                0|         0.0|           1|                   0|                 1|   1592.94|               0.0|      1592.94|                        NULL|                          NULL|        4558.81|       3163.81|         1395.0|         1592.94|              SIM|              0.0|              0.0|\n",
      "|2025-06-01 00:00:00| 9.998428882E10|        2279709|   2022-08-22|         3|           31|  4.960954| 5.319754|        1053.0|                     907|               28|        17.0|          12|                   9|                 3|     351.0|               0.0|        117.0|                  2022-12-22|                    2023-08-22|            0.0|           0.0|        1013.91|          1404.0|              NAO|              0.0|           1053.0|\n",
      "|2025-06-01 00:00:00|9.9983141515E10|        2395012|   2022-11-22|         2|           40|       0.0|     3.99|         440.0|                     897|                0|         0.0|           4|                   4|                 0|       0.0|               0.0|        110.0|                  2023-01-01|                    2023-04-01|            0.0|           0.0|          440.0|           440.0|              NAO|              0.0|            440.0|\n",
      "|2025-06-01 00:00:00|9.9983141515E10|        2395242|   2022-11-22|         1|           40|       0.0|      0.0|          69.0|                     897|                0|         0.0|           1|                   1|                 0|       0.0|               0.0|         69.0|                  2023-01-01|                    2023-01-01|            0.0|           0.0|           69.0|            69.0|              NAO|              0.0|             69.0|\n",
      "|2025-06-01 00:00:00|9.9979748168E10|        1478433|   2020-12-09|         2|           32|       0.0|      0.0|           0.0|                       0|                5|         5.0|           3|                   0|                 3|    329.01|               0.0|       109.67|                  1900-01-01|                    1900-01-01|            0.0|           0.0|         329.01|          329.01|              NAO|              0.0|              0.0|\n",
      "|2025-06-01 00:00:00|9.9979748168E10|        2013649|   2022-02-10|         3|           28|  2.724528| 3.030091|           0.0|                       0|               45|        20.0|          18|                   0|                18|    3726.0|               0.0|        207.0|                  1900-01-01|                    1900-01-01|            0.0|           0.0|         2834.0|          3726.0|              NAO|              0.0|              0.0|\n",
      "|2025-06-01 00:00:00|9.9979160691E10|        2919098|   2024-07-31|         3|           32|     12.99|13.437334|           0.0|                       0|              164|        95.0|           3|                   0|                 3|    193.86|               0.0|        64.62|                  1900-01-01|                    1900-01-01|            0.0|           0.0|          150.0|          193.86|              NAO|              0.0|              0.0|\n",
      "|2025-06-01 00:00:00|9.9978334904E10|         992881|   2019-07-11|         3|          127|  8.210945| 8.459378|           0.0|                       0|              172|       141.0|           7|                   0|                 7|     406.0|               0.0|         58.0|                  1900-01-01|                    1900-01-01|            0.0|           0.0|          228.0|           406.0|              NAO|              0.0|              0.0|\n",
      "|2025-06-01 00:00:00|9.9978334904E10|        1101296|   2019-10-23|         3|           23|       7.0|  9.82509|           0.0|                       0|                0|         0.0|           4|                   0|                 4|     242.8|               0.0|         60.7|                  1900-01-01|                    1900-01-01|            0.0|           0.0|          197.0|           242.8|              NAO|              0.0|              0.0|\n",
      "|2025-06-01 00:00:00|9.9978334904E10|        1136250|   2019-11-26|         3|           19|       7.0|11.160989|           0.0|                       0|              172|       172.0|           4|                   0|                 4|    167.32|               0.0|        41.83|                  1900-01-01|                    1900-01-01|            0.0|           0.0|          134.0|          167.32|              NAO|              0.0|              0.0|\n",
      "|2025-06-01 00:00:00|9.9978334904E10|        1152066|   2019-12-09|         3|           37|       5.5| 8.850653|           0.0|                       0|              172|       156.0|           4|                   0|                 4|     163.4|               0.0|        40.85|                  1900-01-01|                    1900-01-01|            0.0|           0.0|          130.0|           163.4|              NAO|              0.0|              0.0|\n",
      "|2025-06-01 00:00:00|9.9978334904E10|       11712105|   2020-01-15|         5|           31|      14.0|    15.02|           0.0|                       0|                0|         0.0|           1|                   0|                 1|    185.63|               0.0|       185.63|                        NULL|                          NULL|            0.0|           0.0|         162.12|          185.63|              SIM|              0.0|              0.0|\n",
      "|2025-06-01 00:00:00|9.9978334904E10|       11738720|   2020-02-17|         5|           27|      14.0|     15.0|           0.0|                       0|              172|       172.0|           1|                   0|                 1|    183.99|               0.0|       183.99|                        NULL|                          NULL|            0.0|           0.0|          162.1|          183.99|              SIM|              0.0|              0.0|\n",
      "|2025-06-01 00:00:00|9.9978334904E10|        1223427|   2020-02-18|         3|           26|       7.0| 10.79052|           0.0|                       0|              172|       141.0|           3|                   0|                 3|    205.56|               0.0|        68.52|                  1900-01-01|                    1900-01-01|            0.0|           0.0|          170.0|          205.56|              NAO|              0.0|              0.0|\n",
      "|2025-06-01 00:00:00|9.9978334904E10|        1235366|   2020-03-05|         3|           41|       7.0|10.877908|           0.0|                       0|              141|       110.0|           3|                   0|                 3|    165.57|               0.0|        55.19|                  1900-01-01|                    1900-01-01|            0.0|           0.0|          130.0|          165.57|              NAO|              0.0|              0.0|\n",
      "|2025-06-01 00:00:00|9.9978334904E10|          91670|   2020-09-03|         4|            2|       0.0|      0.0|           0.0|                       0|                0|         0.0|           1|                   0|                 1|    104.76|               0.0|       104.76|                        NULL|                          NULL|         229.68|        124.92|         104.76|          104.76|              SIM|              0.0|              0.0|\n",
      "|2025-06-01 00:00:00|9.9978334904E10|        1580158|   2021-03-15|         3|           31|       7.5| 7.760726|           0.0|                       0|                0|         0.0|           6|                   0|                 6|    647.52|               0.0|       107.92|                  1900-01-01|                    1900-01-01|            0.0|           0.0|          500.0|          647.52|              NAO|              0.0|              0.0|\n",
      "|2025-06-01 00:00:00|9.9978334904E10|        1591846|   2021-03-25|         3|           51|       8.5| 8.869561|           0.0|                       0|                0|         0.0|           3|                   0|                 3|    251.43|               0.0|        83.81|                  1900-01-01|                    1900-01-01|            0.0|           0.0|          200.0|          251.43|              NAO|              0.0|              0.0|\n",
      "|2025-06-01 00:00:00|9.9978334904E10|       12099476|   2021-05-18|         5|           28|       9.8|    10.33|           0.0|                       0|                0|         0.0|           1|                   0|                 1|     92.81|               0.0|        92.81|                        NULL|                          NULL|            0.0|           0.0|          84.26|           92.81|              SIM|              0.0|              0.0|\n",
      "|2025-06-01 00:00:00|9.9978334904E10|        1763440|   2021-08-10|         3|           36|       8.5|10.266802|           0.0|                       0|                0|         0.0|           4|                   0|                 4|    388.84|               0.0|        97.21|                  1900-01-01|                    1900-01-01|            0.0|           0.0|          300.0|          388.84|              NAO|              0.0|              0.0|\n",
      "|2025-06-01 00:00:00|9.9978334904E10|        1844047|   2021-10-13|         3|           33|       9.0|10.914972|           0.0|                       0|                0|         0.0|           4|                   0|                 4|     391.0|               0.0|        97.75|                  1900-01-01|                    1900-01-01|            0.0|           0.0|          300.0|           391.0|              NAO|              0.0|              0.0|\n",
      "|2025-06-01 00:00:00|9.9978334904E10|         149582|   2021-11-10|         4|            0|       4.9|   5.3328|           0.0|                       0|                0|         0.0|           7|                   0|                 7|    613.06|               0.0|        85.51|                        NULL|                          NULL|         523.32|           0.0|         523.32|          513.06|              SIM|              0.0|              0.0|\n",
      "|2025-06-01 00:00:00|9.9978334904E10|         155468|   2021-12-06|         4|            0|       0.0|      0.0|           0.0|                       0|                0|         0.0|           1|                   0|                 1|    452.83|               0.0|       452.83|                        NULL|                          NULL|         452.83|           0.0|         452.83|          452.83|              SIM|              0.0|              0.0|\n",
      "|2025-06-01 00:00:00|9.9978334904E10|        1955774|   2021-12-29|         3|          107|       6.0| 6.236803|           0.0|                       0|              327|       174.0|          36|                   0|                36|   5978.16|               0.0|       166.06|                  1900-01-01|                    1900-01-01|            0.0|           0.0|         2000.0|         5978.16|              NAO|              0.0|              0.0|\n",
      "|2025-06-01 00:00:00|9.9978334904E10|         253838|   2023-03-08|         4|            2|       0.0|      0.0|           0.0|                       0|                0|         0.0|           1|                   0|                 1|   4041.38|               0.0|      4041.38|                        NULL|                          NULL|        8473.31|       2495.15|        5978.16|         4041.38|              SIM|              0.0|              0.0|\n",
      "|2025-06-01 00:00:00|9.9978334904E10|        2720223|   2023-11-21|         3|          115|       5.9| 6.226147|           0.0|                       0|                0|         0.0|          24|                   0|                24|   2338.08|               0.0|        97.42|                  1900-01-01|                    1900-01-01|            0.0|           0.0|         1000.0|         2338.08|              NAO|              0.0|              0.0|\n",
      "|2025-06-01 00:00:00|9.9978334904E10|        2737807|   2023-12-08|         3|          129|       5.9|  6.22947|           0.0|                       0|                0|         0.0|          24|                   0|                24|   2403.36|               0.0|       100.14|                  1900-01-01|                    1900-01-01|            0.0|           0.0|         1000.0|         2403.36|              NAO|              0.0|              0.0|\n",
      "|2025-06-01 00:00:00|9.9978334904E10|         347369|   2024-01-15|         4|            1|       0.0|      0.0|           0.0|                       0|                0|         0.0|           1|                   0|                 1|   2291.89|               0.0|      2291.89|                        NULL|                          NULL|        4741.44|           0.0|        4741.44|         2291.89|              SIM|              0.0|              0.0|\n",
      "|2025-06-01 00:00:00|9.9978334904E10|        2825815|   2024-04-09|         3|           97|      6.39| 6.732927|           0.0|                       0|                0|         0.0|          24|                   0|                24|   2385.84|               0.0|        99.41|                  1900-01-01|                    1900-01-01|            0.0|           0.0|         1000.0|         2385.84|              NAO|              0.0|              0.0|\n",
      "|2025-06-01 00:00:00|9.9978334904E10|         389713|   2024-06-04|         4|            0|       0.0|      0.0|           0.0|                       0|                0|         0.0|           1|                   0|                 1|   1175.26|               0.0|      1175.26|                        NULL|                          NULL|        2385.84|           0.0|        2385.84|         1175.26|              SIM|              0.0|              0.0|\n",
      "|2025-06-01 00:00:00|9.9977397015E10|           8831|   2015-10-29|         1|           42|       0.0|      0.0|           0.0|                       0|                0|         0.0|           1|                   0|                 1|    2428.0|               0.0|       2428.0|                  1900-01-01|                    1900-01-01|            0.0|           0.0|         2428.0|          2428.0|              NAO|              0.0|              0.0|\n",
      "|2025-06-01 00:00:00|9.9977397015E10|         252177|   2017-06-14|         1|           57|       0.0|      0.0|           0.0|                       0|                5|         5.0|           1|                   0|                 1|    1218.0|               0.0|       1218.0|                  1900-01-01|                    1900-01-01|            0.0|           0.0|         1218.0|          1218.0|              NAO|              0.0|              0.0|\n",
      "|2025-06-01 00:00:00|9.9977397015E10|         252735|   2017-06-14|         2|           57|       0.0|      0.0|           0.0|                       0|               16|         5.0|          10|                   0|                10|    1377.0|               0.0|        137.7|                  1900-01-01|                    1900-01-01|            0.0|           0.0|         1377.0|          1377.0|              NAO|              0.0|              0.0|\n",
      "|2025-06-01 00:00:00|9.9977397015E10|          22265|   2018-04-26|         4|           -3|       0.0|      0.0|           0.0|                       0|                3|         3.0|           1|                   0|                 1|     289.2|               0.0|        289.2|                        NULL|                          NULL|         281.23|           0.0|         281.23|           289.2|              SIM|              0.0|              0.0|\n",
      "|2025-06-01 00:00:00|  9.99753789E10|        2775197|   2024-01-27|         2|           48|       0.0|      0.0|           0.0|                       0|               26|        26.0|           3|                   0|                 3|    599.01|               0.0|       199.67|                  1900-01-01|                    1900-01-01|            0.0|           0.0|         599.01|          599.01|              NAO|              0.0|              0.0|\n",
      "|2025-06-01 00:00:00|9.9974800072E10|        1584111|   2021-03-17|         3|           54|  2.971931| 3.202147|           0.0|                       0|                5|         3.0|          15|                   0|                15|    3930.0|               0.0|        262.0|                  1900-01-01|                    1900-01-01|            0.0|           0.0|        2994.95|          3930.0|              NAO|              0.0|              0.0|\n",
      "|2025-06-01 00:00:00|9.9974800072E10|        2621004|   2023-07-24|         3|          109|  4.250636| 4.444948|           0.0|                       0|                0|         0.0|          16|                   0|                16|    8336.0|               0.0|        521.0|                  1900-01-01|                    1900-01-01|            0.0|           0.0|        5217.99|          8336.0|              NAO|              0.0|              0.0|\n",
      "|2025-06-01 00:00:00|9.9972417972E10|        2597783|   2023-06-26|         2|           45|       0.0|     4.08|           0.0|                       0|               28|         8.0|          18|                   0|                18|    5220.0|               0.0|        290.0|                  1900-01-01|                    1900-01-01|            0.0|           0.0|         5220.0|          5220.0|              NAO|              0.0|              0.0|\n",
      "|2025-06-01 00:00:00|9.9972417972E10|        3002585|   2024-11-12|         3|           59|      8.99| 9.325658|       1662.57|                       6|               34|        19.0|          18|                  13|                 5|    639.45|               0.0|       127.89|                  2025-06-10|                    2026-06-10|            0.0|           0.0|         1000.0|         2302.02|              NAO|          1534.68|           127.89|\n",
      "|2025-06-01 00:00:00|  9.99722719E10|         108213|   2016-10-17|         2|           54|       0.0|     1.99|           0.0|                       0|                5|         5.0|           4|                   0|                 4|     276.0|               0.0|         69.0|                  1900-01-01|                    1900-01-01|            0.0|           0.0|          276.0|           276.0|              NAO|              0.0|              0.0|\n",
      "|2025-06-01 00:00:00|  9.99722719E10|         406539|   2017-11-21|         2|           50|       0.0|     4.16|           0.0|                       0|                0|         0.0|           7|                   0|                 7|     693.0|               0.0|         99.0|                  1900-01-01|                    1900-01-01|            0.0|           0.0|          693.0|           693.0|              NAO|              0.0|              0.0|\n",
      "|2025-06-01 00:00:00|  9.99722719E10|         581940|   2018-06-18|         3|           53|  3.252035| 3.495652|           0.0|                       0|                0|         0.0|          13|                   0|                13|    2743.0|               0.0|        211.0|                  1900-01-01|                    1900-01-01|            0.0|           0.0|         2112.0|          2743.0|              NAO|              0.0|              0.0|\n",
      "|2025-06-01 00:00:00|  9.99722719E10|         818403|   2019-01-21|         3|          109|  4.055005| 4.309053|           0.0|                       0|                0|         0.0|           9|                   0|                 9|    1251.0|               0.0|        139.0|                  1900-01-01|                    1900-01-01|            0.0|           0.0|          908.9|          1251.0|              NAO|              0.0|              0.0|\n",
      "|2025-06-01 00:00:00|  9.99722719E10|        2664462|   2023-09-13|         2|           58|       0.0|      0.0|           0.0|                       0|                0|         0.0|           3|                   0|                 3|     699.0|               0.0|        233.0|                  1900-01-01|                    1900-01-01|            0.0|           0.0|          699.0|           699.0|              NAO|              0.0|              0.0|\n",
      "|2025-06-01 00:00:00|9.9971887991E10|         573846|   2018-06-11|         3|          126|  3.647866| 3.868427|           0.0|                       0|                6|         3.0|          11|                   0|                11|    1397.0|               0.0|        127.0|                  1900-01-01|                    1900-01-01|            0.0|           0.0|          990.0|          1397.0|              NAO|              0.0|              0.0|\n",
      "|2025-06-01 00:00:00|9.9971887991E10|         638254|   2018-08-15|         3|           31|       6.0| 6.316633|           0.0|                       0|                2|         2.0|           4|                   0|                 4|    291.56|               0.0|        72.89|                  1900-01-01|                    1900-01-01|            0.0|           0.0|          250.0|          291.56|              NAO|              0.0|              0.0|\n",
      "|2025-06-01 00:00:00|9.9971887991E10|         960269|   2019-06-10|         3|          127|  5.300904| 5.506783|           0.0|                       0|                6|         4.0|          13|                   0|                13|    1703.0|               0.0|        131.0|                  1900-01-01|                    1900-01-01|            0.0|           0.0|          999.0|          1703.0|              NAO|              0.0|              0.0|\n",
      "|2025-06-01 00:00:00|9.9971887991E10|        1081159|   2019-10-05|         2|           41|       0.0|     3.03|           0.0|                       0|                6|         4.0|          12|                   0|                12|    1188.0|               0.0|         99.0|                  1900-01-01|                    1900-01-01|            0.0|           0.0|         1188.0|          1188.0|              NAO|              0.0|              0.0|\n",
      "|2025-06-01 00:00:00|9.9971887991E10|        1093091|   2019-10-16|         3|           30|       7.0| 7.817231|           0.0|                       0|                6|         5.0|           4|                   0|                 4|   1204.84|               0.0|       301.21|                  1900-01-01|                    1900-01-01|            0.0|           0.0|         1000.0|         1204.84|              NAO|              0.0|              0.0|\n",
      "|2025-06-01 00:00:00|9.9971887991E10|        1464937|   2020-11-30|         3|           46|  2.336948| 2.601907|           0.0|                       0|                2|         1.0|          12|                   0|                12|    2208.0|               0.0|        184.0|                  1900-01-01|                    1900-01-01|            0.0|           0.0|        1848.14|          2208.0|              NAO|              0.0|              0.0|\n",
      "|2025-06-01 00:00:00|9.9970554034E10|        2707135|   2023-11-07|         1|           38|       0.0|      0.0|           0.0|                       0|                3|         3.0|           1|                   0|                 1|      15.0|               0.0|         15.0|                  1900-01-01|                    1900-01-01|            0.0|           0.0|           15.0|            15.0|              NAO|              0.0|              0.0|\n",
      "+-------------------+---------------+---------------+-------------+----------+-------------+----------+---------+--------------+------------------------+-----------------+------------+------------+--------------------+------------------+----------+------------------+-------------+----------------------------+------------------------------+---------------+--------------+---------------+----------------+-----------------+-----------------+-----------------+\n",
      "only showing top 100 rows\n",
      "\n"
     ]
    }
   ],
   "source": [
    "df_cartao_order=df_cartao.orderBy(desc(\"cpf_cnpj\"), asc(\"DATA_CONTRATO\"))\n",
    "df_cartao_order.show(100)"
   ]
  },
  {
   "cell_type": "markdown",
   "id": "cf05af41",
   "metadata": {},
   "source": [
    "## CARTAO - Base Cadastro Atualizada"
   ]
  },
  {
   "cell_type": "code",
   "execution_count": 41,
   "id": "63851c99",
   "metadata": {},
   "outputs": [],
   "source": [
    "## Base Cadastro\n",
    "df_cad=spark.read.csv(\"C:/Users/fernando.monteiro/OneDrive - BHS/KAB/Base Behavior/Base cartões/Base_clientes_09.06.25.csv\",header=True,inferSchema=True, sep=\";\")\n"
   ]
  },
  {
   "cell_type": "code",
   "execution_count": 42,
   "id": "9237b691",
   "metadata": {},
   "outputs": [],
   "source": [
    "# Função para trocar , por . em colunas numéricas\n",
    "def formatar_col_num(df, colunas):\n",
    "    for nome_coluna in colunas:\n",
    "        df = df.withColumn(\n",
    "            nome_coluna,\n",
    "            regexp_replace(col(nome_coluna), r\"\\.\", \"\")  \n",
    "        )\n",
    "        df = df.withColumn(\n",
    "            nome_coluna,\n",
    "            regexp_replace(col(nome_coluna), \",\", \".\").cast(DoubleType())\n",
    "        )\n",
    "    return df\n",
    "\n",
    "# colunas numéricas\n",
    "col_numerica=[\n",
    "        \"IDADE\",\n",
    "        \"RENDA_DIGITADA\",\n",
    "        \"RENDA_VALIDA\",\n",
    "        \"TEMPO_RELACIONAMENTO_KREDILIG\",\n",
    "        #\"TEMPO_INATIVIDADE_KREDILIG\",\n",
    "        \"TEMPO_INATIVIDADE_CONTA_CARTAO\",\n",
    "        \"TEMPO_INATIVIDADE_CONTA_CARNE\",\n",
    "        \"SCORE\",\n",
    "        \"LIMITE_TOTAL\",\n",
    "        \"LIMITE_A_VISTA\",\n",
    "        \"LIMITE_SAQUE\",\n",
    "        \"LIMITE_MENSAL\",\n",
    "        \"LIMITE_TOTAL_UTILIZADO\",\n",
    "        \"LIMITE_A_VISTA_UTILIZADO\",\n",
    "        \"LIMITE_SAQUE_UTILIZADO\",\n",
    "        \"LIMITE_MENSAL_UTILIZADO\",\n",
    "        \"LIMITE_TOTAL_DISPONIVEL\",\n",
    "        \"LIMITE_A_VISTA_DISPONIVEL\",\n",
    "        \"LIMITE_SAQUE_DISPONIVEL\",\n",
    "        \"LIMITE_MENSAL_DISPONIVEL\"]\n",
    "df_cad = formatar_col_num(df_cad, col_numerica)"
   ]
  },
  {
   "cell_type": "code",
   "execution_count": null,
   "id": "067e4aa6",
   "metadata": {},
   "outputs": [],
   "source": [
    "# % de nulos por linha \n",
    "df_cad=df_cad.withColumn(\"%_nulos\",\n",
    "                             round(reduce(lambda a,b: a+b,\n",
    "                                      [when(col(c).isNull(),1).otherwise(0) for c in df_cad.columns])\n",
    "                                      / lit(len(df_cad.columns))*100,4)\n",
    "                             )"
   ]
  },
  {
   "cell_type": "code",
   "execution_count": 44,
   "id": "ef6818e8",
   "metadata": {},
   "outputs": [],
   "source": [
    "# Excluindo linhas erradas e linhas com mais de 50% de nulos\n",
    "df_cad = df_cad.filter(\n",
    "    ~(\n",
    "        #(col(\"SEXO\") == \"PF\") |\n",
    "        #(col(\"DATA_MOVIMENTO\") == \"SC\") |\n",
    "        #(col(\"BLACKLIST\") == \"Bloqueada\") |\n",
    "        (col(\"%_nulos\")>50) \n",
    "    )\n",
    ").drop(\"NOME\",\"TIPO_PESSOA\",\"PROFISSAO\",\"CARGO\",\"REGIONAL\",\"%_nulos\")"
   ]
  },
  {
   "cell_type": "code",
   "execution_count": 45,
   "id": "6f293b10",
   "metadata": {},
   "outputs": [],
   "source": [
    "# Nacionalidade\n",
    "df_cad = (\n",
    "    df_cad.withColumn(\n",
    "        \"NACIONALIDADE\",\n",
    "        when(\n",
    "            (trim(col(\"NACIONALIDADE\")) != \"BRASILEIRO\") & (trim(col(\"NACIONALIDADE\")) != \"\"),\n",
    "            \"ESTRANGEIRO\"\n",
    "        ).otherwise(trim(col(\"NACIONALIDADE\")))\n",
    "    )\n",
    "    .withColumn(\n",
    "        \"NACIONALIDADE\",\n",
    "        when(\n",
    "            trim(col(\"UF_Nascimento\")) == \"XX\",\n",
    "            \"ESTRANGEIRO\"\n",
    "        ).when(\n",
    "            (trim(col(\"UF_Nascimento\")) != \"\") & (trim(col(\"UF_Nascimento\")) != \"XX\"),\n",
    "            \"BRASILEIRO\"\n",
    "        ).otherwise(trim(col(\"NACIONALIDADE\")))\n",
    "    )\n",
    ")"
   ]
  },
  {
   "cell_type": "code",
   "execution_count": 46,
   "id": "5cb9fbad",
   "metadata": {},
   "outputs": [
    {
     "name": "stdout",
     "output_type": "stream",
     "text": [
      "+-------------+------+\n",
      "|NACIONALIDADE|count |\n",
      "+-------------+------+\n",
      "|NULL         |28    |\n",
      "|BRASILEIRO   |537794|\n",
      "|ESTRANGEIRO  |3950  |\n",
      "+-------------+------+\n",
      "\n"
     ]
    }
   ],
   "source": [
    "df_cad.groupBy(\"NACIONALIDADE\").count().orderBy(\"NACIONALIDADE\").show(300,truncate=False)"
   ]
  },
  {
   "cell_type": "code",
   "execution_count": 49,
   "id": "1ed495c7",
   "metadata": {},
   "outputs": [
    {
     "name": "stdout",
     "output_type": "stream",
     "text": [
      "+-------------------+--------------+-----------+----+-----+-------------+------------------------------+-------------------------------------------------+--------------+------------+-------------+-------------+--------------------+-------------+------------------+------+-----------------------------+------------------------------+-----------------------------+---------+-------------------+--------------+---------------------+------------+--------------+-----+------------+------------+--------------+------------+-------------+----------------------+------------------------+----------------------+-----------------------+-----------------------+-------------------------+-----------------------+------------------------+----------------------------+-----------------------+--------------------+---------------+------------------+\n",
      "|ANO_MES_MOVIMENTO  |DATA_MOVIMENTO|CPF_CNPJ   |SEXO|IDADE|ESTADO_CIVIL |GRAU_ESCOLARIDADE             |NATUREZA_OCUPACAO                                |RENDA_DIGITADA|RENDA_VALIDA|NACIONALIDADE|UF_NASCIMENTO|CIDADE_NASCIMENTO   |UF_RESIDENCIA|CIDADE_RESIDENCIA |FILIAL|TEMPO_RELACIONAMENTO_KREDILIG|TEMPO_INATIVIDADE_CONTA_CARTAO|TEMPO_INATIVIDADE_CONTA_CARNE|BLACKLIST|DATA_ABERTURA_CONTA|SITUACAO_CONTA|MOTIVO_SITUACAO_CONTA|CANAL_ORIGEM|NIVEL_DE_RISCO|SCORE|ORIGEM_SCORE|LIMITE_TOTAL|LIMITE_A_VISTA|LIMITE_SAQUE|LIMITE_MENSAL|LIMITE_TOTAL_UTILIZADO|LIMITE_A_VISTA_UTILIZADO|LIMITE_SAQUE_UTILIZADO|LIMITE_MENSAL_UTILIZADO|LIMITE_TOTAL_DISPONIVEL|LIMITE_A_VISTA_DISPONIVEL|LIMITE_SAQUE_DISPONIVEL|LIMITE_MENSAL_DISPONIVEL|DATA_ULTIMA_ALTERACAO_LIMITE|ORIGEM_ALTERACAO_LIMITE|HISTORICO_ALTERACAO |SITUACAO_FATURA|HISTORICO_COBRANCA|\n",
      "+-------------------+--------------+-----------+----+-----+-------------+------------------------------+-------------------------------------------------+--------------+------------+-------------+-------------+--------------------+-------------+------------------+------+-----------------------------+------------------------------+-----------------------------+---------+-------------------+--------------+---------------------+------------+--------------+-----+------------+------------+--------------+------------+-------------+----------------------+------------------------+----------------------+-----------------------+-----------------------+-------------------------+-----------------------+------------------------+----------------------------+-----------------------+--------------------+---------------+------------------+\n",
      "|2025-06-01 00:00:00|09/06/2025    |70359581269|M   |47.0 |SOLTEIRO     |ENSINO MEDIO 2� GRAU COM      |EMPREGADO SETOR PRIVADO,EXCETO INSTITUICAO FINANC|1325.85       |0.0         |ESTRANGEIRO  |XX           |REPUBLICA DO HAITI  |SC           |BLUMENAU          |77    |1032.0                       |41.0                          |41.0                         |NAO      |12/08/2022         |Bloqueada     |ATRASO B             |Fisico      |A12           |407.0|BEHAVIOR    |0.0         |0.0           |0.0         |0.0          |0.0                   |0.0                     |0.0                   |0.0                    |0.0                    |0.0                      |0.0                    |0.0                     |29/04/2025                  |Alteracao              |ATUALIZACAO DE SALDO|L              |NULL              |\n",
      "|2025-06-01 00:00:00|09/06/2025    |70131803190|F   |56.0 |SOLTEIRO     |ENSINO MEDIO 2� GRAU COM      |AUTONOMO SEM VINCULO EMPREGO                     |5800.0        |0.0         |ESTRANGEIRO  |XX           |MARROCOS            |SC           |FLORIANOPOLIS     |10    |1059.0                       |16.0                          |16.0                         |NAO      |16/07/2022         |Ativa         |NULL                 |Fisico      |A2            |904.0|BEHAVIOR    |2750.0      |495.0         |0.0         |330.0        |267.32                |133.66                  |0.0                   |44.55                  |2482.68                |361.34                   |0.0                    |285.45                  |24/05/2025                  |Alteracao              |ATUALIZACAO DE SALDO|L              |NULL              |\n",
      "|2025-06-01 00:00:00|09/06/2025    |24434489836|M   |32.0 |SOLTEIRO     |ENSINO MEDIO 2� GRAU COM      |EMPREGADO SETOR PRIVADO,EXCETO INSTITUICAO FINANC|2336.0        |233600.0    |ESTRANGEIRO  |XX           |MARROCOS            |SC           |BRACO DO NORTE    |181   |538.0                        |31.0                          |31.0                         |NAO      |19/12/2023         |Ativa         |NULL                 |Fisico      |A2            |934.0|BEHAVIOR    |1440.0      |259.2         |0.0         |144.0        |1410.0                |282.0                   |0.0                   |117.5                  |30.0                   |-22.8                    |0.0                    |26.5                    |09/05/2025                  |Alteracao              |ATUALIZACAO DE SALDO|NULL           |NULL              |\n",
      "|2025-06-01 00:00:00|09/06/2025    |80014189950|F   |41.0 |UNIAO ESTAVEL|ENSINO MEDIO 2� GRAU INC      |EMPREGADO SETOR PRIVADO,EXCETO INSTITUICAO FINANC|2253.0        |225300.0    |ESTRANGEIRO  |XX           |REPUBLICA DO HAITI  |SC           |BLUMENAU          |130   |584.0                        |6.0                           |6.0                          |NAO      |03/11/2023         |Ativa         |NULL                 |Fisico      |A5            |978.0|Interno     |3974.0      |715.0         |1391.0      |221.0        |1763.92               |220.49                  |0.0                   |146.99                 |2210.08                |494.51                   |1391.0                 |74.01                   |03/06/2025                  |Alteracao              |ATUALIZACAO DE SALDO|NULL           |NULL              |\n",
      "|2025-06-01 00:00:00|09/06/2025    |70308484207|M   |31.0 |SOLTEIRO     |ENSINO MEDIO 2� GRAU COM      |EMPREGADO SETOR PRIVADO,EXCETO INSTITUICAO FINANC|1725.99       |0.0         |ESTRANGEIRO  |XX           |REPUBLICA DO HAITI  |SC           |CRICIUMA          |60    |1610.0                       |61.0                          |1224.0                       |NAO      |11/01/2021         |Bloqueada     |ATRASO B             |Fisico      |N13           |504.0|EXTERNO, SPC|0.0         |0.0           |0.0         |0.0          |0.0                   |0.0                     |0.0                   |0.0                    |0.0                    |0.0                      |0.0                    |0.0                     |02/10/2023                  |Alteracao              |REDUCAO DE LIMITES  |L              |NULL              |\n",
      "|2025-06-01 00:00:00|09/06/2025    |80068461976|M   |43.0 |SOLTEIRO     |NULL                          |EMPREGADO SETOR PRIVADO,EXCETO INSTITUICAO FINANC|3424.0        |0.0         |ESTRANGEIRO  |XX           |REPUBLICA DO HAITI  |SC           |CRICIUMA          |26    |1199.0                       |371.0                         |718.0                        |NAO      |26/02/2022         |Bloqueada     |ATRASO B             |Fisico      |N12           |555.0|EXTERNO, SPC|0.0         |0.0           |0.0         |0.0          |0.0                   |0.0                     |0.0                   |0.0                    |0.0                    |0.0                      |0.0                    |0.0                     |22/11/2024                  |Alteracao              |REDUCAO DE LIMITES  |A              |NULL              |\n",
      "|2025-06-01 00:00:00|09/06/2025    |1317233913 |M   |38.0 |CASADO       |ENSINO MEDIO 2� GRAU COM      |EMPREGADO SETOR PRIVADO,EXCETO INSTITUICAO FINANC|1459.69       |0.0         |ESTRANGEIRO  |XX           |REPUBLICA DE GANA   |SC           |CRICIUMA          |60    |2534.0                       |252.0                         |1822.0                       |NAO      |02/07/2018         |Bloqueada     |ATRASO B             |Fisico      |N11           |600.0|EXTERNO, SPC|0.0         |0.0           |0.0         |0.0          |0.0                   |0.0                     |0.0                   |0.0                    |0.0                    |0.0                      |0.0                    |0.0                     |12/07/2022                  |Alteracao              |ATUALIZACAO DE SALDO|A              |NULL              |\n",
      "|2025-06-01 00:00:00|09/06/2025    |28914880168|M   |75.0 |CASADO       |ENSINO MEDIO 2� GRAU COM      |AUTONOMO SEM VINCULO EMPREGO                     |8000.0        |0.0         |ESTRANGEIRO  |XX           |NULL                |SC           |FLORIANOPOLIS     |127   |3131.0                       |21.0                          |455.0                        |NAO      |12/11/2016         |Ativa         |PAGTO                |Fisico      |A1            |987.0|BEHAVIOR    |38400.0     |6912.0        |15360.0     |1920.0       |755.97                |524.37                  |0.0                   |251.99                 |37644.03               |6387.63                  |15360.0                |1668.01                 |21/11/2024                  |Alteracao              |REDUCAO DE LIMITES  |A              |NULL              |\n",
      "|2025-06-01 00:00:00|09/06/2025    |1993755268 |F   |30.0 |SOLTEIRO     |ENSINO MEDIO 2� GRAU COM      |EMPREGADO SETOR PRIVADO,EXCETO INSTITUICAO FINANC|2100.0        |0.0         |ESTRANGEIRO  |XX           |VENEZUELA           |SC           |SAO JOSE          |100   |146.0                        |0.0                           |7.0                          |NAO      |14/01/2025         |Ativa         |NULL                 |Fisico      |N11           |633.0|EXTERNO, SPC|0.0         |0.0           |0.0         |0.0          |0.0                   |0.0                     |0.0                   |0.0                    |0.0                    |0.0                      |0.0                    |0.0                     |02/06/2025                  |Alteracao              |ATUALIZACAO DE SALDO|NULL           |NULL              |\n",
      "|2025-06-01 00:00:00|09/06/2025    |71100330151|F   |39.0 |SOLTEIRO     |ENSINO MEDIO 2� GRAU COM      |EMPREGADO SETOR PRIVADO,EXCETO INSTITUICAO FINANC|2531.15       |0.0         |ESTRANGEIRO  |XX           |VENEZUELA           |SC           |BARRA VELHA       |79    |707.0                        |56.0                          |707.0                        |NAO      |03/07/2023         |Bloqueada     |ATRASO               |Fisico      |A4            |849.0|BEHAVIOR    |2000.0      |360.0         |0.0         |200.0        |3224.0                |261.38                  |0.0                   |179.11                 |-1224.0                |98.62                    |0.0                    |20.89                   |22/11/2024                  |Alteracao              |REDUCAO DE LIMITES  |A              |NULL              |\n",
      "|2025-06-01 00:00:00|09/06/2025    |80120788993|F   |27.0 |SOLTEIRO     |NULL                          |EMPREGADO SETOR PRIVADO,EXCETO INSTITUICAO FINANC|2200.0        |159700.0    |ESTRANGEIRO  |XX           |ARGENTINA           |SC           |FLORIANOPOLIS     |10    |228.0                        |19.0                          |19.0                         |NAO      |24/10/2024         |Ativa         |NULL                 |Fisico      |N8            |747.0|EXTERNO, SPC|0.0         |0.0           |0.0         |0.0          |0.0                   |0.0                     |0.0                   |0.0                    |0.0                    |0.0                      |0.0                    |0.0                     |21/05/2025                  |Alteracao              |ATUALIZACAO DE SALDO|NULL           |NULL              |\n",
      "|2025-06-01 00:00:00|09/06/2025    |70172114217|M   |39.0 |SOLTEIRO     |ENSINO MEDIO 2� GRAU INC      |AUTONOMO SEM VINCULO EMPREGO                     |3000.0        |0.0         |ESTRANGEIRO  |XX           |REPUBLICA DOMINICANA|SC           |SAO JOSE          |152   |2424.0                       |0.0                           |0.0                          |NAO      |20/10/2018         |Ativa         |NULL                 |Fisico      |A1            |958.0|BEHAVIOR    |3000.0      |540.0         |0.0         |300.0        |6829.0                |871.0                   |0.0                   |374.0                  |-3829.0                |-331.0                   |0.0                    |-74.0                   |09/06/2025                  |Alteracao              |ATUALIZACAO DE SALDO|L              |NULL              |\n",
      "|2025-06-01 00:00:00|09/06/2025    |71063797276|M   |23.0 |CASADO       |ENSINO MEDIO 2� GRAU COM      |EMPREGADO SETOR PRIVADO,EXCETO INSTITUICAO FINANC|2500.0        |148400.0    |ESTRANGEIRO  |XX           |VENEZUELA           |SC           |JOINVILLE         |70    |214.0                        |2.0                           |2.0                          |NAO      |07/11/2024         |Ativa         |NULL                 |Fisico      |N7            |761.0|EXTERNO, SPC|0.0         |0.0           |0.0         |0.0          |0.0                   |0.0                     |0.0                   |0.0                    |0.0                    |0.0                      |0.0                    |0.0                     |07/06/2025                  |Alteracao              |ATUALIZACAO DE SALDO|NULL           |NULL              |\n",
      "|2025-06-01 00:00:00|09/06/2025    |71086546288|M   |28.0 |SOLTEIRO     |ENSINO MEDIO 2� GRAU COM      |EMPREGADO SETOR PRIVADO,EXCETO INSTITUICAO FINANC|2735.69       |153000.0    |ESTRANGEIRO  |XX           |VENEZUELA           |SC           |VIDEIRA           |172   |182.0                        |182.0                         |182.0                        |NAO      |09/12/2024         |Ativa         |NULL                 |Fisico      |N8            |738.0|EXTERNO, SPC|2208.0      |397.0         |0.0         |184.0        |0.0                   |0.0                     |0.0                   |0.0                    |2208.0                 |397.0                    |0.0                    |184.0                   |NULL                        |NULL                   |NULL                |NULL           |NULL              |\n",
      "|2025-06-01 00:00:00|09/06/2025    |70391642219|M   |35.0 |SOLTEIRO     |ENSINO MEDIO 2� GRAU COM      |AUTONOMO SEM VINCULO EMPREGO                     |10000.0       |198300.0    |ESTRANGEIRO  |XX           |VENEZUELA           |SC           |BIGUACU           |100   |917.0                        |25.0                          |33.0                         |NAO      |05/12/2022         |Ativa         |NULL                 |Fisico      |N7            |785.0|Externo, SPC|4455.0      |802.0         |0.0         |297.0        |1204.0                |272.0                   |0.0                   |55.89                  |3251.0                 |530.0                    |0.0                    |241.11                  |07/05/2025                  |Alteracao              |ATUALIZACAO DE SALDO|A              |NULL              |\n",
      "|2025-06-01 00:00:00|09/06/2025    |70682636231|M   |19.0 |SOLTEIRO     |ENSINO MEDIO 2� GRAU COM      |AUTONOMO SEM VINCULO EMPREGO                     |3200.0        |1983.0      |ESTRANGEIRO  |XX           |VENEZUELA           |SC           |BARRA VELHA       |79    |265.0                        |0.0                           |170.0                        |NAO      |17/09/2024         |Ativa         |NULL                 |Fisico      |N9            |704.0|EXTERNO, SPC|0.0         |0.0           |0.0         |0.0          |0.0                   |0.0                     |0.0                   |0.0                    |0.0                    |0.0                      |0.0                    |0.0                     |21/12/2024                  |Alteracao              |ATUALIZACAO DE SALDO|NULL           |NULL              |\n",
      "|2025-06-01 00:00:00|09/06/2025    |2086263287 |F   |40.0 |SOLTEIRO     |ENSINO MEDIO 2� GRAU COM      |EMPREGADO SETOR PRIVADO,EXCETO INSTITUICAO FINANC|2800.0        |148400.0    |ESTRANGEIRO  |XX           |CUBA                |SC           |SAO JOSE          |152   |201.0                        |17.0                          |17.0                         |NAO      |20/11/2024         |Ativa         |NULL                 |Fisico      |N9            |704.0|EXTERNO, SPC|0.0         |0.0           |0.0         |0.0          |0.0                   |0.0                     |0.0                   |0.0                    |0.0                    |0.0                      |0.0                    |0.0                     |23/05/2025                  |Alteracao              |ATUALIZACAO DE SALDO|NULL           |NULL              |\n",
      "|2025-06-01 00:00:00|09/06/2025    |71121531156|F   |31.0 |SOLTEIRO     |ENSINO MEDIO 2� GRAU COM      |EMPREGADO SETOR PRIVADO,EXCETO INSTITUICAO FINANC|2000.0        |162300.0    |ESTRANGEIRO  |XX           |REPUBLICA DO HAITI  |SC           |SAO BENTO DO SUL  |91    |214.0                        |31.0                          |31.0                         |NAO      |07/11/2024         |Ativa         |NULL                 |Fisico      |N2            |932.0|EXTERNO, SPC|2000.0      |360.0         |0.0         |167.0        |5022.0                |279.0                   |0.0                   |209.25                 |-3022.0                |81.0                     |0.0                    |-42.25                  |09/05/2025                  |Alteracao              |ATUALIZACAO DE SALDO|NULL           |NULL              |\n",
      "|2025-06-01 00:00:00|09/06/2025    |71346370184|F   |42.0 |CASADO       |ENSINO MEDIO 2� GRAU COM      |EMPREGADO SETOR PRIVADO,EXCETO INSTITUICAO FINANC|2700.0        |145800.0    |ESTRANGEIRO  |XX           |VENEZUELA           |SC           |JOINVILLE         |62    |27.0                         |0.0                           |27.0                         |NAO      |13/05/2025         |Ativa         |NULL                 |Fisico      |N2            |939.0|EXTERNO, SPC|3456.0      |192.0         |0.0         |192.0        |3456.0                |192.0                   |0.0                   |192.0                  |0.0                    |0.0                      |0.0                    |0.0                     |13/05/2025                  |Alteracao              |ATUALIZACAO DE SALDO|NULL           |NULL              |\n",
      "|2025-06-01 00:00:00|09/06/2025    |70987260286|M   |39.0 |CASADO       |SUPERIOR COMPLETO             |EMPREGADO SETOR PRIVADO,EXCETO INSTITUICAO FINANC|1599.0        |159900.0    |ESTRANGEIRO  |XX           |VENEZUELA           |SC           |VIDEIRA           |172   |487.0                        |14.0                          |18.0                         |NAO      |08/02/2024         |Ativa         |NULL                 |Fisico      |A5            |975.0|Interno     |9600.0      |1728.0        |3840.0      |400.0        |5204.16               |691.62                  |600.0                 |377.79                 |4395.84                |1036.38                  |3240.0                 |22.21                   |22/05/2025                  |Alteracao              |ATUALIZACAO DE SALDO|NULL           |NULL              |\n",
      "|2025-06-01 00:00:00|09/06/2025    |70738791229|M   |25.0 |SOLTEIRO     |ENSINO MEDIO 2� GRAU INC      |EMPREGADO SETOR PRIVADO,EXCETO INSTITUICAO FINANC|2500.0        |0.0         |ESTRANGEIRO  |XX           |VENEZUELA           |SC           |PAULO LOPES       |155   |111.0                        |0.0                           |0.0                          |NAO      |18/02/2025         |Ativa         |NULL                 |Fisico      |N7            |770.0|EXTERNO, SPC|2000.0      |167.0         |0.0         |167.0        |1296.0                |162.0                   |0.0                   |108.0                  |704.0                  |5.0                      |0.0                    |59.0                    |09/06/2025                  |Alteracao              |ATUALIZACAO DE SALDO|NULL           |NULL              |\n",
      "|2025-06-01 00:00:00|09/06/2025    |11194015263|F   |32.0 |CASADO       |SUPERIOR INCOMPLETO           |EMPREGADO SETOR PRIVADO,EXCETO INSTITUICAO FINANC|2400.0        |0.0         |ESTRANGEIRO  |XX           |CUBA                |SC           |FLORIANOPOLIS     |10    |156.0                        |0.0                           |2.0                          |NAO      |04/01/2025         |Ativa         |NULL                 |Fisico      |N12           |572.0|EXTERNO, SPC|0.0         |0.0           |0.0         |0.0          |0.0                   |0.0                     |0.0                   |0.0                    |0.0                    |0.0                      |0.0                    |0.0                     |07/06/2025                  |Alteracao              |ATUALIZACAO DE SALDO|NULL           |NULL              |\n",
      "|2025-06-01 00:00:00|09/06/2025    |8284289997 |M   |35.0 |SOLTEIRO     |ENSINO FUNDAMENTAL 1� GRAU INC|EMPREGADO SETOR PRIVADO,EXCETO INSTITUICAO FINANC|2250.3        |0.0         |ESTRANGEIRO  |XX           |PARAGUAI            |SC           |JOINVILLE         |56    |1525.0                       |649.0                         |649.0                        |NAO      |06/04/2021         |Bloqueada     |ATRASO B             |Fisico      |N14           |399.0|EXTERNO, SPC|0.0         |0.0           |0.0         |0.0          |0.0                   |0.0                     |0.0                   |0.0                    |0.0                    |0.0                      |0.0                    |0.0                     |06/10/2023                  |Alteracao              |REDUCAO DE LIMITES  |A              |NULL              |\n",
      "|2025-06-01 00:00:00|09/06/2025    |1171099916 |F   |51.0 |SOLTEIRO     |ENSINO MEDIO 2� GRAU COM      |PENSIONISTA DA PREVIDENCIA SOCIAL (INSS)         |2114.0        |124500.0    |ESTRANGEIRO  |XX           |PARAGUAI            |SC           |JOINVILLE         |134   |268.0                        |33.0                          |33.0                         |NAO      |14/09/2024         |Ativa         |NULL                 |Fisico      |N2            |945.0|EXTERNO, SPC|3674.0      |661.0         |1286.0      |204.0        |4464.0                |558.0                   |0.0                   |279.0                  |-790.0                 |103.0                    |1286.0                 |-75.0                   |07/05/2025                  |Alteracao              |ATUALIZACAO DE SALDO|NULL           |NULL              |\n",
      "|2025-06-01 00:00:00|09/06/2025    |70934586292|M   |53.0 |CASADO       |ENSINO MEDIO 2� GRAU COM      |EMPREGADO SETOR PRIVADO,EXCETO INSTITUICAO FINANC|5500.0        |254100.0    |ESTRANGEIRO  |XX           |VENEZUELA           |SC           |BALNEARIO CAMBORIU|157   |217.0                        |30.0                          |217.0                        |NAO      |04/11/2024         |Ativa         |NULL                 |Fisico      |N7            |773.0|EXTERNO, SPC|0.0         |0.0           |0.0         |0.0          |0.0                   |0.0                     |0.0                   |0.0                    |0.0                    |0.0                      |0.0                    |0.0                     |22/11/2024                  |Alteracao              |REDUCAO DE LIMITES  |A              |NULL              |\n",
      "|2025-06-01 00:00:00|09/06/2025    |1369566964 |M   |27.0 |SOLTEIRO     |ENSINO MEDIO 2� GRAU COM      |AUTONOMO SEM VINCULO EMPREGO                     |3500.0        |0.0         |ESTRANGEIRO  |XX           |PARAGUAI            |SC           |FLORIANOPOLIS     |109   |1353.0                       |343.0                         |1353.0                       |NAO      |25/09/2021         |Cancelada     |INATIVIDADE          |Fisico      |N12           |564.0|EXTERNO, SPC|0.0         |0.0           |0.0         |0.0          |0.0                   |0.0                     |0.0                   |0.0                    |0.0                    |0.0                      |0.0                    |0.0                     |06/10/2023                  |Alteracao              |REDUCAO DE LIMITES  |L              |NULL              |\n",
      "|2025-06-01 00:00:00|09/06/2025    |80112591990|M   |33.0 |UNIAO ESTAVEL|ENSINO MEDIO 2� GRAU COM      |EMPREGADO SETOR PRIVADO,EXCETO INSTITUICAO FINANC|4450.0        |0.0         |ESTRANGEIRO  |XX           |CUBA                |SC           |NAVEGANTES        |95    |269.0                        |0.0                           |14.0                         |NAO      |13/09/2024         |Ativa         |NULL                 |Fisico      |N11           |620.0|EXTERNO, SPC|0.0         |0.0           |0.0         |0.0          |0.0                   |0.0                     |0.0                   |0.0                    |0.0                    |0.0                      |0.0                    |0.0                     |26/05/2025                  |Alteracao              |ATUALIZACAO DE SALDO|NULL           |NULL              |\n",
      "|2025-06-01 00:00:00|09/06/2025    |7408518967 |M   |35.0 |SOLTEIRO     |ENSINO FUNDAMENTA 1� GRAU COMP|AUTONOMO SEM VINCULO EMPREGO                     |5000.0        |0.0         |ESTRANGEIRO  |XX           |PARAGUAI            |SC           |SAO JOSE          |74    |2123.0                       |48.0                          |48.0                         |NAO      |17/08/2019         |Ativa         |NULL                 |Fisico      |A18           |913.0|Interno     |0.0         |0.0           |0.0         |0.0          |0.0                   |0.0                     |0.0                   |0.0                    |0.0                    |0.0                      |0.0                    |0.0                     |22/04/2025                  |Alteracao              |ATUALIZACAO DE SALDO|NULL           |NULL              |\n",
      "|2025-06-01 00:00:00|09/06/2025    |11144551218|F   |59.0 |SOLTEIRO     |ENSINO MEDIO 2� GRAU COM      |EMPREGADO SETOR PRIVADO,EXCETO INSTITUICAO FINANC|2089.08       |148400.0    |ESTRANGEIRO  |XX           |VENEZUELA           |SC           |RIO DO SUL        |135   |138.0                        |2.0                           |2.0                          |NAO      |22/01/2025         |Ativa         |NULL                 |Fisico      |N8            |749.0|EXTERNO, SPC|3000.0      |540.0         |0.0         |250.0        |1992.0                |249.0                   |0.0                   |166.0                  |1008.0                 |291.0                    |0.0                    |84.0                    |07/06/2025                  |Alteracao              |ATUALIZACAO DE SALDO|NULL           |NULL              |\n",
      "|2025-06-01 00:00:00|09/06/2025    |1356735932 |M   |33.0 |SOLTEIRO     |ENSINO MEDIO 2� GRAU COM      |EMPREGADO SETOR PRIVADO,EXCETO INSTITUICAO FINANC|4500.0        |161800.0    |ESTRANGEIRO  |XX           |REPUBLICA DO HAITI  |SC           |BRACO DO NORTE    |181   |212.0                        |212.0                         |212.0                        |NAO      |09/11/2024         |Ativa         |NULL                 |Fisico      |N7            |790.0|EXTERNO, SPC|0.0         |0.0           |0.0         |0.0          |0.0                   |0.0                     |0.0                   |0.0                    |0.0                    |0.0                      |0.0                    |0.0                     |22/11/2024                  |Primeiro Limite        |REDUCAO DE LIMITES  |NULL           |NULL              |\n",
      "+-------------------+--------------+-----------+----+-----+-------------+------------------------------+-------------------------------------------------+--------------+------------+-------------+-------------+--------------------+-------------+------------------+------+-----------------------------+------------------------------+-----------------------------+---------+-------------------+--------------+---------------------+------------+--------------+-----+------------+------------+--------------+------------+-------------+----------------------+------------------------+----------------------+-----------------------+-----------------------+-------------------------+-----------------------+------------------------+----------------------------+-----------------------+--------------------+---------------+------------------+\n",
      "only showing top 30 rows\n",
      "\n"
     ]
    }
   ],
   "source": [
    "nulo_res=df_cad.filter(col(\"NACIONALIDADE\")==\"ESTRANGEIRO\")\n",
    "nulo_res.show(30,truncate=False)"
   ]
  },
  {
   "cell_type": "code",
   "execution_count": 51,
   "id": "e207befe",
   "metadata": {},
   "outputs": [],
   "source": [
    "#Tipos\n",
    "tipos = {\n",
    "    \"CPF_CNPJ\": \"double\",\n",
    "    \"IDADE\": \"int\",\n",
    "    \"FILIAL\": \"string\",\n",
    "    \"TEMPO_RELACIONAMENTO_KREDILIG\": \"int\",\n",
    "    \"TEMPO_INATIVIDADE_CONTA_CARTAO\": \"int\",\n",
    "    \"TEMPO_INATIVIDADE_CONTA_CARNE\": \"int\",\n",
    "    }\n",
    "\n",
    "# conversão\n",
    "for col_nome, tipo in tipos.items():\n",
    "    df_cad = df_cad.withColumn(col_nome, col(col_nome).cast(tipo))"
   ]
  },
  {
   "cell_type": "code",
   "execution_count": 53,
   "id": "c093edbb",
   "metadata": {},
   "outputs": [],
   "source": [
    "df_cad = (\n",
    "    df_cad\n",
    "    .withColumn(\"DATA_MOVIMENTO\", to_date(\"DATA_MOVIMENTO\",\"dd/MM/yyyy\"))\n",
    "    .withColumn(\"DATA_ABERTURA_CONTA\", to_date(\"DATA_ABERTURA_CONTA\",\"dd/MM/yyyy\"))\n",
    "    .withColumn(\"DATA_ULTIMA_ALTERACAO_LIMITE\",to_date(\"DATA_ULTIMA_ALTERACAO_LIMITE\",\"dd/MM/yyyy\"))\n",
    ")"
   ]
  },
  {
   "cell_type": "code",
   "execution_count": 55,
   "id": "ac1f4298",
   "metadata": {},
   "outputs": [],
   "source": [
    "df_cad=df_cad.dropDuplicates([\"cpf_cnpj\"])"
   ]
  },
  {
   "cell_type": "code",
   "execution_count": 57,
   "id": "79ed7d5a",
   "metadata": {},
   "outputs": [
    {
     "data": {
      "text/plain": [
       "541772"
      ]
     },
     "execution_count": 57,
     "metadata": {},
     "output_type": "execute_result"
    }
   ],
   "source": [
    "df_cad.count()"
   ]
  },
  {
   "cell_type": "code",
   "execution_count": 59,
   "id": "408744e4",
   "metadata": {},
   "outputs": [
    {
     "name": "stdout",
     "output_type": "stream",
     "text": [
      "root\n",
      " |-- ANO_MES_MOVIMENTO: timestamp (nullable = true)\n",
      " |-- DATA_MOVIMENTO: date (nullable = true)\n",
      " |-- CPF_CNPJ: double (nullable = true)\n",
      " |-- SEXO: string (nullable = true)\n",
      " |-- IDADE: integer (nullable = true)\n",
      " |-- ESTADO_CIVIL: string (nullable = true)\n",
      " |-- GRAU_ESCOLARIDADE: string (nullable = true)\n",
      " |-- NATUREZA_OCUPACAO: string (nullable = true)\n",
      " |-- RENDA_DIGITADA: double (nullable = true)\n",
      " |-- RENDA_VALIDA: double (nullable = true)\n",
      " |-- NACIONALIDADE: string (nullable = true)\n",
      " |-- UF_NASCIMENTO: string (nullable = true)\n",
      " |-- CIDADE_NASCIMENTO: string (nullable = true)\n",
      " |-- UF_RESIDENCIA: string (nullable = true)\n",
      " |-- CIDADE_RESIDENCIA: string (nullable = true)\n",
      " |-- FILIAL: string (nullable = true)\n",
      " |-- TEMPO_RELACIONAMENTO_KREDILIG: integer (nullable = true)\n",
      " |-- TEMPO_INATIVIDADE_CONTA_CARTAO: integer (nullable = true)\n",
      " |-- TEMPO_INATIVIDADE_CONTA_CARNE: integer (nullable = true)\n",
      " |-- BLACKLIST: string (nullable = true)\n",
      " |-- DATA_ABERTURA_CONTA: date (nullable = true)\n",
      " |-- SITUACAO_CONTA: string (nullable = true)\n",
      " |-- MOTIVO_SITUACAO_CONTA: string (nullable = true)\n",
      " |-- CANAL_ORIGEM: string (nullable = true)\n",
      " |-- NIVEL_DE_RISCO: string (nullable = true)\n",
      " |-- SCORE: double (nullable = true)\n",
      " |-- ORIGEM_SCORE: string (nullable = true)\n",
      " |-- LIMITE_TOTAL: double (nullable = true)\n",
      " |-- LIMITE_A_VISTA: double (nullable = true)\n",
      " |-- LIMITE_SAQUE: double (nullable = true)\n",
      " |-- LIMITE_MENSAL: double (nullable = true)\n",
      " |-- LIMITE_TOTAL_UTILIZADO: double (nullable = true)\n",
      " |-- LIMITE_A_VISTA_UTILIZADO: double (nullable = true)\n",
      " |-- LIMITE_SAQUE_UTILIZADO: double (nullable = true)\n",
      " |-- LIMITE_MENSAL_UTILIZADO: double (nullable = true)\n",
      " |-- LIMITE_TOTAL_DISPONIVEL: double (nullable = true)\n",
      " |-- LIMITE_A_VISTA_DISPONIVEL: double (nullable = true)\n",
      " |-- LIMITE_SAQUE_DISPONIVEL: double (nullable = true)\n",
      " |-- LIMITE_MENSAL_DISPONIVEL: double (nullable = true)\n",
      " |-- DATA_ULTIMA_ALTERACAO_LIMITE: date (nullable = true)\n",
      " |-- ORIGEM_ALTERACAO_LIMITE: string (nullable = true)\n",
      " |-- HISTORICO_ALTERACAO: string (nullable = true)\n",
      " |-- SITUACAO_FATURA: string (nullable = true)\n",
      " |-- HISTORICO_COBRANCA: string (nullable = true)\n",
      "\n",
      "+-------------------+--------------+---------+----+-----+-------------+--------------------+--------------------+--------------+------------+-------------+-------------+--------------------+-------------+------------------+------+-----------------------------+------------------------------+-----------------------------+---------+-------------------+--------------+---------------------+------------+--------------+-----+------------+------------+--------------+------------+-------------+----------------------+------------------------+----------------------+-----------------------+-----------------------+-------------------------+-----------------------+------------------------+----------------------------+-----------------------+--------------------+---------------+------------------+\n",
      "|  ANO_MES_MOVIMENTO|DATA_MOVIMENTO| CPF_CNPJ|SEXO|IDADE| ESTADO_CIVIL|   GRAU_ESCOLARIDADE|   NATUREZA_OCUPACAO|RENDA_DIGITADA|RENDA_VALIDA|NACIONALIDADE|UF_NASCIMENTO|   CIDADE_NASCIMENTO|UF_RESIDENCIA| CIDADE_RESIDENCIA|FILIAL|TEMPO_RELACIONAMENTO_KREDILIG|TEMPO_INATIVIDADE_CONTA_CARTAO|TEMPO_INATIVIDADE_CONTA_CARNE|BLACKLIST|DATA_ABERTURA_CONTA|SITUACAO_CONTA|MOTIVO_SITUACAO_CONTA|CANAL_ORIGEM|NIVEL_DE_RISCO|SCORE|ORIGEM_SCORE|LIMITE_TOTAL|LIMITE_A_VISTA|LIMITE_SAQUE|LIMITE_MENSAL|LIMITE_TOTAL_UTILIZADO|LIMITE_A_VISTA_UTILIZADO|LIMITE_SAQUE_UTILIZADO|LIMITE_MENSAL_UTILIZADO|LIMITE_TOTAL_DISPONIVEL|LIMITE_A_VISTA_DISPONIVEL|LIMITE_SAQUE_DISPONIVEL|LIMITE_MENSAL_DISPONIVEL|DATA_ULTIMA_ALTERACAO_LIMITE|ORIGEM_ALTERACAO_LIMITE| HISTORICO_ALTERACAO|SITUACAO_FATURA|HISTORICO_COBRANCA|\n",
      "+-------------------+--------------+---------+----+-----+-------------+--------------------+--------------------+--------------+------------+-------------+-------------+--------------------+-------------+------------------+------+-----------------------------+------------------------------+-----------------------------+---------+-------------------+--------------+---------------------+------------+--------------+-----+------------+------------+--------------+------------+-------------+----------------------+------------------------+----------------------+-----------------------+-----------------------+-------------------------+-----------------------+------------------------+----------------------------+-----------------------+--------------------+---------------+------------------+\n",
      "|2025-06-01 00:00:00|    2025-06-09|1148044.0|   F|   43|   DIVORCIADO|ENSINO MEDIO 2� G...|EMPREGADO SETOR P...|        2500.0|         0.0|   BRASILEIRO|           RS|         ARVOREZINHA|           SC|BALNEARIO CAMBORIU|   157|                         1431|                           116|                          116|      NAO|         2021-07-09|         Ativa|                PAGTO|      Fisico|            A1|958.0|    BEHAVIOR|      6127.0|        1103.0|      2145.0|        408.0|                   0.0|                     0.0|                   0.0|                    0.0|                 6127.0|                   1103.0|                 2145.0|                   408.0|                  2025-02-13|              Alteracao|ATUALIZACAO DE SALDO|              L|              NULL|\n",
      "|2025-06-01 00:00:00|    2025-06-09|2030098.0|   F|   41|   DIVORCIADO|ENSINO MEDIO 2� G...|SERVIDOR PUBLICO ...|        6800.0|         0.0|   BRASILEIRO|           RS|PALMEIRA DAS MISSOES|           SC|           ITAPEMA|    47|                          488|                           395|                          395|      NAO|         2024-02-07|         Ativa|                 NULL|      Fisico|            A1|953.0|    BEHAVIOR|     12000.0|        2160.0|      4800.0|        900.0|                   0.0|                     0.0|                   0.0|                    0.0|                12000.0|                   2160.0|                 4800.0|                   900.0|                  2024-11-19|              Alteracao|  REDUCAO DE LIMITES|           NULL|              NULL|\n",
      "|2025-06-01 00:00:00|    2025-06-09|3130096.0|   F|   43|       CASADO|ENSINO MEDIO 2� G...|SERVIDOR PUBLICO ...|       1457.52|         0.0|   BRASILEIRO|           RS|              TORRES|           SC|          CRICIUMA|   118|                         1545|                           102|                          102|      NAO|         2021-03-17|     Cancelada|          INATIVIDADE|      Fisico|            A3|987.0|     INTERNO|         0.0|           0.0|         0.0|          0.0|                   0.0|                     0.0|                   0.0|                    0.0|                    0.0|                      0.0|                    0.0|                     0.0|                  2025-02-27|              Alteracao|ATUALIZACAO DE SALDO|           NULL|              NULL|\n",
      "|2025-06-01 00:00:00|    2025-06-09|3634990.0|   M|   46|UNIAO ESTAVEL|ENSINO MEDIO 2� G...|EMPREGADO SETOR P...|       1891.35|         0.0|   BRASILEIRO|           SC|             CACADOR|           SC|           PALHOCA|    74|                         3083|                          1686|                         1855|      NAO|         2016-12-30|     Cancelada|          INATIVIDADE|      Fisico|           A20|783.0|     INTERNO|         0.0|           0.0|         0.0|          0.0|                   0.0|                     0.0|                   0.0|                    0.0|                    0.0|                      0.0|                    0.0|                     0.0|                  2022-06-22|              Alteracao|ATUALIZACAO DE SALDO|              L|              NULL|\n",
      "|2025-06-01 00:00:00|    2025-06-09|3747921.0|   F|   55|       CASADO|ENSINO MEDIO 2� G...|PENSIONISTA DA PR...|       2039.66|         0.0|   BRASILEIRO|           SC|       FLORIANOPOLIS|           SC|     FLORIANOPOLIS|    69|                         2280|                           685|                          685|      NAO|         2019-03-13|     Cancelada|          INATIVIDADE|      Fisico|            N3|898.0|EXTERNO, SPC|         0.0|           0.0|         0.0|          0.0|                   0.0|                     0.0|                   0.0|                    0.0|                    0.0|                      0.0|                    0.0|                     0.0|                  2023-07-25|              Alteracao|ATUALIZACAO DE SALDO|           NULL|              NULL|\n",
      "|2025-06-01 00:00:00|    2025-06-09|3806952.0|   F|   47|UNIAO ESTAVEL|ENSINO MEDIO 2� G...|AUTONOMO SEM VINC...|        2100.0|         0.0|   BRASILEIRO|           SC|           CANOINHAS|           SC|     FLORIANOPOLIS|    18|                         2359|                            10|                           10|      NAO|         2018-12-24|         Ativa|                PAGTO|      Fisico|            A3|855.0|    BEHAVIOR|      9100.0|        1638.0|      3185.0|        704.0|               6424.13|                  937.49|                1825.0|                 384.46|                2675.87|                   700.51|                 1360.0|                  319.54|                  2025-05-30|              Alteracao|ATUALIZACAO DE SALDO|              A|              NULL|\n",
      "|2025-06-01 00:00:00|    2025-06-09|3833097.0|   F|   41|UNIAO ESTAVEL|ENSINO MEDIO 2� G...|EMPREGADO SETOR P...|        1800.0|         0.0|   BRASILEIRO|           RS|        PORTO ALEGRE|           SC|        PORTO BELO|    76|                          538|                            46|                           46|      NAO|         2023-12-19|         Ativa|                 NULL|      Fisico|            A4|840.0|    BEHAVIOR|      2244.0|         404.0|       785.0|        142.0|                   0.0|                     0.0|                   0.0|                    0.0|                 2244.0|                    404.0|                  785.0|                   142.0|                  2025-04-24|              Alteracao|ATUALIZACAO DE SALDO|           NULL|              NULL|\n",
      "|2025-06-01 00:00:00|    2025-06-09|3855902.0|   F|   60|       CASADO|ENSINO FUNDAMENTA...|AUTONOMO SEM VINC...|        4230.0|         0.0|   BRASILEIRO|           SC|              IMARUI|           SC|           PALHOCA|    12|                         3227|                          2926|                         2926|      NAO|         2016-08-08|     Cancelada|          INATIVIDADE|      Fisico|            A6|974.0|     INTERNO|         0.0|           0.0|         0.0|          0.0|                   0.0|                     0.0|                   0.0|                    0.0|                    0.0|                      0.0|                    0.0|                     0.0|                  2020-04-01|              Alteracao|  REDUCAO DE LIMITES|              L|              NULL|\n",
      "|2025-06-01 00:00:00|    2025-06-09|4020952.0|   M|   59|     SOLTEIRO|ENSINO MEDIO 2� G...|AUTONOMO SEM VINC...|        2300.0|         0.0|   BRASILEIRO|           SC|         PAULO LOPES|           SC|           PALHOCA|    12|                         2928|                           649|                          649|      NAO|         2017-06-03|     Bloqueada|             ATRASO B|      Fisico|           A20|902.0|     INTERNO|         0.0|           0.0|         0.0|          0.0|                   0.0|                     0.0|                   0.0|                    0.0|                    0.0|                      0.0|                    0.0|                     0.0|                  2022-06-23|              Alteracao|ATUALIZACAO DE SALDO|              A|              NULL|\n",
      "|2025-06-01 00:00:00|    2025-06-09|4028937.0|   F|   50|     SOLTEIRO|                NULL|MICROEMPRESARIO/M...|        5000.0|         0.0|   BRASILEIRO|           SC|                NULL|           SC|     FLORIANOPOLIS|  1000|                         1155|                           255|                         1155|      NAO|         2022-04-11|     Bloqueada|             ATRASO B|     Digital|            A5|794.0|    BEHAVIOR|         0.0|           0.0|         0.0|          0.0|                   0.0|                     0.0|                   0.0|                    0.0|                    0.0|                      0.0|                    0.0|                     0.0|                  2024-10-25|               Behavior|            BEHAVIOR|              A|              NULL|\n",
      "|2025-06-01 00:00:00|    2025-06-09|4077989.0|   F|   67|UNIAO ESTAVEL|ENSINO MEDIO 2� G...|APOSENTADO EMPRES...|        1650.0|         0.0|   BRASILEIRO|           SC|         CERRO NEGRO|           SC|           PALHOCA|     9|                         2433|                           580|                          580|      NAO|         2018-10-11|         Ativa|                 NULL|      Fisico|            A2|915.0|    BEHAVIOR|      9086.0|        1635.0|      3180.0|        596.0|                   0.0|                     0.0|                   0.0|                    0.0|                 9086.0|                   1635.0|                 3180.0|                   596.0|                  2024-11-21|              Alteracao|  REDUCAO DE LIMITES|              L|              NULL|\n",
      "|2025-06-01 00:00:00|    2025-06-09|4116984.0|   M|   49|       CASADO|ENSINO MEDIO 2� G...|EMPREGADO SETOR P...|        3500.0|         0.0|   BRASILEIRO|           PR|            CURITIBA|           SC|     FLORIANOPOLIS|   109|                         1833|                          1833|                         1402|      NAO|         2020-06-02|     Cancelada|          INATIVIDADE|      Fisico|            A5|977.0|     INTERNO|         0.0|           0.0|         0.0|          0.0|                   0.0|                     0.0|                   0.0|                    0.0|                    0.0|                      0.0|                    0.0|                     0.0|                  2021-11-22|              Alteracao|ATUALIZACAO DE SALDO|           NULL|              NULL|\n",
      "|2025-06-01 00:00:00|    2025-06-09|4168941.0|   F|   65|     SOLTEIRO|ENSINO MEDIO 2� G...|APOSENTADO EMPRES...|        2690.0|         0.0|   BRASILEIRO|           SC|       FLORIANOPOLIS|           SC|     FLORIANOPOLIS|    18|                          555|                           250|                          250|      NAO|         2023-12-02|         Ativa|                 NULL|      Fisico|            A3|897.0|    BEHAVIOR|      7634.0|        1374.0|      2672.0|        590.0|                   0.0|                     0.0|                   0.0|                    0.0|                 7634.0|                   1374.0|                 2672.0|                   590.0|                  2025-01-23|              Alteracao|  REDUCAO DE LIMITES|           NULL|              NULL|\n",
      "|2025-06-01 00:00:00|    2025-06-09|4216938.0|   F|   50|       CASADO|ENSINO MEDIO 2� G...|AUTONOMO SEM VINC...|        1000.0|         0.0|   BRASILEIRO|           SC|       FLORIANOPOLIS|           SC|     FLORIANOPOLIS|    18|                          941|                            51|                           51|      NAO|         2022-11-11|         Ativa|                 NULL|      Fisico|            A3|889.0|    BEHAVIOR|      4400.0|         792.0|      1540.0|        340.0|                   0.0|                     0.0|                   0.0|                    0.0|                 4400.0|                    792.0|                 1540.0|                   340.0|                  2025-04-19|              Alteracao|ATUALIZACAO DE SALDO|           NULL|              NULL|\n",
      "|2025-06-01 00:00:00|    2025-06-09|4231902.0|   M|   51|         NULL|   SUPERIOR COMPLETO|SERVIDOR PUBLICO ...|        4000.0|         0.0|   BRASILEIRO|           SC|       FLORIANOPOLIS|           SC|          SAO JOSE|   100|                         1722|                          1722|                         1722|      NAO|         2020-09-21|     Cancelada|          INATIVIDADE|      Fisico|            N9|698.0|EXTERNO, SPC|         0.0|           0.0|         0.0|          0.0|                   0.0|                     0.0|                   0.0|                    0.0|                    0.0|                      0.0|                    0.0|                     0.0|                  2022-07-29|        Primeiro Limite|ATUALIZACAO DE SALDO|           NULL|              NULL|\n",
      "|2025-06-01 00:00:00|    2025-06-09|4336917.0|   F|   68|        VIUVO|ENSINO MEDIO 2� G...|APOSENTADO EMPRES...|        1430.0|         0.0|   BRASILEIRO|           SC|           JOINVILLE|           SC|     FLORIANOPOLIS|    69|                         1735|                             5|                         1502|      NAO|         2020-09-08|         Ativa|                PAGTO|      Fisico|            A1|984.0|    BEHAVIOR|      6127.0|        1103.0|      2145.0|        490.0|                234.01|                  104.81|                 99.29|                   9.42|                5892.99|                   998.19|                2045.71|                  480.58|                  2025-01-23|              Alteracao|  REDUCAO DE LIMITES|              L|              NULL|\n",
      "|2025-06-01 00:00:00|    2025-06-09|4338960.0|   F|   53|       CASADO|ENSINO MEDIO 2� G...|EMPREGADO SETOR P...|       1364.65|         0.0|   BRASILEIRO|           SC|       FLORIANOPOLIS|           SC|     FLORIANOPOLIS|     4|                         2583|                            29|                         2456|      NAO|         2018-05-14|     Cancelada|          INATIVIDADE|      Fisico|            A8|963.0|     INTERNO|         0.0|           0.0|         0.0|          0.0|                   0.0|                     0.0|                   0.0|                    0.0|                    0.0|                      0.0|                    0.0|                     0.0|                  2023-03-10|              Alteracao|ATUALIZACAO DE SALDO|              A|              NULL|\n",
      "|2025-06-01 00:00:00|    2025-06-09|4474988.0|   F|   51|       CASADO|ENSINO MEDIO 2� G...|AUTONOMO SEM VINC...|        1200.0|         0.0|   BRASILEIRO|           SC|       FLORIANOPOLIS|           SC|          SAO JOSE|   151|                         3436|                           181|                         1332|      NAO|         2016-01-12|         Ativa|                PAGTO|      Fisico|            A1|968.0|    BEHAVIOR|      9522.0|        1714.0|      3333.0|        635.0|                   0.0|                     0.0|                   0.0|                    0.0|                 9522.0|                   1714.0|                 3333.0|                   635.0|                  2024-11-21|              Alteracao|  REDUCAO DE LIMITES|              L|              NULL|\n",
      "|2025-06-01 00:00:00|    2025-06-09|4506936.0|   F|   69|        VIUVO|ENSINO MEDIO 2� G...|PENSIONISTA DA PR...|        1216.0|         0.0|   BRASILEIRO|           SC|       FLORIANOPOLIS|           SC|     FLORIANOPOLIS|    82|                         2683|                          2466|                         2466|      NAO|         2018-02-03|     Cancelada|          INATIVIDADE|      Fisico|            A7|966.0|     INTERNO|         0.0|           0.0|         0.0|          0.0|                   0.0|                     0.0|                   0.0|                    0.0|                    0.0|                      0.0|                    0.0|                     0.0|                  2022-09-06|              Alteracao|ATUALIZACAO DE SALDO|              L|              NULL|\n",
      "|2025-06-01 00:00:00|    2025-06-09|4522974.0|   F|   59|       CASADO|ENSINO MEDIO 2� G...|EMPREGADO SETOR P...|        1300.0|         0.0|   BRASILEIRO|           SC|       FLORIANOPOLIS|           SC|     FLORIANOPOLIS|    18|                         2373|                          2373|                         2373|      NAO|         2018-12-10|     Cancelada|          INATIVIDADE|      Fisico|            A2|994.0|     INTERNO|         0.0|           0.0|         0.0|          0.0|                   0.0|                     0.0|                   0.0|                    0.0|                    0.0|                      0.0|                    0.0|                     0.0|                  2023-03-03|              Alteracao|ATUALIZACAO DE SALDO|           NULL|              NULL|\n",
      "+-------------------+--------------+---------+----+-----+-------------+--------------------+--------------------+--------------+------------+-------------+-------------+--------------------+-------------+------------------+------+-----------------------------+------------------------------+-----------------------------+---------+-------------------+--------------+---------------------+------------+--------------+-----+------------+------------+--------------+------------+-------------+----------------------+------------------------+----------------------+-----------------------+-----------------------+-------------------------+-----------------------+------------------------+----------------------------+-----------------------+--------------------+---------------+------------------+\n",
      "only showing top 20 rows\n",
      "\n",
      "541772\n"
     ]
    }
   ],
   "source": [
    "# info\n",
    "df_cad.printSchema()\n",
    "df_cad.show()\n",
    "print(df_cad.count())"
   ]
  },
  {
   "cell_type": "code",
   "execution_count": 64,
   "id": "5aad385a",
   "metadata": {},
   "outputs": [
    {
     "name": "stdout",
     "output_type": "stream",
     "text": [
      "\n",
      "### Frequência para: SEXO ###\n",
      "+----+------+\n",
      "|SEXO|count |\n",
      "+----+------+\n",
      "|F   |285517|\n",
      "|M   |255813|\n",
      "|    |442   |\n",
      "+----+------+\n",
      "\n",
      "\n",
      "### Frequência para: ESTADO_CIVIL ###\n",
      "+-------------+------+\n",
      "|ESTADO_CIVIL |count |\n",
      "+-------------+------+\n",
      "|CASADO       |232911|\n",
      "|SOLTEIRO     |146254|\n",
      "|UNIAO ESTAVEL|53485 |\n",
      "|DIVORCIADO   |38350 |\n",
      "|VIUVO        |36495 |\n",
      "|NULL         |34277 |\n",
      "+-------------+------+\n",
      "\n",
      "\n",
      "### Frequência para: GRAU_ESCOLARIDADE ###\n",
      "+------------------------------+------+\n",
      "|GRAU_ESCOLARIDADE             |count |\n",
      "+------------------------------+------+\n",
      "|ENSINO MEDIO 2� GRAU COM      |340940|\n",
      "|NULL                          |60000 |\n",
      "|ENSINO FUNDAMENTA 1� GRAU COMP|42831 |\n",
      "|ENSINO FUNDAMENTAL 1� GRAU INC|37503 |\n",
      "|ENSINO MEDIO 2� GRAU INC      |27026 |\n",
      "|SUPERIOR COMPLETO             |23391 |\n",
      "|SUPERIOR INCOMPLETO           |7089  |\n",
      "|CURSO TECNICO                 |1684  |\n",
      "|SEM INSTRUCAO                 |1308  |\n",
      "+------------------------------+------+\n",
      "\n",
      "\n",
      "### Frequência para: NATUREZA_OCUPACAO ###\n",
      "+-------------------------------------------------+------+\n",
      "|NATUREZA_OCUPACAO                                |count |\n",
      "+-------------------------------------------------+------+\n",
      "|EMPREGADO SETOR PRIVADO,EXCETO INSTITUICAO FINANC|206801|\n",
      "|AUTONOMO SEM VINCULO EMPREGO                     |157739|\n",
      "|APOSENTADO EMPRESA PRIVADA                       |89196 |\n",
      "|PENSIONISTA DA PREVIDENCIA SOCIAL (INSS)         |18910 |\n",
      "|SERVIDOR PUBLICO MUNICIPAL                       |16351 |\n",
      "|EMPREGADO DE INSTITUICOES FINANCEIRAS PRIVADAS   |9707  |\n",
      "|APOSENTADO EMPRESA PUBLICA                       |6977  |\n",
      "|SERVIDOR PUBLICO ESTADUAL                        |5918  |\n",
      "|BENEFICIARIO DE PENSAO                           |5568  |\n",
      "|EMPRESARIO PROPRIETARIO OU FIRMA INDIVIDUAL      |4675  |\n",
      "|APOSENTADO EMPRESA PUBLICA ESTADUAL              |3872  |\n",
      "|APOSENTADO EMPRESA PUBLICA MUNICIPAL             |2948  |\n",
      "|PROFISSIONAL LIBERAL                             |2465  |\n",
      "|MICROEMPRESARIO/MICROEMPREENDEDOR INDIVIDUAL(MEI)|2444  |\n",
      "|DO LAR                                           |1744  |\n",
      "|APOSENTADO EMPRESA PUBLICA FEDERAL               |1671  |\n",
      "|SERVIDOR PUBLICO FEDERAL                         |1338  |\n",
      "|LOCATARIO RENDA COM ALUGUEIS                     |1286  |\n",
      "|APOSENTADO MILITAR, MILITAR RESERVA OU REFORMADO |1090  |\n",
      "|NATUREZA OCUPACAO NAO ESPECIFICADA ANTERIORMENTE |510   |\n",
      "+-------------------------------------------------+------+\n",
      "only showing top 20 rows\n",
      "\n",
      "\n",
      "### Frequência para: NACIONALIDADE ###\n",
      "+-------------+------+\n",
      "|NACIONALIDADE|count |\n",
      "+-------------+------+\n",
      "|BRASILEIRO   |537794|\n",
      "|ESTRANGEIRO  |3950  |\n",
      "|NULL         |28    |\n",
      "+-------------+------+\n",
      "\n",
      "\n",
      "### Frequência para: UF_NASCIMENTO ###\n",
      "+-------------+------+\n",
      "|UF_NASCIMENTO|count |\n",
      "+-------------+------+\n",
      "|SC           |419769|\n",
      "|PR           |42997 |\n",
      "|RS           |32904 |\n",
      "|SP           |9950  |\n",
      "|PA           |5232  |\n",
      "|BA           |5072  |\n",
      "|XX           |3917  |\n",
      "|MG           |2846  |\n",
      "|PE           |2314  |\n",
      "|MA           |2309  |\n",
      "|RJ           |2102  |\n",
      "|CE           |2022  |\n",
      "|AL           |1310  |\n",
      "|MS           |1124  |\n",
      "|PB           |1008  |\n",
      "|AM           |961   |\n",
      "|SE           |889   |\n",
      "|GO           |740   |\n",
      "|MT           |717   |\n",
      "|PI           |599   |\n",
      "+-------------+------+\n",
      "only showing top 20 rows\n",
      "\n",
      "\n",
      "### Frequência para: UF_RESIDENCIA ###\n",
      "+-------------+------+\n",
      "|UF_RESIDENCIA|count |\n",
      "+-------------+------+\n",
      "|SC           |534885|\n",
      "|PR           |2429  |\n",
      "|RS           |1179  |\n",
      "|SP           |1104  |\n",
      "|BA           |723   |\n",
      "|MG           |600   |\n",
      "|GO           |435   |\n",
      "|PE           |52    |\n",
      "|CE           |50    |\n",
      "|MA           |32    |\n",
      "|MT           |31    |\n",
      "|DF           |31    |\n",
      "|PI           |29    |\n",
      "|ES           |29    |\n",
      "|AL           |28    |\n",
      "|MS           |27    |\n",
      "|RN           |23    |\n",
      "|PA           |18    |\n",
      "|PB           |17    |\n",
      "|SE           |14    |\n",
      "+-------------+------+\n",
      "only showing top 20 rows\n",
      "\n",
      "\n",
      "### Frequência para: FILIAL ###\n",
      "+------+-----+\n",
      "|FILIAL|count|\n",
      "+------+-----+\n",
      "|1000  |27613|\n",
      "|56    |12861|\n",
      "|18    |11680|\n",
      "|32    |11246|\n",
      "|49    |9314 |\n",
      "|54    |8851 |\n",
      "|86    |8089 |\n",
      "|4     |8019 |\n",
      "|25    |7190 |\n",
      "|140   |7147 |\n",
      "|70    |6966 |\n",
      "|74    |6759 |\n",
      "|71    |6700 |\n",
      "|60    |6574 |\n",
      "|79    |6453 |\n",
      "|135   |6449 |\n",
      "|6     |6435 |\n",
      "|33    |6383 |\n",
      "|165   |6321 |\n",
      "|65    |6247 |\n",
      "+------+-----+\n",
      "only showing top 20 rows\n",
      "\n",
      "\n",
      "### Frequência para: BLACKLIST ###\n",
      "+---------+------+\n",
      "|BLACKLIST|count |\n",
      "+---------+------+\n",
      "|NAO      |540362|\n",
      "|SIM      |1410  |\n",
      "+---------+------+\n",
      "\n",
      "\n",
      "### Frequência para: SITUACAO_CONTA ###\n",
      "+--------------+------+\n",
      "|SITUACAO_CONTA|count |\n",
      "+--------------+------+\n",
      "|Ativa         |272233|\n",
      "|Cancelada     |148908|\n",
      "|Bloqueada     |120631|\n",
      "+--------------+------+\n",
      "\n",
      "\n",
      "### Frequência para: MOTIVO_SITUACAO_CONTA ###\n",
      "+---------------------+------+\n",
      "|MOTIVO_SITUACAO_CONTA|count |\n",
      "+---------------------+------+\n",
      "|NULL                 |218642|\n",
      "|INATIVIDADE          |142019|\n",
      "|ATRASO B             |107527|\n",
      "|PAGTO                |53394 |\n",
      "|LIBERA/BLOQ CARTAO   |7372  |\n",
      "|CANCELADO            |6932  |\n",
      "|ATRASO               |5081  |\n",
      "|CANCELADOATRASO      |658   |\n",
      "|DESBLOQUEIO          |144   |\n",
      "|REATIVACAO           |3     |\n",
      "+---------------------+------+\n",
      "\n",
      "\n",
      "### Frequência para: CANAL_ORIGEM ###\n",
      "+------------+------+\n",
      "|CANAL_ORIGEM|count |\n",
      "+------------+------+\n",
      "|Fisico      |513147|\n",
      "|Digital     |28625 |\n",
      "+------------+------+\n",
      "\n",
      "\n",
      "### Frequência para: NIVEL_DE_RISCO ###\n",
      "+--------------+-----+\n",
      "|NIVEL_DE_RISCO|count|\n",
      "+--------------+-----+\n",
      "|A1            |72166|\n",
      "|A2            |46867|\n",
      "|A3            |29917|\n",
      "|N6            |29380|\n",
      "|N8            |23112|\n",
      "|A4            |21176|\n",
      "|N3            |20862|\n",
      "|N4            |20860|\n",
      "|N5            |20663|\n",
      "|N9            |20126|\n",
      "|N11           |19601|\n",
      "|A20           |19295|\n",
      "|N10           |17609|\n",
      "|N13           |17237|\n",
      "|A5            |16441|\n",
      "|N12           |16285|\n",
      "|N7            |15935|\n",
      "|A6            |13331|\n",
      "|N1            |11949|\n",
      "|A7            |10236|\n",
      "+--------------+-----+\n",
      "only showing top 20 rows\n",
      "\n",
      "\n",
      "### Frequência para: ORIGEM_SCORE ###\n",
      "+------------+------+\n",
      "|ORIGEM_SCORE|count |\n",
      "+------------+------+\n",
      "|EXTERNO, SPC|200513|\n",
      "|BEHAVIOR    |172320|\n",
      "|INTERNO     |103584|\n",
      "|EXTERNO, BVS|32302 |\n",
      "|Externo, SPC|12669 |\n",
      "|Externo, BVS|11069 |\n",
      "|Interno     |9181  |\n",
      "|SPCBRASIL   |83    |\n",
      "|Externo, spc|50    |\n",
      "|NULL        |1     |\n",
      "+------------+------+\n",
      "\n",
      "\n",
      "### Frequência para: ORIGEM_ALTERACAO_LIMITE ###\n",
      "+-----------------------+------+\n",
      "|ORIGEM_ALTERACAO_LIMITE|count |\n",
      "+-----------------------+------+\n",
      "|Alteracao              |452761|\n",
      "|Primeiro Limite        |39002 |\n",
      "|NULL                   |26093 |\n",
      "|Reavaliacao            |20197 |\n",
      "|Behavior               |3719  |\n",
      "+-----------------------+------+\n",
      "\n",
      "\n",
      "### Frequência para: HISTORICO_ALTERACAO ###\n",
      "+---------------------+------+\n",
      "|HISTORICO_ALTERACAO  |count |\n",
      "+---------------------+------+\n",
      "|ATUALIZACAO DE SALDO |272152|\n",
      "|REDUCAO DE LIMITES   |219611|\n",
      "|NULL                 |26093 |\n",
      "|REAVALIACAO DE LIMITE|20197 |\n",
      "|BEHAVIOR             |3719  |\n",
      "+---------------------+------+\n",
      "\n",
      "\n",
      "### Frequência para: SITUACAO_FATURA ###\n",
      "+---------------+------+\n",
      "|SITUACAO_FATURA|count |\n",
      "+---------------+------+\n",
      "|L              |230319|\n",
      "|NULL           |188145|\n",
      "|A              |122349|\n",
      "|P              |959   |\n",
      "+---------------+------+\n",
      "\n",
      "\n",
      "### Frequência para: HISTORICO_COBRANCA ###\n",
      "+----------------------------------------------------------+------+\n",
      "|HISTORICO_COBRANCA                                        |count |\n",
      "+----------------------------------------------------------+------+\n",
      "|NULL                                                      |534877|\n",
      "|17                                                        |2306  |\n",
      "|139                                                       |1220  |\n",
      "|0135, 0017                                                |957   |\n",
      "|0017, 0135                                                |661   |\n",
      "|0017, 0017                                                |390   |\n",
      "|0017, 0017, 0017                                          |201   |\n",
      "|9001                                                      |182   |\n",
      "|0017, 0017, 0017, 0017                                    |102   |\n",
      "|0139, 0139                                                |76    |\n",
      "|0017, 0017, 0135                                          |56    |\n",
      "|0017, 0017, 0017, 0017, 0017                              |52    |\n",
      "|0017, 0135, 0017                                          |48    |\n",
      "|0017, 0017, 0017, 0017, 0017, 0017                        |45    |\n",
      "|0135, 0017, 0017                                          |36    |\n",
      "|0017, 0017, 0017, 0017, 0017, 0017, 0017, 0017            |29    |\n",
      "|0017, 0017, 0017, 0017, 0017, 0017, 0017, 0017, 0017      |25    |\n",
      "|0017, 0017, 0017, 0017, 0017, 0017, 0017                  |24    |\n",
      "|0135, 0135, 0017                                          |22    |\n",
      "|0017, 0017, 0017, 0017, 0017, 0017, 0017, 0017, 0017, 0017|21    |\n",
      "+----------------------------------------------------------+------+\n",
      "only showing top 20 rows\n",
      "\n"
     ]
    }
   ],
   "source": [
    "# tabela de frequencia\n",
    "col_cat = [\n",
    "        \"SEXO\",\n",
    "        \"ESTADO_CIVIL\",\n",
    "        \"GRAU_ESCOLARIDADE\",\n",
    "        \"NATUREZA_OCUPACAO\",\n",
    "        \"NACIONALIDADE\",\n",
    "        \"UF_NASCIMENTO\",\n",
    "        \"UF_RESIDENCIA\",\n",
    "        \"FILIAL\",\n",
    "        \"BLACKLIST\",\n",
    "        \"SITUACAO_CONTA\",\n",
    "        \"MOTIVO_SITUACAO_CONTA\",\n",
    "        \"CANAL_ORIGEM\",\n",
    "        \"NIVEL_DE_RISCO\",\n",
    "        \"ORIGEM_SCORE\",\n",
    "        \"ORIGEM_ALTERACAO_LIMITE\",\n",
    "        \"HISTORICO_ALTERACAO\",\n",
    "        \"SITUACAO_FATURA\",\n",
    "        \"HISTORICO_COBRANCA\"]\n",
    "\n",
    "# loop\n",
    "for col_nome in col_cat:\n",
    "    print(f\"\\n### Frequência para: {col_nome} ###\")\n",
    "    df_cad.groupBy(col_nome).count().orderBy(\"count\", ascending=False).show(truncate=False)"
   ]
  },
  {
   "cell_type": "code",
   "execution_count": 62,
   "id": "73452236",
   "metadata": {},
   "outputs": [
    {
     "data": {
      "text/plain": [
       "'# Excel\\nwith pd.ExcelWriter(\"Ana_Exp_Cadastro_.xlsx\", engine=\"xlsxwriter\") as writer:\\n    for nome, df_spark in tab_freq.items():\\n        df_cad_new_pandas = df_spark.toPandas() # pandas\\n        aba = nome[:31] if len(nome) > 31 else nome # para variáveis com nomes grandes, mas não é o caso \\n        df_cad_new_pandas.to_excel(writer, sheet_name=aba, index=False)'"
      ]
     },
     "execution_count": 62,
     "metadata": {},
     "output_type": "execute_result"
    }
   ],
   "source": [
    "# armazenar as tabelas\n",
    "tab_freq = {}\n",
    "\n",
    "for col_nome in col_cat:\n",
    "    df_freq = df_cad.groupBy(col_nome).count().orderBy(\"count\", ascending=False)\n",
    "    tab_freq[col_nome] = df_freq\n",
    "\n",
    "'''# Excel\n",
    "with pd.ExcelWriter(\"Ana_Exp_Cadastro_.xlsx\", engine=\"xlsxwriter\") as writer:\n",
    "    for nome, df_spark in tab_freq.items():\n",
    "        df_cad_new_pandas = df_spark.toPandas() # pandas\n",
    "        aba = nome[:31] if len(nome) > 31 else nome # para variáveis com nomes grandes, mas não é o caso \n",
    "        df_cad_new_pandas.to_excel(writer, sheet_name=aba, index=False)'''"
   ]
  },
  {
   "cell_type": "code",
   "execution_count": 65,
   "id": "35c69baa",
   "metadata": {},
   "outputs": [
    {
     "name": "stdout",
     "output_type": "stream",
     "text": [
      "+-----+--------------+------------+-----------------------------+------------------------------+-----------------------------+-----+------------+--------------+------------+-------------+----------------------+------------------------+----------------------+-----------------------+-----------------------+-------------------------+-----------------------+------------------------+\n",
      "|IDADE|RENDA_DIGITADA|RENDA_VALIDA|TEMPO_RELACIONAMENTO_KREDILIG|TEMPO_INATIVIDADE_CONTA_CARTAO|TEMPO_INATIVIDADE_CONTA_CARNE|SCORE|LIMITE_TOTAL|LIMITE_A_VISTA|LIMITE_SAQUE|LIMITE_MENSAL|LIMITE_TOTAL_UTILIZADO|LIMITE_A_VISTA_UTILIZADO|LIMITE_SAQUE_UTILIZADO|LIMITE_MENSAL_UTILIZADO|LIMITE_TOTAL_DISPONIVEL|LIMITE_A_VISTA_DISPONIVEL|LIMITE_SAQUE_DISPONIVEL|LIMITE_MENSAL_DISPONIVEL|\n",
      "+-----+--------------+------------+-----------------------------+------------------------------+-----------------------------+-----+------------+--------------+------------+-------------+----------------------+------------------------+----------------------+-----------------------+-----------------------+-------------------------+-----------------------+------------------------+\n",
      "|    0|             0|      468548|                          200|                         21756|                        11268|  415|      273506|        273506|      315284|       273507|                365701|                  364753|                481135|                 365684|                 274931|                   275221|                 319586|                  275011|\n",
      "+-----+--------------+------------+-----------------------------+------------------------------+-----------------------------+-----+------------+--------------+------------+-------------+----------------------+------------------------+----------------------+-----------------------+-----------------------+-------------------------+-----------------------+------------------------+\n",
      "\n"
     ]
    }
   ],
   "source": [
    "## Zeros em variáveis numéricas\n",
    "df_cad.select([\n",
    "    sum((col(c) == 0).cast(\"int\")).alias(c)\n",
    "    for c in col_numerica\n",
    "]).show()"
   ]
  },
  {
   "cell_type": "code",
   "execution_count": 67,
   "id": "8d3a4676",
   "metadata": {},
   "outputs": [
    {
     "data": {
      "text/plain": [
       "31832"
      ]
     },
     "execution_count": 67,
     "metadata": {},
     "output_type": "execute_result"
    }
   ],
   "source": [
    "df_cad.filter((col(\"TEMPO_RELACIONAMENTO_KREDILIG\")<180)).count() # Categorizar novos associados"
   ]
  },
  {
   "cell_type": "code",
   "execution_count": 70,
   "id": "e0cea851",
   "metadata": {},
   "outputs": [
    {
     "name": "stdout",
     "output_type": "stream",
     "text": [
      "+-------------------+--------------+---------------+----+-----+------------+------------------------------+-------------------------------------------------+--------------+------------+-------------+-------------+-----------------+-------------+-----------------+------+-----------------------------+------------------------------+-----------------------------+---------+-------------------+--------------+---------------------+------------+--------------+-----+------------+------------+--------------+------------+-------------+----------------------+------------------------+----------------------+-----------------------+-----------------------+-------------------------+-----------------------+------------------------+----------------------------+-----------------------+--------------------+---------------+------------------+\n",
      "|ANO_MES_MOVIMENTO  |DATA_MOVIMENTO|CPF_CNPJ       |SEXO|IDADE|ESTADO_CIVIL|GRAU_ESCOLARIDADE             |NATUREZA_OCUPACAO                                |RENDA_DIGITADA|RENDA_VALIDA|NACIONALIDADE|UF_NASCIMENTO|CIDADE_NASCIMENTO|UF_RESIDENCIA|CIDADE_RESIDENCIA|FILIAL|TEMPO_RELACIONAMENTO_KREDILIG|TEMPO_INATIVIDADE_CONTA_CARTAO|TEMPO_INATIVIDADE_CONTA_CARNE|BLACKLIST|DATA_ABERTURA_CONTA|SITUACAO_CONTA|MOTIVO_SITUACAO_CONTA|CANAL_ORIGEM|NIVEL_DE_RISCO|SCORE|ORIGEM_SCORE|LIMITE_TOTAL|LIMITE_A_VISTA|LIMITE_SAQUE|LIMITE_MENSAL|LIMITE_TOTAL_UTILIZADO|LIMITE_A_VISTA_UTILIZADO|LIMITE_SAQUE_UTILIZADO|LIMITE_MENSAL_UTILIZADO|LIMITE_TOTAL_DISPONIVEL|LIMITE_A_VISTA_DISPONIVEL|LIMITE_SAQUE_DISPONIVEL|LIMITE_MENSAL_DISPONIVEL|DATA_ULTIMA_ALTERACAO_LIMITE|ORIGEM_ALTERACAO_LIMITE|HISTORICO_ALTERACAO |SITUACAO_FATURA|HISTORICO_COBRANCA|\n",
      "+-------------------+--------------+---------------+----+-----+------------+------------------------------+-------------------------------------------------+--------------+------------+-------------+-------------+-----------------+-------------+-----------------+------+-----------------------------+------------------------------+-----------------------------+---------+-------------------+--------------+---------------------+------------+--------------+-----+------------+------------+--------------+------------+-------------+----------------------+------------------------+----------------------+-----------------------+-----------------------+-------------------------+-----------------------+------------------------+----------------------------+-----------------------+--------------------+---------------+------------------+\n",
      "|2025-06-01 00:00:00|2025-06-09    |5.355531962E9  |M   |38   |SOLTEIRO    |ENSINO MEDIO 2� GRAU COM      |EMPREGADO SETOR PRIVADO,EXCETO INSTITUICAO FINANC|6000.0        |272200.0    |BRASILEIRO   |PR           |UNIAO DA VITORIA |SC           |FLORIANOPOLIS    |109   |47                           |47                            |47                           |NAO      |2025-04-23         |Ativa         |NULL                 |Fisico      |N1            |983.0|EXTERNO, SPC|9000.0      |1620.0        |3600.0      |500.0        |11364.0               |947.0                   |0.0                   |947.0                  |-2364.0                |673.0                    |3600.0                 |-447.0                  |2025-04-23                  |Alteracao              |ATUALIZACAO DE SALDO|A              |NULL              |\n",
      "|2025-06-01 00:00:00|2025-06-09    |9.597228904E9  |M   |29   |NULL        |ENSINO FUNDAMENTA 1� GRAU COMP|EMPREGADO SETOR PRIVADO,EXCETO INSTITUICAO FINANC|1.920014537E8 |0.0         |BRASILEIRO   |SC           |RIO NEGRINHO     |SC           |RIO NEGRINHO     |136   |2085                         |510                           |649                          |NAO      |2019-09-24         |Bloqueada     |ATRASO B             |Fisico      |N9            |690.0|EXTERNO, SPC|0.0         |0.0           |0.0         |0.0          |0.0                   |0.0                     |0.0                   |0.0                    |0.0                    |0.0                      |0.0                    |0.0                     |2022-06-23                  |Alteracao              |ATUALIZACAO DE SALDO|A              |NULL              |\n",
      "|2025-06-01 00:00:00|2025-06-09    |2.4434489836E10|M   |32   |SOLTEIRO    |ENSINO MEDIO 2� GRAU COM      |EMPREGADO SETOR PRIVADO,EXCETO INSTITUICAO FINANC|2336.0        |233600.0    |ESTRANGEIRO  |XX           |MARROCOS         |SC           |BRACO DO NORTE   |181   |538                          |31                            |31                           |NAO      |2023-12-19         |Ativa         |NULL                 |Fisico      |A2            |934.0|BEHAVIOR    |1440.0      |259.2         |0.0         |144.0        |1410.0                |282.0                   |0.0                   |117.5                  |30.0                   |-22.8                    |0.0                    |26.5                    |2025-05-09                  |Alteracao              |ATUALIZACAO DE SALDO|NULL           |NULL              |\n",
      "+-------------------+--------------+---------------+----+-----+------------+------------------------------+-------------------------------------------------+--------------+------------+-------------+-------------+-----------------+-------------+-----------------+------+-----------------------------+------------------------------+-----------------------------+---------+-------------------+--------------+---------------------+------------+--------------+-----+------------+------------+--------------+------------+-------------+----------------------+------------------------+----------------------+-----------------------+-----------------------+-------------------------+-----------------------+------------------------+----------------------------+-----------------------+--------------------+---------------+------------------+\n",
      "\n"
     ]
    }
   ],
   "source": [
    "df_cad.filter(\n",
    "    (col(\"CPF_CNPJ\")==\"5355531962\")|\n",
    "    (col(\"CPF_CNPJ\")==\"24434489836\")|\n",
    "    (col(\"CPF_CNPJ\")==\"9597228904\")             \n",
    "    ).show(200,truncate=False) # Categorizar novos associados"
   ]
  },
  {
   "cell_type": "code",
   "execution_count": 72,
   "id": "fc535e9a",
   "metadata": {},
   "outputs": [
    {
     "data": {
      "text/plain": [
       "23107"
      ]
     },
     "execution_count": 72,
     "metadata": {},
     "output_type": "execute_result"
    }
   ],
   "source": [
    "df_cad.filter(\n",
    "    (col(\"LIMITE_TOTAL_UTILIZADO\")<0)|\n",
    "    (col(\"LIMITE_A_VISTA_UTILIZADO\")<0)|\n",
    "    (col(\"LIMITE_MENSAL_UTILIZADO\")<0) |\n",
    "    (col(\"LIMITE_SAQUE_UTILIZADO\")<0) | \n",
    "    (col(\"LIMITE_TOTAL_DISPONIVEL\")<0) |  \n",
    "    (col(\"LIMITE_A_VISTA_DISPONIVEL\")<0) |  \n",
    "    (col(\"LIMITE_SAQUE_DISPONIVEL\")<0) |       \n",
    "    (col(\"LIMITE_MENSAL_DISPONIVEL\")<0) \n",
    "    ).count() # Categorizar novos associados"
   ]
  },
  {
   "cell_type": "code",
   "execution_count": null,
   "id": "80d53460",
   "metadata": {},
   "outputs": [
    {
     "data": {
      "text/plain": [
       "'## Funções de agregação mean, min, max, median, count, countDistinct,stddev\\ndf_cad_new.agg(min(\"TEMPO_RELACIONAMENTO_KREDILIG\").alias(\"Mínimo\"),            median(\"TEMPO_RELACIONAMENTO_KREDILIG\").alias(\"Mediana\"),            max(\"TEMPO_RELACIONAMENTO_KREDILIG\").alias(\"Máximo\"),            mean(\"TEMPO_RELACIONAMENTO_KREDILIG\").alias(\"Média\"),            stddev(\"TEMPO_RELACIONAMENTO_KREDILIG\").alias(\"Desvio Padrão\"),            count(\\'TEMPO_RELACIONAMENTO_KREDILIG\\').alias(\"Qtd\")\\n            ).show(truncate=False)## Toda a variável'"
      ]
     },
     "execution_count": 73,
     "metadata": {},
     "output_type": "execute_result"
    }
   ],
   "source": [
    "'''## Funções de agregação mean, min, max, median, count, countDistinct,stddev\n",
    "df_cad.agg(min(\"TEMPO_RELACIONAMENTO_KREDILIG\").alias(\"Mínimo\"),\\\n",
    "            median(\"TEMPO_RELACIONAMENTO_KREDILIG\").alias(\"Mediana\"),\\\n",
    "            max(\"TEMPO_RELACIONAMENTO_KREDILIG\").alias(\"Máximo\"),\\\n",
    "            mean(\"TEMPO_RELACIONAMENTO_KREDILIG\").alias(\"Média\"),\\\n",
    "            stddev(\"TEMPO_RELACIONAMENTO_KREDILIG\").alias(\"Desvio Padrão\"),\\\n",
    "            count('TEMPO_RELACIONAMENTO_KREDILIG').alias(\"Qtd\")\n",
    "            ).show(truncate=False)## Toda a variável'''"
   ]
  },
  {
   "cell_type": "code",
   "execution_count": 74,
   "id": "fcea5415",
   "metadata": {},
   "outputs": [
    {
     "name": "stdout",
     "output_type": "stream",
     "text": [
      "+---------+---------+-------+---------+-------------+----------+-------------+---------+------+--------------------+\n",
      "|   Mínimo|1 Quartil|Mediana|3 Quartil|       Máximo|     Média|Desvio Padrão|   CV (%)|   Qtd|            Variável|\n",
      "+---------+---------+-------+---------+-------------+----------+-------------+---------+------+--------------------+\n",
      "|     18.0|     37.0|   51.0|     63.0|        106.0|   50.5331|      16.3532|  32.3615|541772|               IDADE|\n",
      "|     0.01|  1703.15| 2500.0|   3500.0|1.920014537E8| 3439.5807|  263713.6658|7667.0294|541772|      RENDA_DIGITADA|\n",
      "|      0.0|      0.0|    0.0|      0.0|    2611128.0|22774.8171|    72808.418| 319.6883|541772|        RENDA_VALIDA|\n",
      "|      0.0|    730.0| 1619.0|   2449.0|       3714.0|  1635.031|    1003.3617|  61.3665|541772|TEMPO_RELACIONAME...|\n",
      "|      0.0|     25.0|  308.0|    833.0|       3685.0|  611.0911|     784.1448| 128.3188|541772|TEMPO_INATIVIDADE...|\n",
      "|      0.0|     41.0|  609.0|   1369.0|       3685.0|  804.6303|     836.0536| 103.9053|541772|TEMPO_INATIVIDADE...|\n",
      "|      0.0|    721.0|  880.0|    960.0|       1000.0|  813.0902|     188.2869|   23.157|541772|               SCORE|\n",
      "|      0.0|      0.0|    0.0|   6750.0|     100000.0|  3809.905|    5556.3962| 145.8408|541772|        LIMITE_TOTAL|\n",
      "|      0.0|      0.0|    0.0|   1215.0|     100000.0|  665.5587|    1004.8276| 150.9751|541772|      LIMITE_A_VISTA|\n",
      "|      0.0|      0.0|    0.0|   2194.0|      40000.0| 1243.4227|    2012.6427| 161.8631|541772|        LIMITE_SAQUE|\n",
      "|      0.0|      0.0|    0.0|    400.0|      55000.0|  242.3512|     396.6824| 163.6808|541772|       LIMITE_MENSAL|\n",
      "|  -2990.0|      0.0|    0.0|    912.0|     59785.36| 1247.7569|    3130.1974|  250.866|541772|LIMITE_TOTAL_UTIL...|\n",
      "|  -1345.0|      0.0|    0.0|    170.0|      14103.6|  126.6659|     271.6516| 214.4632|541772|LIMITE_A_VISTA_UT...|\n",
      "| -3049.99|      0.0|    0.0|      0.0|     19997.81|  250.9756|    1019.3049|  406.137|541772|LIMITE_SAQUE_UTIL...|\n",
      "|  -271.82|      0.0|    0.0|     81.6|     12936.44|   76.1619|     171.1716| 224.7469|541772|LIMITE_MENSAL_UTI...|\n",
      "|-43632.77|      0.0|    0.0|   4312.0|     100000.0| 2562.1481|    4402.4744| 171.8275|541772|LIMITE_TOTAL_DISP...|\n",
      "|-10098.44|      0.0|    0.0|    964.0|     100000.0|  538.8928|     867.7955|  161.033|541772|LIMITE_A_VISTA_DI...|\n",
      "|      0.0|      0.0|    0.0|   1656.0|      40000.0|  976.9262|    1673.1119| 171.2629|541772|LIMITE_SAQUE_DISP...|\n",
      "|-12279.44|      0.0|    0.0|   255.72|      55000.0|  166.1893|     347.0411| 208.8228|541772|LIMITE_MENSAL_DIS...|\n",
      "+---------+---------+-------+---------+-------------+----------+-------------+---------+------+--------------------+\n",
      "\n"
     ]
    }
   ],
   "source": [
    "# Medidas descritivas\n",
    "\n",
    "resultados = []\n",
    "for coluna in col_numerica:\n",
    "    resumo= df_cad.agg(\n",
    "        min(col(coluna)).alias(\"Mínimo\"),\n",
    "        expr(f\"percentile_approx({coluna}, 0.25)\").alias(\"1 Quartil\"),\n",
    "        expr(f\"percentile_approx({coluna}, 0.5)\").alias(\"Mediana\"),\n",
    "        expr(f\"percentile_approx({coluna}, 0.75)\").alias(\"3 Quartil\"),\n",
    "        max(col(coluna)).alias(\"Máximo\"),\n",
    "        round(mean(col(coluna)),4).alias(\"Média\"),\n",
    "        round(stddev(col(coluna)),4).alias(\"Desvio Padrão\"),\n",
    "        round((stddev(col(coluna))/mean(col(coluna)))*100,4).alias(\"CV (%)\"),\n",
    "        count(col(coluna)).alias(\"Qtd\")\n",
    "        ).withColumn(\"Variável\", lit(coluna))\n",
    "    resultados.append(resumo)\n",
    "\n",
    "df_resumo = resultados[0]\n",
    "for r in resultados[1:]:\n",
    "    df_resumo = df_resumo.union(r)\n",
    "\n",
    "df_resumo.show()\n",
    "\n",
    "df_resumo_pd = df_resumo.toPandas()\n",
    "df_resumo_pd.to_excel(\"medidas_descritivas_Cad.xlsx\", index=False)"
   ]
  },
  {
   "cell_type": "code",
   "execution_count": null,
   "id": "c8fecd44",
   "metadata": {},
   "outputs": [],
   "source": [
    "### PAREI AQUI\n",
    "\n",
    "coluna = \"IDADE\"\n",
    "\n",
    "# Histograma \n",
    "df_cad_pandas = df_cad.toPandas()\n",
    "\n",
    "# histograma\n",
    "plot.hist(df_cad_pandas[coluna],alpha=0.8, color='blue',edgecolor='black')\n",
    "plot.xlabel(\"Variável\")\n",
    "plot.ylabel(\"Frequência\")\n",
    "plot.title(\"Histograma\")\n",
    "plot.grid(True, which='both', linestyle='--', linewidth=0.5, color='gray', axis='both')\n",
    "plot.show()"
   ]
  },
  {
   "cell_type": "code",
   "execution_count": null,
   "id": "1529dafe",
   "metadata": {},
   "outputs": [
    {
     "data": {
      "image/png": "[encoded data removed]",
      "text/plain": [
       "<Figure size 800x600 with 1 Axes>"
      ]
     },
     "metadata": {},
     "output_type": "display_data"
    }
   ],
   "source": [
    "# boxplot\n",
    "df_cad_pandas.boxplot(column=coluna, figsize=(8, 6))\n",
    "plot.title('Box Plot')\n",
    "plot.ylabel('Valores')\n",
    "plot.show()"
   ]
  },
  {
   "cell_type": "code",
   "execution_count": null,
   "id": "99c20b57",
   "metadata": {},
   "outputs": [
    {
     "name": "stdout",
     "output_type": "stream",
     "text": [
      "Outliers\n"
     ]
    },
    {
     "data": {
      "text/plain": [
       "47344"
      ]
     },
     "metadata": {},
     "output_type": "display_data"
    }
   ],
   "source": [
    "# Identificando outiliers\n",
    "\n",
    "quantis = df_cad_new.approxQuantile(coluna, [0.25, 0.75], 0.0)\n",
    "Q1, Q3 = quantis\n",
    "IQR = Q3 - Q1\n",
    "\n",
    "LI = Q1 - 1.5 * IQR\n",
    "LS = Q3 + 1.5 * IQR\n",
    "\n",
    "outliers = df_cad_new.filter((col(coluna) < LI) | (col(coluna) > LS))\n",
    "print(\"Outliers\")\n",
    "outliers.orderBy(coluna, ascending=False).count()"
   ]
  },
  {
   "cell_type": "code",
   "execution_count": null,
   "id": "4a1ed38b",
   "metadata": {},
   "outputs": [
    {
     "data": {
      "image/png": "[encoded data removed]",
      "text/plain": [
       "<Figure size 600x400 with 1 Axes>"
      ]
     },
     "metadata": {},
     "output_type": "display_data"
    }
   ],
   "source": [
    "# Gráfico de dispersão\n",
    "df_plot = df_cad_new.select(coluna).dropna().toPandas()\n",
    "\n",
    "plot.figure(figsize=(6, 4))\n",
    "plot.plot(df_plot[coluna], 'o', color='steelblue', alpha=0.7)\n",
    "plot.ylabel(\"Valores\")\n",
    "plot.title(\"Gráfico de Dispersão\")\n",
    "plot.grid(True, linestyle='--', alpha=0.5)\n",
    "plot.tight_layout()\n",
    "plot.show()"
   ]
  }
 ],
 "metadata": {
  "kernelspec": {
   "display_name": ".venv",
   "language": "python",
   "name": "python3"
  },
  "language_info": {
   "codemirror_mode": {
    "name": "ipython",
    "version": 3
   },
   "file_extension": ".py",
   "mimetype": "text/x-python",
   "name": "python",
   "nbconvert_exporter": "python",
   "pygments_lexer": "ipython3",
   "version": "3.12.4"
  }
 },
 "nbformat": 4,
 "nbformat_minor": 5
}
